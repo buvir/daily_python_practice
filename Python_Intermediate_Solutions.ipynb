{
  "cells": [
    {
      "cell_type": "markdown",
      "metadata": {
        "id": "view-in-github",
        "colab_type": "text"
      },
      "source": [
        "<a href=\"https://colab.research.google.com/github/buvir/daily_python_practice/blob/main/Python_Intermediate_Solutions.ipynb\" target=\"_parent\"><img src=\"https://colab.research.google.com/assets/colab-badge.svg\" alt=\"Open In Colab\"/></a>"
      ]
    },
    {
      "cell_type": "markdown",
      "metadata": {
        "id": "4GtRwPajWtgH"
      },
      "source": [
        "# <center><u> Python-Intermediate </u></center>\n"
      ]
    },
    {
      "cell_type": "markdown",
      "metadata": {
        "id": "qnfR62KaWtgM"
      },
      "source": [
        "Here you can start digging into our intermediate-level programming questions that will teach you new Python concepts. This category is for intermediate Python developers who already know the basics of Python development and want to expand their knowledge.\n",
        "\n",
        "\n",
        "\n",
        "Becoming a Python expert takes time, but over time you’ll master this beautiful programming language. It’s worth it!\n",
        "\n",
        "\n",
        "So lets get started!"
      ]
    },
    {
      "cell_type": "markdown",
      "source": [
        "## **`WATCH VIDEOS IN THE PORTAL`**"
      ],
      "metadata": {
        "id": "aKVNKhLP9W8E"
      }
    },
    {
      "cell_type": "markdown",
      "source": [
        "### **`Watch Video 15: Python Intermediate Tutorial`**"
      ],
      "metadata": {
        "id": "3ay5QkyG9Ay2"
      }
    },
    {
      "cell_type": "markdown",
      "metadata": {
        "id": "hBV6jA72WtgM"
      },
      "source": [
        "1.Lets remove duplicates from list names=['A','B','C','A','D','E','F','G','H','E','D']\n",
        "\n"
      ]
    },
    {
      "cell_type": "code",
      "execution_count": null,
      "metadata": {
        "id": "A32nJBGHWtgN",
        "outputId": "70ca94ab-6615-4c4d-f90d-abd39703c112",
        "colab": {
          "base_uri": "https://localhost:8080/"
        }
      },
      "outputs": [
        {
          "output_type": "stream",
          "name": "stdout",
          "text": [
            "['A', 'B', 'C', 'D', 'E', 'F', 'G', 'H']\n"
          ]
        }
      ],
      "source": [
        "#code here\n",
        "# without list comphrension\n",
        "\n",
        "names=['A','B','C','A','D','E','F','G','H','E','D']\n",
        "ans=[]\n",
        "for i in names:\n",
        "  if i not in ans:\n",
        "    ans.append(i)\n",
        "print(ans)"
      ]
    },
    {
      "cell_type": "markdown",
      "metadata": {
        "id": "3vs-MwqhWtgO"
      },
      "source": [
        "2. Good! Shall we try solving above problem in shhorter way using list comprehention? It will be amazing. Here we go!\n"
      ]
    },
    {
      "cell_type": "code",
      "execution_count": null,
      "metadata": {
        "id": "ngy_ypU2WtgP",
        "outputId": "f1760551-8f97-48f2-d3e7-8164741ac9d2",
        "colab": {
          "base_uri": "https://localhost:8080/"
        }
      },
      "outputs": [
        {
          "output_type": "stream",
          "name": "stdout",
          "text": [
            "['A', 'B', 'C', 'D', 'E', 'F', 'G', 'H']\n"
          ]
        }
      ],
      "source": [
        "#code here\n",
        "# using method list comphresnions\n",
        "\n",
        "ans=[]\n",
        "[ans.append(element)for element in names if element not in ans]\n",
        "print(ans)\n",
        "\n",
        "\n"
      ]
    },
    {
      "cell_type": "markdown",
      "metadata": {
        "id": "kuBGT9n5WtgP"
      },
      "source": [
        "3. define a funtion 'occurence' which takes 2 inputs, one list 'lst' and another one a number 'n' and count the number of occurrences of n in your list lst."
      ]
    },
    {
      "cell_type": "code",
      "execution_count": null,
      "metadata": {
        "id": "W8SL5qfUWtgQ",
        "outputId": "b887980f-517d-4f63-91d8-9da729655af6",
        "colab": {
          "base_uri": "https://localhost:8080/"
        }
      },
      "outputs": [
        {
          "output_type": "execute_result",
          "data": {
            "text/plain": [
              "4"
            ]
          },
          "metadata": {},
          "execution_count": 7
        }
      ],
      "source": [
        "#your code\n",
        "def occurence(l,x):\n",
        "  count=0\n",
        "  for element in l:\n",
        "    if x==element:\n",
        "      count+=1\n",
        "  return count\n",
        "\n",
        "\n",
        "#lets use your function\n",
        "occurence([2,3,4,8,1,3,5,2,1,3,1,2,2], 2)"
      ]
    },
    {
      "cell_type": "markdown",
      "metadata": {
        "id": "vzaaHEIwWtgQ"
      },
      "source": [
        "4. Calculate factorial of a number ( Here number=3) using while loop"
      ]
    },
    {
      "cell_type": "code",
      "execution_count": null,
      "metadata": {
        "id": "3zjPibDmWtgR",
        "outputId": "bee24dca-1b49-4396-9e1d-e3d9a4110574",
        "colab": {
          "base_uri": "https://localhost:8080/"
        }
      },
      "outputs": [
        {
          "output_type": "stream",
          "name": "stdout",
          "text": [
            "6\n"
          ]
        }
      ],
      "source": [
        "number = 3\n",
        "#code here\n",
        "\n",
        "def factorial(n):\n",
        "  ans=1\n",
        "  for i in range(1,n+1):\n",
        "    ans*=i # ans=ans*i\n",
        "  return ans\n",
        "\n",
        "print(factorial(number))\n",
        "\n"
      ]
    },
    {
      "cell_type": "markdown",
      "metadata": {
        "id": "8d4D4cJpWtgR"
      },
      "source": [
        "5. Reverse a given integer number num = 47594038222 and display the count of total number of digits in your revered number using while loop."
      ]
    },
    {
      "cell_type": "code",
      "execution_count": null,
      "metadata": {
        "id": "L5Vs4xTtWtgR",
        "outputId": "bbd5ebd5-db86-44db-aa44-490cf3613e6b",
        "colab": {
          "base_uri": "https://localhost:8080/"
        }
      },
      "outputs": [
        {
          "output_type": "stream",
          "name": "stdout",
          "text": [
            "22283049574 11\n"
          ]
        }
      ],
      "source": [
        "#code here\n",
        "n=47594038222\n",
        "rev=0\n",
        "while n>0:\n",
        "  rem=n%10\n",
        "  rev=rev*10+rem\n",
        "  n=n//10\n",
        "print(rev,len(str(rev)))\n",
        "\n",
        "\n"
      ]
    },
    {
      "cell_type": "markdown",
      "metadata": {
        "id": "9qtxFvU2WtgR"
      },
      "source": [
        "6. Can you reverse you given num without using loop in just one line?\n",
        "\n",
        "Hint: apply some slicing trick to do it."
      ]
    },
    {
      "cell_type": "code",
      "execution_count": null,
      "metadata": {
        "id": "p1eS62ecWtgS",
        "outputId": "a14e18f3-054c-42a3-a403-9f6f671d8af5",
        "colab": {
          "base_uri": "https://localhost:8080/"
        }
      },
      "outputs": [
        {
          "output_type": "stream",
          "name": "stdout",
          "text": [
            "22283049574\n"
          ]
        }
      ],
      "source": [
        "num = 47594038222\n",
        "\n",
        "#one line code here\n",
        "print (str(num)[::-1])\n"
      ]
    },
    {
      "cell_type": "markdown",
      "metadata": {
        "id": "hurM8KcSWtgS"
      },
      "source": [
        "7. Write a function that checks whether a given sequence of number is IP address or not and print all valid possible IP from a given digit. If not an IP then it prints empty list\n",
        "\n",
        "**Note:** According to Wikipedia, IPv4 addresses are canonically represented in dot-decimal notation, which consists of four decimal numbers, each ranging from 0 to 255, separated by dots, e.g., 172.16.254.1"
      ]
    },
    {
      "cell_type": "markdown",
      "source": [
        "### **`WATCH VIDEO 16: IP Address Problem`**"
      ],
      "metadata": {
        "id": "_7itjOoi9hII"
      }
    },
    {
      "cell_type": "code",
      "execution_count": null,
      "metadata": {
        "id": "oNIW7VyFWtgS",
        "outputId": "0bce6af6-36bb-4a75-9c9d-13c7bd589291"
      },
      "outputs": [
        {
          "name": "stdout",
          "output_type": "stream",
          "text": [
            "['255.255.11.135', '255.255.111.35']\n",
            "[]\n"
          ]
        }
      ],
      "source": [
        "#Code here\n",
        "\n",
        "\n",
        "\n",
        "\n",
        "\n",
        "\n",
        "\n",
        "\n",
        "# Check your code with below numbers\n",
        "A = \"25525511135\"\n",
        "B = \"25505011536\"\n",
        "\n",
        "\n",
        "\n",
        "\n"
      ]
    },
    {
      "cell_type": "code",
      "source": [
        "def restore_ip_addresses(s):\n",
        "    def is_valid(segment):\n",
        "        # Check if the segment is valid:\n",
        "        # 1. length should be 1-3\n",
        "        # 2. no leading zeros unless segment is '0'\n",
        "        # 3. numeric value <= 255\n",
        "        if len(segment) > 1 and segment[0] == '0':\n",
        "            return False\n",
        "        return int(segment) <= 255\n",
        "\n",
        "    n = len(s)\n",
        "    res = []\n",
        "    # Iterate over all possible positions for the 3 dots\n",
        "    for i in range(1, min(4, n - 2)):\n",
        "        for j in range(i + 1, min(i + 4, n - 1)):\n",
        "            for k in range(j + 1, min(j + 4, n)):\n",
        "                seg1 = s[:i]\n",
        "                seg2 = s[i:j]\n",
        "                seg3 = s[j:k]\n",
        "                seg4 = s[k:]\n",
        "                if all(is_valid(seg) for seg in [seg1, seg2, seg3, seg4]):\n",
        "                    ip = f\"{seg1}.{seg2}.{seg3}.{seg4}\"\n",
        "                    res.append(ip)\n",
        "    return res\n",
        "\n",
        "# Test cases\n",
        "A = \"25525511135\"\n",
        "B = \"25505011536\"\n",
        "\n",
        "print(restore_ip_addresses(A))  # Output: ['255.255.11.135', '255.255.111.35']\n",
        "print(restore_ip_addresses(B))  # Output: []"
      ],
      "metadata": {
        "colab": {
          "base_uri": "https://localhost:8080/"
        },
        "id": "dw85zNEzG86D",
        "outputId": "0140c9cb-7cd8-4a53-bb65-b2c103d07e39"
      },
      "execution_count": null,
      "outputs": [
        {
          "output_type": "stream",
          "name": "stdout",
          "text": [
            "['255.255.11.135', '255.255.111.35']\n",
            "[]\n"
          ]
        }
      ]
    },
    {
      "cell_type": "code",
      "source": [
        "a=\"255.255.11.135\"\n",
        "a.split(\".\")"
      ],
      "metadata": {
        "colab": {
          "base_uri": "https://localhost:8080/"
        },
        "id": "qN4ZbpMUH8pn",
        "outputId": "e17d902a-9d4e-463e-8ec3-9373fee45e76"
      },
      "execution_count": null,
      "outputs": [
        {
          "output_type": "execute_result",
          "data": {
            "text/plain": [
              "['255', '255', '11', '135']"
            ]
          },
          "metadata": {},
          "execution_count": 14
        }
      ]
    },
    {
      "cell_type": "markdown",
      "metadata": {
        "id": "FukrdAXMWtgT"
      },
      "source": [
        "8. Solve the quadratic equation ax**2 + bx + c = 0 where a =4, b=6, c=2"
      ]
    },
    {
      "cell_type": "code",
      "execution_count": null,
      "metadata": {
        "id": "wL1sWuYLWtgT",
        "outputId": "e5887f7b-ba45-4e5c-b1fb-0ff8b35adee7",
        "colab": {
          "base_uri": "https://localhost:8080/"
        }
      },
      "outputs": [
        {
          "output_type": "stream",
          "name": "stdout",
          "text": [
            "The solution are -1.0 and -0.5\n"
          ]
        }
      ],
      "source": [
        "#code here\n",
        "\n",
        "import math\n",
        "a=4\n",
        "b=6\n",
        "c=2\n",
        "# calculate the dicriminint\n",
        "d=(b**2)-(4*a*c)\n",
        "# find two solutions\n",
        "sol1=(-b-math.sqrt(d))/(2*a)\n",
        "sol2=(-b+math.sqrt(d))/(2*a)\n",
        "print('The solution are {0} and {1}'.format(sol1,sol2))\n",
        "\n"
      ]
    },
    {
      "cell_type": "markdown",
      "metadata": {
        "id": "6vngA60DWtgT"
      },
      "source": [
        "9. Write a program to Remove Punctuations From a String\n",
        "\n",
        "s=\"Wow!!!, we are going ahead with our course to learn *machine learning* ---are'nt you excited? :)\""
      ]
    },
    {
      "cell_type": "code",
      "execution_count": null,
      "metadata": {
        "id": "gvQfy5kQWtgT",
        "outputId": "743e2944-9273-423d-95da-57687c253f68",
        "colab": {
          "base_uri": "https://localhost:8080/"
        }
      },
      "outputs": [
        {
          "output_type": "stream",
          "name": "stdout",
          "text": [
            "Wow     we are going ahead with our course to learn  machine learning     are nt you excited    \n"
          ]
        }
      ],
      "source": [
        "from string import punctuation\n",
        "# code here\n",
        "# defining the puntiuations to be removed\n",
        "punctuation=''' ,./;:''{}[]/?)(*&^%$#@!--) '''\n",
        "input_str=\"Wow!!!, we are going ahead with our course to learn *machine learning* ---are'nt you excited? :)\"\n",
        "\n",
        "# put edited string in edited str\n",
        "new_str=input_str\n",
        "for i in input_str:\n",
        "  if i in punctuation:\n",
        "    new_str=new_str.replace(i,\" \")\n",
        "\n",
        "# display the unpuncatated string\n",
        "print(new_str)\n"
      ]
    },
    {
      "cell_type": "markdown",
      "metadata": {
        "id": "aCJgsvWKWtgU"
      },
      "source": [
        "10. Write a program which takes 2 digits, X,Y as input and generates a 2-dimensional array. The element value in the i-th row and j-th column of the array should be i*j.\n",
        "\n",
        "Note: i=0,1.., X-1; j=0,1,i^Y-1."
      ]
    },
    {
      "cell_type": "code",
      "execution_count": null,
      "metadata": {
        "id": "BAh26WXlWtgU",
        "outputId": "fd2902d0-a251-48c5-9f50-61d2224a1f92",
        "colab": {
          "base_uri": "https://localhost:8080/"
        }
      },
      "outputs": [
        {
          "output_type": "stream",
          "name": "stdout",
          "text": [
            "[[0, 0, 0, 0], [0, 1, 2, 3], [0, 2, 4, 6]]\n"
          ]
        }
      ],
      "source": [
        "digit1=3\n",
        "digit2=4\n",
        "\n",
        "#code here\n",
        "\n",
        "mulitlist=[[0 for col in range(digit2)] for row in range(digit1)]\n",
        "for i in range(digit1):\n",
        "  for j in range(digit2):\n",
        "    mulitlist[i][j]=i*j\n",
        "print(mulitlist)\n",
        "\n",
        "\n"
      ]
    },
    {
      "cell_type": "markdown",
      "metadata": {
        "id": "sZrc0--VWtgV"
      },
      "source": [
        "11. For given string S and integers P and Q, which denotes the cost of removal of substrings “he” and “lo” respectively from S, the task is to find the maximum cost of removing all occurrences of substrings “he” and “lo”.\n",
        "\n",
        "example if S = “hellohellohellohellohello”, P = 6, Q = 4, then cost to remove 'he' and 'lo' is 50"
      ]
    },
    {
      "cell_type": "code",
      "execution_count": null,
      "metadata": {
        "id": "79BMmuVHWtgV",
        "outputId": "92a03381-e5b5-4392-b026-ee2344e93477"
      },
      "outputs": [
        {
          "name": "stdout",
          "output_type": "stream",
          "text": [
            "50\n"
          ]
        }
      ],
      "source": [
        "# code here\n",
        "\n",
        "\n",
        "\n",
        "\n",
        "# Check code with\n",
        "\n",
        "S = \"hellohellohellohellohello\"\n",
        "\n",
        "# Costs\n",
        "P = 6;\n",
        "Q = 4;\n",
        "\n",
        "\n",
        "print(MaxCollection(S, P, Q));"
      ]
    },
    {
      "cell_type": "code",
      "source": [
        "def max_removal_cost(S, P, Q):\n",
        "    def remove_substring(s, first, cost):\n",
        "        stack = []\n",
        "        total = 0\n",
        "        for ch in s:\n",
        "            stack.append(ch)\n",
        "            if len(stack) >= 2 and stack[-2] + stack[-1] == first:\n",
        "                stack.pop()\n",
        "                stack.pop()\n",
        "                total += cost\n",
        "        return ''.join(stack), total\n",
        "\n",
        "    # Strategy 1: Remove \"he\" first, then \"lo\"\n",
        "    temp, cost1 = remove_substring(S, \"he\", P)\n",
        "    _, cost2 = remove_substring(temp, \"lo\", Q)\n",
        "    total1 = cost1 + cost2\n",
        "\n",
        "    # Strategy 2: Remove \"lo\" first, then \"he\"\n",
        "    temp, cost3 = remove_substring(S, \"lo\", Q)\n",
        "    _, cost4 = remove_substring(temp, \"he\", P)\n",
        "    total2 = cost3 + cost4\n",
        "\n",
        "    return max(total1, total2)\n",
        "\n",
        "# Example\n",
        "S = \"hellohellohellohellohello\"\n",
        "P = 6\n",
        "Q = 4\n",
        "print(\"Maximum cost:\", max_removal_cost(S, P, Q))\n"
      ],
      "metadata": {
        "colab": {
          "base_uri": "https://localhost:8080/"
        },
        "id": "TDw66E-07IRw",
        "outputId": "498cdac8-f354-409d-c9e6-5e5de22a9b6f"
      },
      "execution_count": null,
      "outputs": [
        {
          "output_type": "stream",
          "name": "stdout",
          "text": [
            "Maximum cost: 50\n"
          ]
        }
      ]
    },
    {
      "cell_type": "markdown",
      "metadata": {
        "id": "tElaaNPNWtgV"
      },
      "source": [
        "12. Given a binary string S , the task is to find the smallest string possible by removing all occurrences of substrings “01” and “11”. After removal of any substring, concatenate the remaining parts of the string.\n",
        "\n",
        "Example\n",
        "    \n",
        "    Input: S = “0010110”\n",
        "    Output: String = 0\n",
        "    \n",
        "    Explanation: String can be transformed by the following steps:\n",
        "    0010110 → 00110 → 010 → 0.\n",
        "    Since no occurrence of substrings 01 and 11 are remaining, the string “0” is of minimum possible length 1."
      ]
    },
    {
      "cell_type": "code",
      "execution_count": null,
      "metadata": {
        "id": "i9OIbWhoWtgV",
        "outputId": "d880604a-ec3e-4f59-e216-ed069653c225",
        "colab": {
          "base_uri": "https://localhost:8080/"
        }
      },
      "outputs": [
        {
          "output_type": "stream",
          "name": "stdout",
          "text": [
            "The final string is:  0\n",
            "The final string size is:  1\n"
          ]
        }
      ],
      "source": [
        "#code here\n",
        "def final_string(s):\n",
        "  # while \"01\" in s or \"11\" in s:\n",
        "  #   s=s.replace(\"01\",\"\")\n",
        "  #   s=s.replace(\"11\",\"\")\n",
        "  # return s\n",
        "\n",
        "  while len(s)>=2:\n",
        "    for i in range(len(s)):\n",
        "      if (s[i:i+2]==\"01\") |(s[i:i+2]==\"11\"):\n",
        "        s=s.replace(s[i:i+2],\"\")\n",
        "  return s\n",
        "\n",
        "\n",
        "\n",
        "#check code here\n",
        "\n",
        "s=\"0010110\"\n",
        "print (\"The final string is: \",final_string(s))\n",
        "print (\"The final string size is: \",len(final_string(s)))\n",
        "\n",
        "\n"
      ]
    },
    {
      "cell_type": "markdown",
      "metadata": {
        "id": "BYeCBfFUWtgV"
      },
      "source": [
        "13. Write a function such that it accepts two integers n, m as arguments Find the sum of all numbers in range from 1 to m(both inclusive) that are not divisible by n. Return difference between sum of integers not divisible by n with sum of numbers divisible by n\n",
        "\n",
        "Example\n",
        "\n",
        "    Input\n",
        "    n:4\n",
        "    m:20\n",
        "    Output\n",
        "    90"
      ]
    },
    {
      "cell_type": "code",
      "execution_count": null,
      "metadata": {
        "id": "KgO9ShzPWtgV",
        "outputId": "4bef5833-1da7-4da9-bfc2-34826c21e83a",
        "colab": {
          "base_uri": "https://localhost:8080/"
        }
      },
      "outputs": [
        {
          "output_type": "stream",
          "name": "stdout",
          "text": [
            "90\n"
          ]
        }
      ],
      "source": [
        "#code here\n",
        "\n",
        "#Input\n",
        "n,m=4,20\n",
        "sum1=0\n",
        "sum2=0\n",
        "for i in range(1,m+1):\n",
        "  if i%n==0:\n",
        "    sum1+=i\n",
        "  else:\n",
        "    sum2+=i\n",
        "print(abs(sum2-sum1))\n",
        "\n",
        "\n",
        "\n"
      ]
    },
    {
      "cell_type": "markdown",
      "metadata": {
        "id": "GMjx2bfxWtgW"
      },
      "source": [
        "14. Write a function count_code that return the number of times that the string \"code\" appears anywhere in the given string, except we'll accept any letter for the 'd', so \"cope\" and \"cooe\" count.\n",
        "\n",
        "\n",
        "    count_code('aaacodebbb') → 1\n",
        "    count_code('codexxcode') → 2\n",
        "    count_code('cozexxcope') → 2"
      ]
    },
    {
      "cell_type": "code",
      "execution_count": null,
      "metadata": {
        "id": "7G1E7BewWtgW",
        "outputId": "a4920312-b2b8-4655-8b9f-42d8b8426399",
        "colab": {
          "base_uri": "https://localhost:8080/"
        }
      },
      "outputs": [
        {
          "output_type": "stream",
          "name": "stdout",
          "text": [
            "1\n",
            "2\n",
            "2\n"
          ]
        }
      ],
      "source": [
        "#code here\n",
        "def count_code(s):\n",
        "  alphabet='abcdefghijklmnopqrstuvwxyz'\n",
        "  total=0\n",
        "  for letter in alphabet:\n",
        "    total+=s.count('co'+letter+'e')\n",
        "\n",
        "  return total\n",
        "\n",
        "\n",
        "\n",
        "\n",
        "#check your code\n",
        "print(count_code('aaacodebbb'))\n",
        "print(count_code('codexxcode'))\n",
        "print(count_code('cozexxcope'))\n"
      ]
    },
    {
      "cell_type": "markdown",
      "metadata": {
        "id": "wqFNSGkCWtgW"
      },
      "source": [
        "15. Lets have one moderate level question for you.\n",
        "\n",
        "Find the sum of the series 4 +44 + 444 + 4444 + .. n terms\n",
        "\n",
        "here keep n=5"
      ]
    },
    {
      "cell_type": "code",
      "execution_count": 1,
      "metadata": {
        "id": "U4qRCUQFWtgW",
        "outputId": "02b979ac-aa7a-4dc8-db2e-eae121693e6d",
        "colab": {
          "base_uri": "https://localhost:8080/"
        }
      },
      "outputs": [
        {
          "output_type": "stream",
          "name": "stdout",
          "text": [
            "4+44+444+4444\n",
            "4936\n"
          ]
        }
      ],
      "source": [
        "#code here\n",
        "\n",
        "def digit_sum(x):\n",
        "  lst=[str(x)*i for i in range (1,x+1)]\n",
        "  print('+'.join (lst))\n",
        "  return sum([int(i) for i in lst])\n",
        "\n",
        "print(digit_sum(4))\n",
        "\n"
      ]
    },
    {
      "cell_type": "markdown",
      "metadata": {
        "id": "XH_ocrNWWtgY"
      },
      "source": [
        "16. Assume s is a string of lower case characters.\n",
        "<br>\n",
        "Write a program that counts up the number of vowels contained in the string s. Valid vowels are: 'a', 'e', 'i', 'o', and 'u'. For example, if s = 'azcbobobegghakl', your program should print:<br>\n",
        "```Number of vowels: 5```"
      ]
    },
    {
      "cell_type": "code",
      "execution_count": 2,
      "metadata": {
        "id": "7uCQTExKWtgY",
        "outputId": "951f3807-04c7-4419-ff33-8daad338f15e",
        "colab": {
          "base_uri": "https://localhost:8080/"
        }
      },
      "outputs": [
        {
          "output_type": "stream",
          "name": "stdout",
          "text": [
            "Number of vowels:  5\n"
          ]
        }
      ],
      "source": [
        "#code here\n",
        "s = 'azcbobobegghakl'\n",
        "count=0\n",
        "vowels=list(\"aeiou\")\n",
        "for letter in s:\n",
        "  if letter in vowels:\n",
        "    count+=1\n",
        "print(\"Number of vowels: \",count)\n",
        "\n",
        "\n",
        "\n"
      ]
    },
    {
      "cell_type": "markdown",
      "metadata": {
        "id": "ENqZvqo0WtgY"
      },
      "source": [
        "17. well done. Now we want you to solve above question in just one line. have faith in your, you can do it."
      ]
    },
    {
      "cell_type": "code",
      "execution_count": 3,
      "metadata": {
        "id": "SQaBwDqNWtgY",
        "outputId": "cb0451f4-60fc-4b10-dc2d-38e6552a1719",
        "colab": {
          "base_uri": "https://localhost:8080/"
        }
      },
      "outputs": [
        {
          "output_type": "execute_result",
          "data": {
            "text/plain": [
              "5"
            ]
          },
          "metadata": {},
          "execution_count": 3
        }
      ],
      "source": [
        "# one line code here.\n",
        "\n",
        "\n",
        "sum([1 for i in s if i in vowels])\n",
        "\n"
      ]
    },
    {
      "cell_type": "markdown",
      "metadata": {
        "id": "qGWdX37AWtgY"
      },
      "source": [
        "18. Assume s is a string of lower case characters.\n",
        "\n",
        "Write a program that prints the number of times the string 'bob' occurs in s. For example, if s = 'azcbobobegghakl', then your program should print\n",
        "\n",
        "```Number of times bob occurs is: 2```"
      ]
    },
    {
      "cell_type": "code",
      "execution_count": 5,
      "metadata": {
        "id": "BfY-AJBOWtgZ",
        "outputId": "09157bbf-f3c3-4451-eb12-c39561ba2bdc",
        "colab": {
          "base_uri": "https://localhost:8080/"
        }
      },
      "outputs": [
        {
          "output_type": "stream",
          "name": "stdout",
          "text": [
            "Number of times bob occurs is:  2\n"
          ]
        }
      ],
      "source": [
        "#code here\n",
        "\n",
        "from re import findall\n",
        "s = 'azcbobobegghakl'\n",
        "print(\"Number of times bob occurs is: \",len(findall(\"(?=bob)\",s)))\n",
        "\n"
      ]
    },
    {
      "cell_type": "markdown",
      "metadata": {
        "id": "z7Phv1OxWtgZ"
      },
      "source": [
        "19. Assume s is a string of lower case characters.\n",
        "\n",
        "Write a program that prints the longest substring of s in which the letters occur in alphabetical order. For example, if s = 'azcbobobegghakl', then your program should print\n",
        "\n",
        "```Longest substring in alphabetical order is: beggh```<br><br>\n",
        "In the case of ties, print the first substring. For example, if s = 'abcbcd', then your program should print\n",
        "\n",
        "```Longest substring in alphabetical order is: abc```"
      ]
    },
    {
      "cell_type": "code",
      "execution_count": 6,
      "metadata": {
        "id": "v2UD_kZDWtgZ",
        "outputId": "6c0c1610-d4a6-413f-9145-094a0b590aff",
        "colab": {
          "base_uri": "https://localhost:8080/"
        }
      },
      "outputs": [
        {
          "output_type": "stream",
          "name": "stdout",
          "text": [
            "Longest substring in alphabetical order is: beggh\n",
            "Longest substring in alphabetical order is: abc\n"
          ]
        }
      ],
      "source": [
        "#code here\n",
        "#code here\n",
        "\n",
        "s = 'azcbobobegghakl' # Example input string\n",
        "\n",
        "longest_substring = \"\"\n",
        "current_substring = \"\"\n",
        "\n",
        "for char in s:\n",
        "    # If the current substring is empty or the current character is\n",
        "    # alphabetically greater than or equal to the last character\n",
        "    # in the current substring, append the current character.\n",
        "    if not current_substring or char >= current_substring[-1]:\n",
        "        current_substring += char\n",
        "    else:\n",
        "        # If the current character breaks the alphabetical order,\n",
        "        # compare the length of the current substring with the longest\n",
        "        # substring found so far. Update if necessary.\n",
        "        if len(current_substring) > len(longest_substring):\n",
        "            longest_substring = current_substring\n",
        "        # Start a new current substring with the current character.\n",
        "        current_substring = char\n",
        "\n",
        "# After the loop, check if the last current substring is longer\n",
        "# than the longest substring found.\n",
        "if len(current_substring) > len(longest_substring):\n",
        "    longest_substring = current_substring\n",
        "\n",
        "print(\"Longest substring in alphabetical order is:\", longest_substring)\n",
        "\n",
        "s = 'abcbcd' # Another example input string\n",
        "\n",
        "longest_substring = \"\"\n",
        "current_substring = \"\"\n",
        "\n",
        "for char in s:\n",
        "    if not current_substring or char >= current_substring[-1]:\n",
        "        current_substring += char\n",
        "    else:\n",
        "        if len(current_substring) > len(longest_substring):\n",
        "            longest_substring = current_substring\n",
        "        current_substring = char\n",
        "\n",
        "if len(current_substring) > len(longest_substring):\n",
        "    longest_substring = current_substring\n",
        "\n",
        "print(\"Longest substring in alphabetical order is:\", longest_substring)\n",
        "\n",
        "\n",
        "\n"
      ]
    },
    {
      "cell_type": "markdown",
      "metadata": {
        "id": "O03DVclUWtgZ"
      },
      "source": [
        "Awsesome! Great job so far. Hope you fell in love with python now.\n",
        "\n",
        "\n",
        "But wait we want to give a treat..:) We have a surprise for you in form of one of the task, in this task you have to create a game in python. You can take up this task as a mini project of your's in python. Hmm.. Sounds good. Isn't it?\n",
        "\n",
        "So lets gets started.. we have given the instructions below for the task in detail\n",
        "\n",
        "# Hangman Game\n",
        "## In this project we are going to create Hangman Game using python\n",
        "\n",
        "\n",
        "**Q. What is the hangman game?**<br>\n",
        "A:- Hangman is a guessing game. The player will tries to guess a word picked by the computer, by suggesting letters within a certain number of guesses\n",
        "\n",
        "\n",
        "# Task 1\n",
        "Create a function **is_word_guessed** that takes in two arguments :- <br> **secret_word**, **letters_guessed** <br>**returns True** if all of the letter of secret_word are in letters_guessed, **returns False** if not\n",
        "\n",
        "\n",
        "**Assumptions**<br>\n",
        "**secret_word**: string, the word the user is guessing; assumes all letters are lowercase<br>\n",
        "**letters_guessed**: list (of letters), which letters have been guessed so far; assumes that all letters are lowercase<br>\n",
        "\n",
        "**Example**:-<br>\n",
        "secret_word = 'apple'<br>\n",
        "letters_guessed = ['e', 'a', 'k', 'p', 'l', 's']<br>\n",
        "is_word_guessed() will return True.<br><br>\n",
        "secret_word = 'apple'<br>\n",
        "letters_guessed = ['e', 'i', 'k', 'p', 'r', 's']<br>\n",
        "is_word_guessed() will return False.<br><br>\n",
        "\n",
        "\n",
        "\n"
      ]
    },
    {
      "cell_type": "markdown",
      "source": [
        "### **`Watch Video 17: Hangman Tutorial`**"
      ],
      "metadata": {
        "id": "3cr3up4t-bZv"
      }
    },
    {
      "cell_type": "code",
      "execution_count": 8,
      "metadata": {
        "id": "f20UadoKWtgZ"
      },
      "outputs": [],
      "source": [
        "def is_word_guessed(secret_word, letters_guessed):\n",
        "    # Code here\n",
        "\n",
        "    # Iterate through each character in the secret word\n",
        "    for char in secret_word:\n",
        "        # If a character from the secret word is not in the list of guessed letters\n",
        "        if char not in letters_guessed:\n",
        "            # Return False immediately, as the word is not fully guessed\n",
        "            return False\n",
        "    # If the loop completes without returning False, it means all characters\n",
        "    # in the secret word were found in the guessed letters, so return True\n",
        "    return True\n"
      ]
    },
    {
      "cell_type": "code",
      "source": [
        "secret_word = 'apple'\n",
        "letters_guessed = ['e', 'a', 'k', 'p', 'l', 's']"
      ],
      "metadata": {
        "id": "fkgG0QGFEapI"
      },
      "execution_count": 13,
      "outputs": []
    },
    {
      "cell_type": "code",
      "source": [
        "is_word_guessed(secret_word, letters_guessed)"
      ],
      "metadata": {
        "colab": {
          "base_uri": "https://localhost:8080/"
        },
        "id": "UML8TSnmEmkT",
        "outputId": "7d5652f4-5bf9-48da-93f3-37562927dad6"
      },
      "execution_count": 14,
      "outputs": [
        {
          "output_type": "execute_result",
          "data": {
            "text/plain": [
              "True"
            ]
          },
          "metadata": {},
          "execution_count": 14
        }
      ]
    },
    {
      "cell_type": "code",
      "source": [
        "secret_word = 'apple'\n",
        "letters_guessed = ['e', 'i', 'k', 'p', 'r', 's']"
      ],
      "metadata": {
        "id": "LNTCTOY_EhxQ"
      },
      "execution_count": 11,
      "outputs": []
    },
    {
      "cell_type": "code",
      "source": [
        "is_word_guessed(secret_word, letters_guessed)"
      ],
      "metadata": {
        "colab": {
          "base_uri": "https://localhost:8080/"
        },
        "id": "jm69lTDEEchl",
        "outputId": "d831d3ce-9f7a-413f-a57f-f4d48cb13222"
      },
      "execution_count": 12,
      "outputs": [
        {
          "output_type": "execute_result",
          "data": {
            "text/plain": [
              "False"
            ]
          },
          "metadata": {},
          "execution_count": 12
        }
      ]
    },
    {
      "cell_type": "markdown",
      "metadata": {
        "id": "fuaxxaOYWtgZ"
      },
      "source": [
        "# Task 2\n",
        "Create a function **get_guessed_word** that takes in two arguments :-<br> **secret_word**, **letters_guessed** <br>**returns** string, comprised of known letters, and unknown letters represented by an underscore and a space (_ )<br>\n",
        "\n",
        "**Assumptions**<br>\n",
        "**secret_word**: string, the word the user is guessing;<br>\n",
        "**letters_guessed**: list (of letters), which letters have been guessed so far<br>\n",
        "\n",
        "**Example**:-<br>\n",
        "secret_word = 'apple'<br>\n",
        "letters_guessed = ['e', 'i', 'k', 'p', 'r', 's']<br>\n",
        "get_guessed_word() will return '_ pp_ e'\n",
        "\n",
        "```\n",
        "You want something like a_ _ _ d_ j and Not a___d_j,\n",
        "which might make it hard for the user to know how many characters are there to be guessed,\n",
        "that's why you want to use '_ ' instead of '_'\n",
        "```"
      ]
    },
    {
      "cell_type": "code",
      "execution_count": 15,
      "metadata": {
        "id": "lgZOCOV7Wtga"
      },
      "outputs": [],
      "source": [
        "# importing modules needed for the project\n",
        "# importing modules needed for the project\n",
        "import random\n",
        "import string\n",
        "\n",
        "def get_guessed_word(secret_word, letters_guessed):\n",
        "\n",
        "#     code here\n",
        "    result = \"\"\n",
        "    for char in secret_word:\n",
        "        if char in letters_guessed:\n",
        "            result += char\n",
        "        else:\n",
        "            result += \"_ \"\n",
        "    return result"
      ]
    },
    {
      "cell_type": "code",
      "source": [
        "secret_word = 'apple'\n",
        "letters_guessed = ['e', 'i', 'k', 'p', 'r', 's']"
      ],
      "metadata": {
        "id": "5VFyBBLkFToH"
      },
      "execution_count": 16,
      "outputs": []
    },
    {
      "cell_type": "code",
      "source": [
        "get_guessed_word(secret_word, letters_guessed)"
      ],
      "metadata": {
        "colab": {
          "base_uri": "https://localhost:8080/",
          "height": 35
        },
        "id": "jhdHvnr4FUhw",
        "outputId": "626a2960-35cc-4946-fac1-72fbca29d76f"
      },
      "execution_count": 17,
      "outputs": [
        {
          "output_type": "execute_result",
          "data": {
            "text/plain": [
              "'_ pp_ e'"
            ],
            "application/vnd.google.colaboratory.intrinsic+json": {
              "type": "string"
            }
          },
          "metadata": {},
          "execution_count": 17
        }
      ]
    },
    {
      "cell_type": "markdown",
      "metadata": {
        "id": "n-FFgeOXWtga"
      },
      "source": [
        "# Task 3\n",
        "\n",
        "Create a function **get_available_letter** that takes in one arguments <br> **letters_guessed** <br>**returns** string (of letters), comprised of letters that represents which letters have not yet been guessed.\n",
        "\n",
        "**Assumptions**<br>\n",
        "**letters_guessed**: list (of letters), which letters have been guessed so far;<br>\n",
        "\n",
        "**Example**:-<br>\n",
        "letters_guessed = [’a’, ’l’, ’m’]<br>\n",
        "get_available_letter() will return 'bcdefghijknopqrstuvwxyz'<br>\n",
        "```\n",
        "You might want to consider using string.ascii_lowercase :=\n",
        "\n",
        "import string\n",
        "print(string.ascii_lowercase)\n",
        "output:- abcdefghijklmnopqrstuvwxyz\n",
        "```"
      ]
    },
    {
      "cell_type": "code",
      "execution_count": 18,
      "metadata": {
        "id": "O0Ru7FUsWtga"
      },
      "outputs": [],
      "source": [
        "def get_available_letters(letters_guessed):\n",
        "    '''\n",
        "    letters_guessed: list (of letters), which letters have been guessed so far\n",
        "    returns: string (of letters), comprised of letters that represents which letters have not\n",
        "      yet been guessed.\n",
        "    '''\n",
        "    # FILL IN YOUR CODE HERE\n",
        "\n",
        "    # Start with all lowercase letters\n",
        "    all_letters = string.ascii_lowercase\n",
        "    available = \"\"\n",
        "\n",
        "    # Iterate through all lowercase letters\n",
        "    for letter in all_letters:\n",
        "        # If the letter has not been guessed, add it to the available string\n",
        "        if letter not in letters_guessed:\n",
        "            available += letter\n",
        "\n",
        "    return available\n"
      ]
    },
    {
      "cell_type": "code",
      "source": [
        "letters_guessed = ['a', 'l', 'm']"
      ],
      "metadata": {
        "id": "lMD7Itq1FlUi"
      },
      "execution_count": 20,
      "outputs": []
    },
    {
      "cell_type": "code",
      "source": [
        "get_available_letters(letters_guessed)"
      ],
      "metadata": {
        "colab": {
          "base_uri": "https://localhost:8080/",
          "height": 35
        },
        "id": "jln6C9COFtmJ",
        "outputId": "63a03cff-5819-4bec-8cd7-028d67b742c9"
      },
      "execution_count": 22,
      "outputs": [
        {
          "output_type": "execute_result",
          "data": {
            "text/plain": [
              "'bcdefghijknopqrstuvwxyz'"
            ],
            "application/vnd.google.colaboratory.intrinsic+json": {
              "type": "string"
            }
          },
          "metadata": {},
          "execution_count": 22
        }
      ]
    },
    {
      "cell_type": "markdown",
      "metadata": {
        "id": "jQJszStcWtga"
      },
      "source": [
        "### Great, We have created all of the Helper functions, now let's start our work on the actual Hangman Game\n",
        "\n",
        "# Hangman Game\n",
        "\n",
        "Create a function **hangman** that takes in one argument<br>\n",
        "**secret_word** :- string, the secret word to guess.<br>\n",
        "\n",
        "**The function should do the following**:-<br>\n",
        "Starts up an interactive game of Hangman.\n",
        "\n",
        "* At the start of the game, let the user know how many letters the secret_word contains and how many guesses s/he starts with.\n",
        "\n",
        "* The user should start with 6 guesses\n",
        "\n",
        "* Before each round, you should display to the user how many guesses s/he has left and the letters that the user has not yet guessed.\n",
        "\n",
        "* Ask the user to supply one guess per round. Remember to make sure that the user puts in a letter!\n",
        "\n",
        "* The user should receive feedback immediately after each guess about whether their guess appears in the computer's word.\n",
        "\n",
        "* After each guess, you should display to the user the partially guessed word so far.\n",
        "\n",
        "* If the user inputs a letter that hasn’t been guessed before and the letter is in the secret word, the user loses no guesses.\n",
        "\n",
        "* Consonants: If the user inputs a consonant that hasn’t been guessed and the consonant is not in the secret word, the user loses one guess if it’s a consonant.\n",
        "* Vowels: If the vowel hasn’t been guessed and the vowel is not in the secret word, the user loses two guesses. Vowels are a, e, i, o, and u. y does not count as a vowel.\n",
        "\n",
        "* The game should end when the user constructs the full word or runs out of guesses.\n",
        "* If the player runs out of guesses before completing the word, tell them they lost and reveal the word to the user when the game ends.\n",
        "* If the user wins, print a congratulatory message and tell the user their score.\n",
        "* The total score is the number of guesses_remaining once the user has guessed the secret_word times the number of unique letters in secret_word.\n",
        "```\n",
        "Total score = guesses_remaining * number unique letters in secret_word\n",
        "```"
      ]
    },
    {
      "cell_type": "markdown",
      "metadata": {
        "id": "NLlYCU26Wtga"
      },
      "source": [
        "## Demo Game 1\n",
        "```\n",
        "Welcome to the game Hangman!\n",
        "I am thinking of a word that is 4 letters long.\n",
        "-------------\n",
        "You have 6 guesses left.\n",
        "Available letters: abcdefghijklmnopqrstuvwxyz\n",
        "Please guess a letter: ​a\n",
        "Good guess: _ a_ _\n",
        "------------\n",
        "You have 6 guesses left.\n",
        "Available letters: bcdefghijklmnopqrstuvwxyz\n",
        "Please guess a letter: ​s\n",
        "Oops! That letter is not in my word.\n",
        "Please guess a letter: _ a_ _\n",
        "------------\n",
        "You have 5 guesses left.\n",
        "Available letters: bcdefghijklmnopqrtuvwxyz\n",
        "Please guess a letter: ​t\n",
        "Good guess: ta_ t\n",
        "------------\n",
        "You have 5 guesses left.\n",
        "Available letters: bcdefghijklmnopqrtuvwxyz\n",
        "Please guess a letter: ​e\n",
        "Oops! That letter is not in my word: ta_ t\n",
        "------------\n",
        "You have 3 guesses left.\n",
        "Available letters: bcdfghijklnopquvwxyz Please guess a letter: ​c\n",
        "Good guess: tact\n",
        "------------\n",
        "Congratulations, you won!\n",
        "Your total score for this game is: 6\n",
        "```"
      ]
    },
    {
      "cell_type": "markdown",
      "metadata": {
        "id": "LvPe95WxWtga"
      },
      "source": [
        "## Demo Game 2\n",
        "```\n",
        "Welcome to the game Hangman!\n",
        "I am thinking of a word that is 4 letters long\n",
        "-----------\n",
        "You have 6 guesses left\n",
        "Available Letters: abcdefghijklmnopqrstuvwxyz\n",
        "Please guess a letter: ​a\n",
        "Oops! That letter is not in my word: _ _ _ _\n",
        "-----------\n",
        "You have 4 guesses left\n",
        "Available Letters: bcdefghijklmnopqrstuvwxyz\n",
        "Please guess a letter: ​b\n",
        "Oops! That letter is not in my word: _ _ _ _\n",
        "-----------\n",
        "You have 3 guesses left\n",
        "Available Letters: cdefghijklmnopqrstuvwxyz\n",
        "Please guess a letter: ​c\n",
        "Oops! That letter is not in my word: _ _ _ _\n",
        "-----------\n",
        "You have 2 guesses left\n",
        "Available Letters: defghijklmnopqrstuvwxyz\n",
        "Please guess a letter: ​d\n",
        "Oops! That letter is not in my word: _ _ _ _\n",
        "-----------\n",
        "You have 1 guesses left\n",
        "Available Letters: efghijklmnopqrstuvwxyz\n",
        "Please guess a letter: ​e\n",
        "Good guess: e_ _ e\n",
        "-----------\n",
        "You have 1 guesses left\n",
        "Available Letters: fghijklmnopqrstuvwxyz\n",
        "Please guess a letter: ​f\n",
        "Oops! That letter is not in my word: e_ _ e\n",
        "-----------\n",
        "Sorry, you ran out of guesses. The word was else.\n",
        "```"
      ]
    },
    {
      "cell_type": "markdown",
      "metadata": {
        "id": "oFs3nV8AWtgb"
      },
      "source": [
        "## Hints\n",
        "**Try to keep the output as similar to the one's above**<br>\n",
        "**Hints:-**\n",
        "```\n",
        "1. Consider writing additional helper functions if you need them.\n",
        "2. There are four important pieces of information you may wish to store:\n",
        "a. secret_word​: The word to guess. This is already used as the parameter name for the ​hangman​ function.\n",
        "b. letters_guessed​: The letters that have been guessed so far. If they guess a letter that is already in ​letters_guessed​, you should print a message telling them they've already guessed that but do not penalize them for it.\n",
        "c. guesses_remaining​: The number of guesses the user has left. Note that in our example game, the penalty for choosing an incorrect vowel is different than the penalty for choosing an incorrect consonant.\n",
        "```"
      ]
    },
    {
      "cell_type": "code",
      "execution_count": null,
      "metadata": {
        "id": "IlkkRBPFWtgb"
      },
      "outputs": [],
      "source": [
        "\n",
        "def no_of_unique_words(string):\n",
        "    #code here\n",
        "\n",
        "\n",
        "\n",
        "\n",
        "\n",
        "\n",
        "def hangman(secret_word):\n",
        "    #code here\n"
      ]
    },
    {
      "cell_type": "code",
      "execution_count": null,
      "metadata": {
        "id": "rqr36B-BWtgb",
        "outputId": "395d6dda-1293-4455-8043-e179778634e9"
      },
      "outputs": [
        {
          "name": "stdout",
          "output_type": "stream",
          "text": [
            "Welcome to the game Hangman!\n",
            "I am thinking of a word that is 5 letters long.\n",
            " -----------------------------------\n",
            "You have 6 guesses left.\n",
            "Available letters: abcdefghijklmnopqrstuvwxyz\n",
            "Please guess a letter: a\n",
            "Good guess: a_ _ _ _ \n",
            " -----------------------------------\n",
            "You have 6 guesses left.\n",
            "Available letters: bcdefghijklmnopqrstuvwxyz\n",
            "Please guess a letter: a\n",
            "You've already guessed that letter\n",
            " -----------------------------------\n",
            "You have 6 guesses left.\n",
            "Available letters: bcdefghijklmnopqrstuvwxyz\n",
            "Please guess a letter: c\n",
            "Oops! That letter is not in my word: a_ _ _ _ \n",
            " -----------------------------------\n",
            "You have 5 guesses left.\n",
            "Available letters: bdefghijklmnopqrstuvwxyz\n",
            "Please guess a letter: d\n",
            "Oops! That letter is not in my word: a_ _ _ _ \n",
            " -----------------------------------\n",
            "You have 4 guesses left.\n",
            "Available letters: befghijklmnopqrstuvwxyz\n",
            "Please guess a letter: e\n",
            "Good guess: a_ _ _ e\n",
            " -----------------------------------\n",
            "You have 4 guesses left.\n",
            "Available letters: bfghijklmnopqrstuvwxyz\n",
            "Please guess a letter: f\n",
            "Oops! That letter is not in my word: a_ _ _ e\n",
            " -----------------------------------\n",
            "You have 3 guesses left.\n",
            "Available letters: bghijklmnopqrstuvwxyz\n",
            "Please guess a letter: g\n",
            "Oops! That letter is not in my word: a_ _ _ e\n",
            " -----------------------------------\n",
            "You have 2 guesses left.\n",
            "Available letters: bhijklmnopqrstuvwxyz\n",
            "Please guess a letter: h\n",
            "Oops! That letter is not in my word: a_ _ _ e\n",
            " -----------------------------------\n",
            "You have 1 guesses left.\n",
            "Available letters: bijklmnopqrstuvwxyz\n",
            "Please guess a letter: i\n",
            "Oops! That letter is not in my word: a_ _ _ e\n",
            " -----------------------------------\n"
          ]
        }
      ],
      "source": [
        "# When you've completed your hangman function, test it out to see it is working fine\n",
        "# (hint: you might want to pick your own\n",
        "# secret_word while you're doing your own testing by changing 'apple' to any other string)\n",
        "hangman('apple')"
      ]
    },
    {
      "cell_type": "markdown",
      "metadata": {
        "id": "ayutll31Wtgc"
      },
      "source": [
        "## Congratulations all of your hardwork paid of, you have just created the Hangman Game<br>\n",
        "**now go ahead and play the game you created, run the cell below**\n",
        "\n"
      ]
    },
    {
      "cell_type": "code",
      "execution_count": null,
      "metadata": {
        "id": "OXfcylbvWtgc",
        "outputId": "cc0f524a-37cc-4cda-a9c6-63122a662f87"
      },
      "outputs": [
        {
          "name": "stdout",
          "output_type": "stream",
          "text": [
            "Welcome to the game Hangman!\n",
            "I am thinking of a word that is 7 letters long.\n",
            " -----------------------------------\n",
            "You have 6 guesses left.\n",
            "Available letters: abcdefghijklmnopqrstuvwxyz\n",
            "Please guess a letter: j\n",
            "Oops! That letter is not in my word: _ _ _ _ _ _ _ \n",
            " -----------------------------------\n",
            "You have 5 guesses left.\n",
            "Available letters: abcdefghiklmnopqrstuvwxyz\n",
            "Please guess a letter: k\n",
            "Oops! That letter is not in my word: _ _ _ _ _ _ _ \n",
            " -----------------------------------\n",
            "You have 4 guesses left.\n",
            "Available letters: abcdefghilmnopqrstuvwxyz\n",
            "Please guess a letter: l\n",
            "Oops! That letter is not in my word: _ _ _ _ _ _ _ \n",
            " -----------------------------------\n",
            "You have 3 guesses left.\n",
            "Available letters: abcdefghimnopqrstuvwxyz\n",
            "Please guess a letter: m\n",
            "Oops! That letter is not in my word: _ _ _ _ _ _ _ \n",
            " -----------------------------------\n",
            "You have 2 guesses left.\n",
            "Available letters: abcdefghinopqrstuvwxyz\n",
            "Please guess a letter: o\n",
            "Oops! That letter is not in my word: _ _ _ _ _ _ _ \n",
            " -----------------------------------\n",
            "Sorry, you ran out of guesses. The word was between\n"
          ]
        }
      ],
      "source": [
        "words = ['army', 'beautiful', 'became', 'if', 'actually', 'beside',\n",
        "         'between','come','eye','five','fur','imposter', 'problem' ,\n",
        "         'revenge' ,'few' ,'circle' ,'district','trade','quota','stop','depressed','disorder','dentist']\n",
        "\n",
        "#choose a random word from list using random.choice() function\n",
        "random_word =\n",
        "\n",
        "#check you function\n",
        "hangman(random_word)"
      ]
    },
    {
      "cell_type": "markdown",
      "metadata": {
        "id": "62faCBcTWtgc"
      },
      "source": [
        "--------------------------------------\n",
        "Wohooo! You did a really good job. We hope you enjoyed your first mini python project here.\n",
        "\n",
        "We understand it was bit challenging and time taking, but it's worth it, coz here you are to achieve your goal and this course will help you in all posible way to make your dreams come true.\n",
        "\n"
      ]
    },
    {
      "cell_type": "markdown",
      "metadata": {
        "id": "8p3Ruyw6Wtgc"
      },
      "source": [
        "\n",
        "\n",
        "----------------------------------------------------------------------"
      ]
    }
  ],
  "metadata": {
    "kernelspec": {
      "display_name": "Python 3",
      "language": "python",
      "name": "python3"
    },
    "language_info": {
      "codemirror_mode": {
        "name": "ipython",
        "version": 3
      },
      "file_extension": ".py",
      "mimetype": "text/x-python",
      "name": "python",
      "nbconvert_exporter": "python",
      "pygments_lexer": "ipython3",
      "version": "3.8.5"
    },
    "colab": {
      "provenance": [],
      "include_colab_link": true
    }
  },
  "nbformat": 4,
  "nbformat_minor": 0
}