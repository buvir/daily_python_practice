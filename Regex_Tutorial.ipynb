{
  "nbformat": 4,
  "nbformat_minor": 0,
  "metadata": {
    "colab": {
      "provenance": [],
      "authorship_tag": "ABX9TyPk3oSLylwWG4pf8IvwH4uZ",
      "include_colab_link": true
    },
    "kernelspec": {
      "name": "python3",
      "display_name": "Python 3"
    },
    "language_info": {
      "name": "python"
    }
  },
  "cells": [
    {
      "cell_type": "markdown",
      "metadata": {
        "id": "view-in-github",
        "colab_type": "text"
      },
      "source": [
        "<a href=\"https://colab.research.google.com/github/buvir/daily_python_practice/blob/main/Regex_Tutorial.ipynb\" target=\"_parent\"><img src=\"https://colab.research.google.com/assets/colab-badge.svg\" alt=\"Open In Colab\"/></a>"
      ]
    },
    {
      "cell_type": "markdown",
      "source": [
        "Regex"
      ],
      "metadata": {
        "id": "mzaU_JvgY8EV"
      }
    },
    {
      "cell_type": "markdown",
      "source": [
        "# Python Regular Expressions (Regex) Special Sequences\n",
        "\n",
        "Special sequences in Python regex are sequences preceded by a backslash `\\` that have a special meaning, rather than representing the literal character(s). They are often used to match predefined sets of characters like digits, whitespace, word boundaries, etc.\n",
        "\n",
        "| Character | Description                                                                 | Example (Regex) |\n",
        "| :-------- | :-------------------------------------------------------------------------- | :-------------- |\n",
        "| `\\`       | Escape special characters or indicate a special sequence.                     | `\\.` (matches a literal dot), `\\\\` (matches a literal backslash) |\n",
        "| `\\d`      | Matches any digit (0-9). Equivalent to `[0-9]`.                            | `\\d+` (matches one or more digits) |\n",
        "| `\\D`      | Matches any non-digit character. Equivalent to `[^0-9]`.                   | `\\D+` (matches one or more non-digits) |\n",
        "| `\\s`      | Matches any whitespace character (space, tab, newline, return, form feed). | `\\s+` (matches one or more whitespace characters) |\n",
        "| `\\S`      | Matches any non-whitespace character.                                       | `\\S+` (matches one or more non-whitespace characters) |\n",
        "| `\\w`      | Matches any word character (alphanumeric + underscore). Equivalent to `[a-zA-Z0-9_]`. | `\\w+` (matches one or more word characters) |\n",
        "| `\\W`      | Matches any non-word character. Equivalent to `[^a-zA-Z0-9_]`.             | `\\W+` (matches one or more non-word characters) |\n",
        "| `\\b`      | Matches a word boundary. The position between a word character and a non-word character, or the start/end of the string. | `\\bword\\b` (matches the whole word \"word\") |\n",
        "| `\\B`      | Matches a non-word boundary. The position between two word characters or two non-word characters. | `\\Bword\\B` (matches \"word\" only if it's part of a larger word, like \"keyword\") |\n",
        "| `\\A`      | Matches the start of the string.                                            | `\\AHello` (matches \"Hello\" only if it's at the very beginning of the string) |\n",
        "| `\\Z`      | Matches the end of the string.                                              | `World\\Z` (matches \"World\" only if it's at the very end of the string) |\n",
        "\n",
        "**Note:** `\\Z` matches the end of the string. `$` also matches the end of the string, but it *also* matches immediately before a newline at the end of the string. For matching strictly the very end, `\\Z` is more precise. Similarly, `^` matches the start of the string (like `\\A`), and also immediately after a newline in multiline mode. Use `\\A` and `\\Z` for unambiguous start/end-of-string matching regardless of multiline flags."
      ],
      "metadata": {
        "id": "8yF1qqKhaTYx"
      }
    },
    {
      "cell_type": "markdown",
      "source": [
        "# Python Regular Expressions (Regex) Special Characters / Constructs\n",
        "\n",
        "Beyond the special sequences (`\\d`, `\\s`, etc.), regex uses several special characters and constructs to define patterns for repetition, position, grouping, and alternatives. These are often combined with character classes or other patterns.\n",
        "\n",
        "| Special Character(s) | Description                                                                 | Example (Regex)      |\n",
        "| :------------------- | :-------------------------------------------------------------------------- | :------------------- |\n",
        "| `.`                  | Matches any single character *except* newline by default.                    | `a.b` (matches \"aXb\" where X is any char except newline) |\n",
        "| `^`                  | Matches the start of the string. In multiline mode, also matches after a newline. | `^Start` (matches \"Start\" only at the beginning) |\n",
        "| `$`                  | Matches the end of the string. In multiline mode, also matches before a newline. | `End$` (matches \"End\" only at the end) |\n",
        "| `*`                  | Matches the preceding element zero or more times (greedy).                   | `a*` (matches \"\", \"a\", \"aa\", \"aaa\", etc.) |\n",
        "| `+`                  | Matches the preceding element one or more times (greedy).                    | `a+` (matches \"a\", \"aa\", \"aaa\", etc., but not \"\") |\n",
        "| `?`                  | Matches the preceding element zero or one time (optional, greedy).           | `a?` (matches \"a\" or \"\") |\n",
        "| `{n}`                | Matches the preceding element exactly `n` times.                             | `\\d{3}` (matches exactly 3 digits) |\n",
        "| `{n,}`               | Matches the preceding element `n` or more times (greedy).                    | `a{2,}` (matches \"aa\", \"aaa\", \"aaaa\", etc.) |\n",
        "| `{n,m}`              | Matches the preceding element between `n` and `m` times, inclusive (greedy). | `[0-9]{1,5}` (matches 1 to 5 digits) |\n",
        "| `*?`                 | Matches the preceding element zero or more times (non-greedy).               | `a*?` |\n",
        "| `+?`                 | Matches the preceding element one or more times (non-greedy).                | `a+?` |\n",
        "| `??`                 | Matches the preceding element zero or one time (optional, non-greedy).       | `a??` |\n",
        "| `{n,}?`              | Matches the preceding element `n` or more times (non-greedy).                | `a{2,}?` |\n",
        "| `{n,m}?`             | Matches the preceding element between `n` and `m` times, inclusive (non-greedy). | `[0-9]{1,5}?` |\n",
        "| `[...]`              | Defines a character set. Matches any single character within the brackets.   | `[abc]` (matches \"a\", \"b\", or \"c\") |\n",
        "| `[^...]`             | Defines a negated character set. Matches any single character *not* within the brackets. | `[^0-9]` (matches any single non-digit character) |\n",
        "| `(` `)`              | Groups expressions together, treating them as a single unit. Also creates a capturing group. | `(ab)+` (matches \"ab\", \"abab\", \"ababab\", etc.) |\n",
        "| `(?:` `)`            | Groups expressions together without creating a capturing group (non-capturing group). | `(?:ab)+` (matches \"ab\", \"abab\", etc., but doesn't capture the group) |\n",
        "| `|`                  | Acts as OR. Matches the expression before or after the `|`.                  | `cat|dog` (matches either \"cat\" or \"dog\") |\n",
        "\n",
        "\n",
        "**Note:**\n",
        "* **Greedy vs. Non-Greedy:** By default, quantifiers (`*`, `+`, `?`, `{n,}`, `{n,m}`) are \"greedy\". They try to match the *longest* possible string. Adding a `?` after a quantifier makes it \"non-greedy\" or \"lazy\", meaning it tries to match the *shortest* possible string.\n",
        "* To match a literal special character (like `*`, `+`, `?`, `.`, `^`, `$`, `(`, `)`, `[`, `]`, `|`, `\\`), you must escape it with a backslash (`\\`). Example: `\\$` matches a literal dollar sign."
      ],
      "metadata": {
        "id": "YTX-UuMxb7FS"
      }
    },
    {
      "cell_type": "code",
      "source": [
        "import re"
      ],
      "metadata": {
        "id": "BdyX29P0Yyo1"
      },
      "execution_count": 6,
      "outputs": []
    },
    {
      "cell_type": "markdown",
      "source": [
        "Extracting phone numbers"
      ],
      "metadata": {
        "id": "LdS5hWfGZNLN"
      }
    },
    {
      "cell_type": "code",
      "source": [
        "text='''My contact number is 9999999999' , and its us contact number is (910)-666-8888'''"
      ],
      "metadata": {
        "id": "d6QrRazoY1qv"
      },
      "execution_count": null,
      "outputs": []
    },
    {
      "cell_type": "markdown",
      "source": [
        "Extracting indian  number"
      ],
      "metadata": {
        "id": "_WiAS-hkZPzU"
      }
    },
    {
      "cell_type": "code",
      "source": [
        "pattern='\\d'\n",
        "matches=re.findall(pattern,text)\n",
        "print(matches)\n"
      ],
      "metadata": {
        "colab": {
          "base_uri": "https://localhost:8080/"
        },
        "id": "soq9dG02Y146",
        "outputId": "0aae39e7-1895-4d5a-e34c-e49a5389a81a"
      },
      "execution_count": null,
      "outputs": [
        {
          "output_type": "stream",
          "name": "stdout",
          "text": [
            "['9', '9', '9', '9', '9', '9', '9', '9', '9', '9', '9', '1', '0', '6', '6', '6', '8', '8', '8', '8']\n"
          ]
        }
      ]
    },
    {
      "cell_type": "code",
      "source": [
        "pattern='\\d\\d\\d\\d'\n",
        "matches=re.findall(pattern,text)\n",
        "print(matches)"
      ],
      "metadata": {
        "colab": {
          "base_uri": "https://localhost:8080/"
        },
        "id": "eL5aRxhCaxD2",
        "outputId": "31499dcd-1a83-42ab-b34e-8cc4b94a43a6"
      },
      "execution_count": null,
      "outputs": [
        {
          "output_type": "stream",
          "name": "stdout",
          "text": [
            "['9999', '9999', '8888']\n"
          ]
        }
      ]
    },
    {
      "cell_type": "code",
      "source": [
        "pattern='\\d{10}'\n",
        "matches=re.findall(pattern,text)\n",
        "print(matches)"
      ],
      "metadata": {
        "colab": {
          "base_uri": "https://localhost:8080/"
        },
        "id": "LDMTeovfbRra",
        "outputId": "1bd046ce-9b8f-4d26-8510-e5740c13b8b7"
      },
      "execution_count": null,
      "outputs": [
        {
          "output_type": "stream",
          "name": "stdout",
          "text": [
            "['9999999999']\n"
          ]
        }
      ]
    },
    {
      "cell_type": "markdown",
      "source": [
        "Extracting us  number"
      ],
      "metadata": {
        "id": "s2BG7IGRZXMB"
      }
    },
    {
      "cell_type": "code",
      "source": [
        "pattern='\\(\\d{3}\\)-\\d{3}-\\d{4}'\n",
        "matches=re.findall(pattern,text)\n",
        "print(matches)"
      ],
      "metadata": {
        "colab": {
          "base_uri": "https://localhost:8080/"
        },
        "id": "EI8ahCdcY18G",
        "outputId": "6b993251-7d75-4817-bdda-265fd9126a86"
      },
      "execution_count": null,
      "outputs": [
        {
          "output_type": "stream",
          "name": "stdout",
          "text": [
            "['(910)-666-8888']\n"
          ]
        }
      ]
    },
    {
      "cell_type": "markdown",
      "source": [
        "Extracting us  number"
      ],
      "metadata": {
        "id": "OIaoWTANdebK"
      }
    },
    {
      "cell_type": "code",
      "source": [
        "pattern='\\d{10}|\\(\\d{3}\\)-\\d{3}-\\d{4}'\n",
        "matches=re.findall(pattern,text)\n",
        "print(matches)"
      ],
      "metadata": {
        "colab": {
          "base_uri": "https://localhost:8080/"
        },
        "id": "ovc-_lEGY2Cy",
        "outputId": "c672e3d2-4035-4ebe-c2eb-a1142b343624"
      },
      "execution_count": null,
      "outputs": [
        {
          "output_type": "stream",
          "name": "stdout",
          "text": [
            "['9999999999', '(910)-666-8888']\n"
          ]
        }
      ]
    },
    {
      "cell_type": "markdown",
      "source": [
        "Extracting Title from text"
      ],
      "metadata": {
        "id": "D6KgzuOb3Lyj"
      }
    },
    {
      "cell_type": "code",
      "source": [
        "Text='''Model S\n",
        "Main article: Tesla Model S\n",
        "\n",
        "Tesla Model S\n",
        "The Model S is a full-size car with a liftback body style and a dual motor, all-wheel drive layout. Development of the Model S began before 2007 and deliveries started in June 2012. The Model S has seen two major design refreshes, first in April 2016, which introduced a new front-end design and again in June 2021, which revised the interior. The Model S was the top-selling plug-in electric car worldwide in 2015 and 2016. More than 250,000 vehicles have been sold as of December 2018 (when Tesla merged production numbers for the Model S and Model X).\n",
        "\n",
        "Model X\n",
        "Main article: Tesla Model X\n",
        "\n",
        "Tesla Model X\n",
        "The Model X is a mid-size luxury crossover SUV offered in 5-, 6- and 7-passenger configurations with either a dual- or trimotor, all-wheel drive layout. The rear passenger doors open vertically with an articulating \"falcon-wing\" design. A prototype Model X was first shown in February 2012 and deliveries started in September 2015.[101] The Model X shares around 30 percent of its content with the Model S. The vehicle has seen one major design refresh in June 2021 which revised the interior.\n",
        "\n",
        "Model 3\n",
        "Main article: Tesla Model 3\n",
        "\n",
        "Tesla Model 3\n",
        "The Model 3 is a mid-size car with a fastback body style and either a dual-motor, all-wheel drive layout or a rear-motor, rear-wheel drive layout. The vehicle was designed to be more affordable than the luxury Model S sedan. A prototype Model 3 was first shown in 2016 and within a week, the company received over 325,000 paid reservations.[49] Deliveries started in July 2017.[102] The Model 3 ranked as the world's best-selling electric car from 2018 to 2021,[103][104][105] and cumulative sales passed 1 million in June 2021.[106] The vehicle has seen one major design refresh in September 2023 which revised the exterior and interior.\n",
        "\n",
        "Model Y\n",
        "Main article: Tesla Model Y\n",
        "\n",
        "Tesla Model Y\n",
        "The Model Y is a mid-size crossover SUV offered in 5- and 7-passenger configurations with a single‐motor, rear-wheel drive or a dual-motor, all-wheel drive layout. The vehicle was designed to be more affordable than the luxury Model X SUV. A prototype Model Y was first shown in March 2019,[63] and deliveries started in March 2020.[65] The Model Y shared around 75 percent of its content with the Model 3.[64] In the first quarter of 2023, the Model Y outsold the Toyota Corolla to become the world's best-selling car, the first electric vehicle to claim the title.[107]\n",
        "\n",
        "Tesla Semi\n",
        "Main article: Tesla Semi\n",
        "\n",
        "Tesla Semi prototype\n",
        "The Tesla Semi is a Class 8 semi-truck by Tesla, Inc. with a tri-motor, rear-wheel drive layout. Tesla claims that the Semi has approximately three times the power of a typical diesel semi truck, and a range of 500 miles (800 km).[108] Two prototype trucks were first shown in November 2017 and initial deliveries were made to PepsiCo on December 1, 2022.[109] Tesla stated in April 2024 that it plans full production in late 2025.[110]\n",
        " '''"
      ],
      "metadata": {
        "id": "B1i4xRFyY2Ga"
      },
      "execution_count": 1,
      "outputs": []
    },
    {
      "cell_type": "code",
      "source": [
        "print(Text)"
      ],
      "metadata": {
        "id": "PZz0PEuMY2J1",
        "colab": {
          "base_uri": "https://localhost:8080/"
        },
        "outputId": "82f0a00a-fc11-4c4c-c82c-896b74a6123c"
      },
      "execution_count": 3,
      "outputs": [
        {
          "output_type": "stream",
          "name": "stdout",
          "text": [
            "Model S\n",
            "Main article: Tesla Model S\n",
            "\n",
            "Tesla Model S\n",
            "The Model S is a full-size car with a liftback body style and a dual motor, all-wheel drive layout. Development of the Model S began before 2007 and deliveries started in June 2012. The Model S has seen two major design refreshes, first in April 2016, which introduced a new front-end design and again in June 2021, which revised the interior. The Model S was the top-selling plug-in electric car worldwide in 2015 and 2016. More than 250,000 vehicles have been sold as of December 2018 (when Tesla merged production numbers for the Model S and Model X).\n",
            "\n",
            "Model X\n",
            "Main article: Tesla Model X\n",
            "\n",
            "Tesla Model X\n",
            "The Model X is a mid-size luxury crossover SUV offered in 5-, 6- and 7-passenger configurations with either a dual- or trimotor, all-wheel drive layout. The rear passenger doors open vertically with an articulating \"falcon-wing\" design. A prototype Model X was first shown in February 2012 and deliveries started in September 2015.[101] The Model X shares around 30 percent of its content with the Model S. The vehicle has seen one major design refresh in June 2021 which revised the interior.\n",
            "\n",
            "Model 3\n",
            "Main article: Tesla Model 3\n",
            "\n",
            "Tesla Model 3\n",
            "The Model 3 is a mid-size car with a fastback body style and either a dual-motor, all-wheel drive layout or a rear-motor, rear-wheel drive layout. The vehicle was designed to be more affordable than the luxury Model S sedan. A prototype Model 3 was first shown in 2016 and within a week, the company received over 325,000 paid reservations.[49] Deliveries started in July 2017.[102] The Model 3 ranked as the world's best-selling electric car from 2018 to 2021,[103][104][105] and cumulative sales passed 1 million in June 2021.[106] The vehicle has seen one major design refresh in September 2023 which revised the exterior and interior.\n",
            "\n",
            "Model Y\n",
            "Main article: Tesla Model Y\n",
            "\n",
            "Tesla Model Y\n",
            "The Model Y is a mid-size crossover SUV offered in 5- and 7-passenger configurations with a single‐motor, rear-wheel drive or a dual-motor, all-wheel drive layout. The vehicle was designed to be more affordable than the luxury Model X SUV. A prototype Model Y was first shown in March 2019,[63] and deliveries started in March 2020.[65] The Model Y shared around 75 percent of its content with the Model 3.[64] In the first quarter of 2023, the Model Y outsold the Toyota Corolla to become the world's best-selling car, the first electric vehicle to claim the title.[107]\n",
            "\n",
            "Tesla Semi\n",
            "Main article: Tesla Semi\n",
            "\n",
            "Tesla Semi prototype\n",
            "The Tesla Semi is a Class 8 semi-truck by Tesla, Inc. with a tri-motor, rear-wheel drive layout. Tesla claims that the Semi has approximately three times the power of a typical diesel semi truck, and a range of 500 miles (800 km).[108] Two prototype trucks were first shown in November 2017 and initial deliveries were made to PepsiCo on December 1, 2022.[109] Tesla stated in April 2024 that it plans full production in late 2025.[110]\n",
            " \n"
          ]
        }
      ]
    },
    {
      "cell_type": "code",
      "source": [
        "Text"
      ],
      "metadata": {
        "colab": {
          "base_uri": "https://localhost:8080/",
          "height": 139
        },
        "id": "zGQYq8zG5_x2",
        "outputId": "db2079c2-a8b3-45e0-a3da-351e159ebec5"
      },
      "execution_count": 22,
      "outputs": [
        {
          "output_type": "execute_result",
          "data": {
            "text/plain": [
              "'Model S\\nMain article: Tesla Model S\\n\\nTesla Model S\\nThe Model S is a full-size car with a liftback body style and a dual motor, all-wheel drive layout. Development of the Model S began before 2007 and deliveries started in June 2012. The Model S has seen two major design refreshes, first in April 2016, which introduced a new front-end design and again in June 2021, which revised the interior. The Model S was the top-selling plug-in electric car worldwide in 2015 and 2016. More than 250,000 vehicles have been sold as of December 2018 (when Tesla merged production numbers for the Model S and Model X).\\n\\nModel X\\nMain article: Tesla Model X\\n\\nTesla Model X\\nThe Model X is a mid-size luxury crossover SUV offered in 5-, 6- and 7-passenger configurations with either a dual- or trimotor, all-wheel drive layout. The rear passenger doors open vertically with an articulating \"falcon-wing\" design. A prototype Model X was first shown in February 2012 and deliveries started in September 2015.[101] The Model X shares around 30 percent of its content with the Model S. The vehicle has seen one major design refresh in June 2021 which revised the interior.\\n\\nModel 3\\nMain article: Tesla Model 3\\n\\nTesla Model 3\\nThe Model 3 is a mid-size car with a fastback body style and either a dual-motor, all-wheel drive layout or a rear-motor, rear-wheel drive layout. The vehicle was designed to be more affordable than the luxury Model S sedan. A prototype Model 3 was first shown in 2016 and within a week, the company received over 325,000 paid reservations.[49] Deliveries started in July 2017.[102] The Model 3 ranked as the world\\'s best-selling electric car from 2018 to 2021,[103][104][105] and cumulative sales passed 1 million in June 2021.[106] The vehicle has seen one major design refresh in September 2023 which revised the exterior and interior.\\n\\nModel Y\\nMain article: Tesla Model Y\\n\\nTesla Model Y\\nThe Model Y is a mid-size crossover SUV offered in 5- and 7-passenger configurations with a single‐motor, rear-wheel drive or a dual-motor, all-wheel drive layout. The vehicle was designed to be more affordable than the luxury Model X SUV. A prototype Model Y was first shown in March 2019,[63] and deliveries started in March 2020.[65] The Model Y shared around 75 percent of its content with the Model 3.[64] In the first quarter of 2023, the Model Y outsold the Toyota Corolla to become the world\\'s best-selling car, the first electric vehicle to claim the title.[107]\\n\\nTesla Semi\\nMain article: Tesla Semi\\n\\nTesla Semi prototype\\nThe Tesla Semi is a Class 8 semi-truck by Tesla, Inc. with a tri-motor, rear-wheel drive layout. Tesla claims that the Semi has approximately three times the power of a typical diesel semi truck, and a range of 500 miles (800 km).[108] Two prototype trucks were first shown in November 2017 and initial deliveries were made to PepsiCo on December 1, 2022.[109] Tesla stated in April 2024 that it plans full production in late 2025.[110]\\n '"
            ],
            "application/vnd.google.colaboratory.intrinsic+json": {
              "type": "string"
            }
          },
          "metadata": {},
          "execution_count": 22
        }
      ]
    },
    {
      "cell_type": "code",
      "source": [
        "pattern='Main article: Tesla Model .|Main article: Tesla [^\\n]*'\n",
        "matches=re.findall(pattern,Text)\n",
        "print(matches)"
      ],
      "metadata": {
        "id": "Ci39Y1XVY2OW",
        "colab": {
          "base_uri": "https://localhost:8080/"
        },
        "outputId": "1f234bea-b6c3-4851-967f-d8c83c0bcc6c"
      },
      "execution_count": 27,
      "outputs": [
        {
          "output_type": "stream",
          "name": "stdout",
          "text": [
            "['Main article: Tesla Model S', 'Main article: Tesla Model X', 'Main article: Tesla Model 3', 'Main article: Tesla Model Y', 'Main article: Tesla Semi']\n"
          ]
        }
      ]
    },
    {
      "cell_type": "code",
      "source": [
        "pattern='Main article: (Tesla Model .)|Main article: (Tesla [^\\n]*)'\n",
        "matches=re.findall(pattern,Text)\n",
        "print(matches)"
      ],
      "metadata": {
        "id": "ulZRQrZsY2f0",
        "colab": {
          "base_uri": "https://localhost:8080/"
        },
        "outputId": "03d16743-baf4-44d7-9b44-8f25c6a159d7"
      },
      "execution_count": 31,
      "outputs": [
        {
          "output_type": "stream",
          "name": "stdout",
          "text": [
            "[('Tesla Model S', ''), ('Tesla Model X', ''), ('Tesla Model 3', ''), ('Tesla Model Y', ''), ('', 'Tesla Semi')]\n"
          ]
        }
      ]
    },
    {
      "cell_type": "code",
      "source": [
        "pattern='Main article: (Tesla Model .)|Main article: (Tesla [^\\n]*)'\n",
        "matches=re.findall(pattern,Text)\n",
        "print(matches)"
      ],
      "metadata": {
        "id": "mM83iZ9jY2kt",
        "colab": {
          "base_uri": "https://localhost:8080/"
        },
        "outputId": "1a526b99-c5ea-4b7c-b183-2d5c26b677f3"
      },
      "execution_count": 33,
      "outputs": [
        {
          "output_type": "stream",
          "name": "stdout",
          "text": [
            "[('Tesla Model S', ''), ('Tesla Model X', ''), ('Tesla Model 3', ''), ('Tesla Model Y', ''), ('', 'Tesla Semi')]\n"
          ]
        }
      ]
    },
    {
      "cell_type": "code",
      "source": [
        "\n",
        "pattern='Main article: (Tesla Model .)| Main article: (Tesla [^\\n]*)'\n",
        "matches=re.findall(pattern,Text)\n",
        "matches"
      ],
      "metadata": {
        "id": "mzUskvfQY2o6",
        "colab": {
          "base_uri": "https://localhost:8080/"
        },
        "outputId": "467edf29-994d-42c9-c70c-4391713e61c8"
      },
      "execution_count": 40,
      "outputs": [
        {
          "output_type": "execute_result",
          "data": {
            "text/plain": [
              "[('Tesla Model S', ''),\n",
              " ('Tesla Model X', ''),\n",
              " ('Tesla Model 3', ''),\n",
              " ('Tesla Model Y', '')]"
            ]
          },
          "metadata": {},
          "execution_count": 40
        }
      ]
    },
    {
      "cell_type": "markdown",
      "source": [
        "Extract financial periods from a company's finacnial reporting"
      ],
      "metadata": {
        "id": "gRBhmw4B8y4x"
      }
    },
    {
      "cell_type": "code",
      "source": [
        "text1='''\n",
        "The Gross cost of operating lease vehilces in FY2021 Q1 was $4.85 bilion.\n",
        "In previous quarter i.e FY2020 Q4 it was $3 billion.'''"
      ],
      "metadata": {
        "id": "Z0czpLQLY2sk"
      },
      "execution_count": 57,
      "outputs": []
    },
    {
      "cell_type": "code",
      "source": [
        "pattern = 'FY\\d{4} Q[1-4]'\n",
        "matches = re.findall(pattern, text1)\n",
        "matches"
      ],
      "metadata": {
        "id": "5PXF89v4Y2yV",
        "colab": {
          "base_uri": "https://localhost:8080/"
        },
        "outputId": "2edf55a1-1923-4963-dbf4-5164f4658dba"
      },
      "execution_count": 58,
      "outputs": [
        {
          "output_type": "execute_result",
          "data": {
            "text/plain": [
              "['FY2021 Q1', 'FY2020 Q4']"
            ]
          },
          "metadata": {},
          "execution_count": 58
        }
      ]
    },
    {
      "cell_type": "markdown",
      "source": [
        "Case insensitive pattern match using flags"
      ],
      "metadata": {
        "id": "8a9FICIcYw6U"
      }
    },
    {
      "cell_type": "code",
      "source": [
        "text1='''\n",
        "The Gross cost of operating lease vehilces in FY2021 Q1 was $4.85 bilion.\n",
        "In previous quarter i.e fy2020 Q4 it was $3 billion.'''"
      ],
      "metadata": {
        "id": "zJ0BqHad-Uom"
      },
      "execution_count": 59,
      "outputs": []
    },
    {
      "cell_type": "code",
      "source": [
        "pattern = 'FY\\d{4} Q[1-4]'\n",
        "matches = re.findall(pattern, text1, flags=re.IGNORECASE)\n",
        "matches"
      ],
      "metadata": {
        "colab": {
          "base_uri": "https://localhost:8080/"
        },
        "id": "HnI92jSs-bbB",
        "outputId": "3a8026fb-382f-4776-9534-da50ab0a5b04"
      },
      "execution_count": 60,
      "outputs": [
        {
          "output_type": "execute_result",
          "data": {
            "text/plain": [
              "['FY2021 Q1', 'fy2020 Q4']"
            ]
          },
          "metadata": {},
          "execution_count": 60
        }
      ]
    },
    {
      "cell_type": "code",
      "source": [
        "pattern = 'FY(\\d{4} Q[1-4])'\n",
        "matches = re.findall(pattern, text1, flags=re.IGNORECASE)\n",
        "matches"
      ],
      "metadata": {
        "colab": {
          "base_uri": "https://localhost:8080/"
        },
        "id": "okhn0z7u-bfe",
        "outputId": "b23ca2b5-343d-4b43-b796-ddfd25592c97"
      },
      "execution_count": 61,
      "outputs": [
        {
          "output_type": "execute_result",
          "data": {
            "text/plain": [
              "['2021 Q1', '2020 Q4']"
            ]
          },
          "metadata": {},
          "execution_count": 61
        }
      ]
    },
    {
      "cell_type": "markdown",
      "source": [
        "# Using Regex on Pandas Dataframe"
      ],
      "metadata": {
        "id": "yQMlT0MnENa3"
      }
    },
    {
      "cell_type": "code",
      "source": [
        "import pandas as pd"
      ],
      "metadata": {
        "id": "REKtYx0--bib"
      },
      "execution_count": 62,
      "outputs": []
    },
    {
      "cell_type": "code",
      "source": [
        "data = pd.DataFrame({\n",
        "    \"Phone_text\":[\n",
        "        \"Ajith number is 9999999999\",\n",
        "\"Suriya number is 8956231245\",\n",
        "\"Vijay number is 6532215487\"]})"
      ],
      "metadata": {
        "id": "fqSf4VUa-bk-"
      },
      "execution_count": 74,
      "outputs": []
    },
    {
      "cell_type": "code",
      "source": [
        "data"
      ],
      "metadata": {
        "colab": {
          "base_uri": "https://localhost:8080/",
          "height": 143
        },
        "id": "DgzVvvF5-bnb",
        "outputId": "bdf4cbc8-ec52-4600-c691-2a23886c51a5"
      },
      "execution_count": 75,
      "outputs": [
        {
          "output_type": "execute_result",
          "data": {
            "text/plain": [
              "                    Phone_text\n",
              "0   Ajith number is 9999999999\n",
              "1  Suriya number is 8956231245\n",
              "2   Vijay number is 6532215487"
            ],
            "text/html": [
              "\n",
              "  <div id=\"df-1efb5254-3f0a-4a78-a816-d7fc7152f87c\" class=\"colab-df-container\">\n",
              "    <div>\n",
              "<style scoped>\n",
              "    .dataframe tbody tr th:only-of-type {\n",
              "        vertical-align: middle;\n",
              "    }\n",
              "\n",
              "    .dataframe tbody tr th {\n",
              "        vertical-align: top;\n",
              "    }\n",
              "\n",
              "    .dataframe thead th {\n",
              "        text-align: right;\n",
              "    }\n",
              "</style>\n",
              "<table border=\"1\" class=\"dataframe\">\n",
              "  <thead>\n",
              "    <tr style=\"text-align: right;\">\n",
              "      <th></th>\n",
              "      <th>Phone_text</th>\n",
              "    </tr>\n",
              "  </thead>\n",
              "  <tbody>\n",
              "    <tr>\n",
              "      <th>0</th>\n",
              "      <td>Ajith number is 9999999999</td>\n",
              "    </tr>\n",
              "    <tr>\n",
              "      <th>1</th>\n",
              "      <td>Suriya number is 8956231245</td>\n",
              "    </tr>\n",
              "    <tr>\n",
              "      <th>2</th>\n",
              "      <td>Vijay number is 6532215487</td>\n",
              "    </tr>\n",
              "  </tbody>\n",
              "</table>\n",
              "</div>\n",
              "    <div class=\"colab-df-buttons\">\n",
              "\n",
              "  <div class=\"colab-df-container\">\n",
              "    <button class=\"colab-df-convert\" onclick=\"convertToInteractive('df-1efb5254-3f0a-4a78-a816-d7fc7152f87c')\"\n",
              "            title=\"Convert this dataframe to an interactive table.\"\n",
              "            style=\"display:none;\">\n",
              "\n",
              "  <svg xmlns=\"http://www.w3.org/2000/svg\" height=\"24px\" viewBox=\"0 -960 960 960\">\n",
              "    <path d=\"M120-120v-720h720v720H120Zm60-500h600v-160H180v160Zm220 220h160v-160H400v160Zm0 220h160v-160H400v160ZM180-400h160v-160H180v160Zm440 0h160v-160H620v160ZM180-180h160v-160H180v160Zm440 0h160v-160H620v160Z\"/>\n",
              "  </svg>\n",
              "    </button>\n",
              "\n",
              "  <style>\n",
              "    .colab-df-container {\n",
              "      display:flex;\n",
              "      gap: 12px;\n",
              "    }\n",
              "\n",
              "    .colab-df-convert {\n",
              "      background-color: #E8F0FE;\n",
              "      border: none;\n",
              "      border-radius: 50%;\n",
              "      cursor: pointer;\n",
              "      display: none;\n",
              "      fill: #1967D2;\n",
              "      height: 32px;\n",
              "      padding: 0 0 0 0;\n",
              "      width: 32px;\n",
              "    }\n",
              "\n",
              "    .colab-df-convert:hover {\n",
              "      background-color: #E2EBFA;\n",
              "      box-shadow: 0px 1px 2px rgba(60, 64, 67, 0.3), 0px 1px 3px 1px rgba(60, 64, 67, 0.15);\n",
              "      fill: #174EA6;\n",
              "    }\n",
              "\n",
              "    .colab-df-buttons div {\n",
              "      margin-bottom: 4px;\n",
              "    }\n",
              "\n",
              "    [theme=dark] .colab-df-convert {\n",
              "      background-color: #3B4455;\n",
              "      fill: #D2E3FC;\n",
              "    }\n",
              "\n",
              "    [theme=dark] .colab-df-convert:hover {\n",
              "      background-color: #434B5C;\n",
              "      box-shadow: 0px 1px 3px 1px rgba(0, 0, 0, 0.15);\n",
              "      filter: drop-shadow(0px 1px 2px rgba(0, 0, 0, 0.3));\n",
              "      fill: #FFFFFF;\n",
              "    }\n",
              "  </style>\n",
              "\n",
              "    <script>\n",
              "      const buttonEl =\n",
              "        document.querySelector('#df-1efb5254-3f0a-4a78-a816-d7fc7152f87c button.colab-df-convert');\n",
              "      buttonEl.style.display =\n",
              "        google.colab.kernel.accessAllowed ? 'block' : 'none';\n",
              "\n",
              "      async function convertToInteractive(key) {\n",
              "        const element = document.querySelector('#df-1efb5254-3f0a-4a78-a816-d7fc7152f87c');\n",
              "        const dataTable =\n",
              "          await google.colab.kernel.invokeFunction('convertToInteractive',\n",
              "                                                    [key], {});\n",
              "        if (!dataTable) return;\n",
              "\n",
              "        const docLinkHtml = 'Like what you see? Visit the ' +\n",
              "          '<a target=\"_blank\" href=https://colab.research.google.com/notebooks/data_table.ipynb>data table notebook</a>'\n",
              "          + ' to learn more about interactive tables.';\n",
              "        element.innerHTML = '';\n",
              "        dataTable['output_type'] = 'display_data';\n",
              "        await google.colab.output.renderOutput(dataTable, element);\n",
              "        const docLink = document.createElement('div');\n",
              "        docLink.innerHTML = docLinkHtml;\n",
              "        element.appendChild(docLink);\n",
              "      }\n",
              "    </script>\n",
              "  </div>\n",
              "\n",
              "\n",
              "    <div id=\"df-0509a91d-cfbc-4a92-b8f9-26b817c5a75c\">\n",
              "      <button class=\"colab-df-quickchart\" onclick=\"quickchart('df-0509a91d-cfbc-4a92-b8f9-26b817c5a75c')\"\n",
              "                title=\"Suggest charts\"\n",
              "                style=\"display:none;\">\n",
              "\n",
              "<svg xmlns=\"http://www.w3.org/2000/svg\" height=\"24px\"viewBox=\"0 0 24 24\"\n",
              "     width=\"24px\">\n",
              "    <g>\n",
              "        <path d=\"M19 3H5c-1.1 0-2 .9-2 2v14c0 1.1.9 2 2 2h14c1.1 0 2-.9 2-2V5c0-1.1-.9-2-2-2zM9 17H7v-7h2v7zm4 0h-2V7h2v10zm4 0h-2v-4h2v4z\"/>\n",
              "    </g>\n",
              "</svg>\n",
              "      </button>\n",
              "\n",
              "<style>\n",
              "  .colab-df-quickchart {\n",
              "      --bg-color: #E8F0FE;\n",
              "      --fill-color: #1967D2;\n",
              "      --hover-bg-color: #E2EBFA;\n",
              "      --hover-fill-color: #174EA6;\n",
              "      --disabled-fill-color: #AAA;\n",
              "      --disabled-bg-color: #DDD;\n",
              "  }\n",
              "\n",
              "  [theme=dark] .colab-df-quickchart {\n",
              "      --bg-color: #3B4455;\n",
              "      --fill-color: #D2E3FC;\n",
              "      --hover-bg-color: #434B5C;\n",
              "      --hover-fill-color: #FFFFFF;\n",
              "      --disabled-bg-color: #3B4455;\n",
              "      --disabled-fill-color: #666;\n",
              "  }\n",
              "\n",
              "  .colab-df-quickchart {\n",
              "    background-color: var(--bg-color);\n",
              "    border: none;\n",
              "    border-radius: 50%;\n",
              "    cursor: pointer;\n",
              "    display: none;\n",
              "    fill: var(--fill-color);\n",
              "    height: 32px;\n",
              "    padding: 0;\n",
              "    width: 32px;\n",
              "  }\n",
              "\n",
              "  .colab-df-quickchart:hover {\n",
              "    background-color: var(--hover-bg-color);\n",
              "    box-shadow: 0 1px 2px rgba(60, 64, 67, 0.3), 0 1px 3px 1px rgba(60, 64, 67, 0.15);\n",
              "    fill: var(--button-hover-fill-color);\n",
              "  }\n",
              "\n",
              "  .colab-df-quickchart-complete:disabled,\n",
              "  .colab-df-quickchart-complete:disabled:hover {\n",
              "    background-color: var(--disabled-bg-color);\n",
              "    fill: var(--disabled-fill-color);\n",
              "    box-shadow: none;\n",
              "  }\n",
              "\n",
              "  .colab-df-spinner {\n",
              "    border: 2px solid var(--fill-color);\n",
              "    border-color: transparent;\n",
              "    border-bottom-color: var(--fill-color);\n",
              "    animation:\n",
              "      spin 1s steps(1) infinite;\n",
              "  }\n",
              "\n",
              "  @keyframes spin {\n",
              "    0% {\n",
              "      border-color: transparent;\n",
              "      border-bottom-color: var(--fill-color);\n",
              "      border-left-color: var(--fill-color);\n",
              "    }\n",
              "    20% {\n",
              "      border-color: transparent;\n",
              "      border-left-color: var(--fill-color);\n",
              "      border-top-color: var(--fill-color);\n",
              "    }\n",
              "    30% {\n",
              "      border-color: transparent;\n",
              "      border-left-color: var(--fill-color);\n",
              "      border-top-color: var(--fill-color);\n",
              "      border-right-color: var(--fill-color);\n",
              "    }\n",
              "    40% {\n",
              "      border-color: transparent;\n",
              "      border-right-color: var(--fill-color);\n",
              "      border-top-color: var(--fill-color);\n",
              "    }\n",
              "    60% {\n",
              "      border-color: transparent;\n",
              "      border-right-color: var(--fill-color);\n",
              "    }\n",
              "    80% {\n",
              "      border-color: transparent;\n",
              "      border-right-color: var(--fill-color);\n",
              "      border-bottom-color: var(--fill-color);\n",
              "    }\n",
              "    90% {\n",
              "      border-color: transparent;\n",
              "      border-bottom-color: var(--fill-color);\n",
              "    }\n",
              "  }\n",
              "</style>\n",
              "\n",
              "      <script>\n",
              "        async function quickchart(key) {\n",
              "          const quickchartButtonEl =\n",
              "            document.querySelector('#' + key + ' button');\n",
              "          quickchartButtonEl.disabled = true;  // To prevent multiple clicks.\n",
              "          quickchartButtonEl.classList.add('colab-df-spinner');\n",
              "          try {\n",
              "            const charts = await google.colab.kernel.invokeFunction(\n",
              "                'suggestCharts', [key], {});\n",
              "          } catch (error) {\n",
              "            console.error('Error during call to suggestCharts:', error);\n",
              "          }\n",
              "          quickchartButtonEl.classList.remove('colab-df-spinner');\n",
              "          quickchartButtonEl.classList.add('colab-df-quickchart-complete');\n",
              "        }\n",
              "        (() => {\n",
              "          let quickchartButtonEl =\n",
              "            document.querySelector('#df-0509a91d-cfbc-4a92-b8f9-26b817c5a75c button');\n",
              "          quickchartButtonEl.style.display =\n",
              "            google.colab.kernel.accessAllowed ? 'block' : 'none';\n",
              "        })();\n",
              "      </script>\n",
              "    </div>\n",
              "\n",
              "  <div id=\"id_507564f3-0e68-4f89-ad87-2d1f80274234\">\n",
              "    <style>\n",
              "      .colab-df-generate {\n",
              "        background-color: #E8F0FE;\n",
              "        border: none;\n",
              "        border-radius: 50%;\n",
              "        cursor: pointer;\n",
              "        display: none;\n",
              "        fill: #1967D2;\n",
              "        height: 32px;\n",
              "        padding: 0 0 0 0;\n",
              "        width: 32px;\n",
              "      }\n",
              "\n",
              "      .colab-df-generate:hover {\n",
              "        background-color: #E2EBFA;\n",
              "        box-shadow: 0px 1px 2px rgba(60, 64, 67, 0.3), 0px 1px 3px 1px rgba(60, 64, 67, 0.15);\n",
              "        fill: #174EA6;\n",
              "      }\n",
              "\n",
              "      [theme=dark] .colab-df-generate {\n",
              "        background-color: #3B4455;\n",
              "        fill: #D2E3FC;\n",
              "      }\n",
              "\n",
              "      [theme=dark] .colab-df-generate:hover {\n",
              "        background-color: #434B5C;\n",
              "        box-shadow: 0px 1px 3px 1px rgba(0, 0, 0, 0.15);\n",
              "        filter: drop-shadow(0px 1px 2px rgba(0, 0, 0, 0.3));\n",
              "        fill: #FFFFFF;\n",
              "      }\n",
              "    </style>\n",
              "    <button class=\"colab-df-generate\" onclick=\"generateWithVariable('data')\"\n",
              "            title=\"Generate code using this dataframe.\"\n",
              "            style=\"display:none;\">\n",
              "\n",
              "  <svg xmlns=\"http://www.w3.org/2000/svg\" height=\"24px\"viewBox=\"0 0 24 24\"\n",
              "       width=\"24px\">\n",
              "    <path d=\"M7,19H8.4L18.45,9,17,7.55,7,17.6ZM5,21V16.75L18.45,3.32a2,2,0,0,1,2.83,0l1.4,1.43a1.91,1.91,0,0,1,.58,1.4,1.91,1.91,0,0,1-.58,1.4L9.25,21ZM18.45,9,17,7.55Zm-12,3A5.31,5.31,0,0,0,4.9,8.1,5.31,5.31,0,0,0,1,6.5,5.31,5.31,0,0,0,4.9,4.9,5.31,5.31,0,0,0,6.5,1,5.31,5.31,0,0,0,8.1,4.9,5.31,5.31,0,0,0,12,6.5,5.46,5.46,0,0,0,6.5,12Z\"/>\n",
              "  </svg>\n",
              "    </button>\n",
              "    <script>\n",
              "      (() => {\n",
              "      const buttonEl =\n",
              "        document.querySelector('#id_507564f3-0e68-4f89-ad87-2d1f80274234 button.colab-df-generate');\n",
              "      buttonEl.style.display =\n",
              "        google.colab.kernel.accessAllowed ? 'block' : 'none';\n",
              "\n",
              "      buttonEl.onclick = () => {\n",
              "        google.colab.notebook.generateWithVariable('data');\n",
              "      }\n",
              "      })();\n",
              "    </script>\n",
              "  </div>\n",
              "\n",
              "    </div>\n",
              "  </div>\n"
            ],
            "application/vnd.google.colaboratory.intrinsic+json": {
              "type": "dataframe",
              "variable_name": "data",
              "summary": "{\n  \"name\": \"data\",\n  \"rows\": 3,\n  \"fields\": [\n    {\n      \"column\": \"Phone_text\",\n      \"properties\": {\n        \"dtype\": \"string\",\n        \"num_unique_values\": 3,\n        \"samples\": [\n          \"Ajith number is 9999999999\",\n          \"Suriya number is 8956231245\",\n          \"Vijay number is 6532215487\"\n        ],\n        \"semantic_type\": \"\",\n        \"description\": \"\"\n      }\n    }\n  ]\n}"
            }
          },
          "metadata": {},
          "execution_count": 75
        }
      ]
    },
    {
      "cell_type": "markdown",
      "source": [
        "Pandas Extract"
      ],
      "metadata": {
        "id": "Y6JvPbILFbQh"
      }
    },
    {
      "cell_type": "code",
      "source": [
        "data[\"Phone Number\"]=data[\"Phone_text\"].str.extract(r'(\\d{10})')\n",
        "data.head()"
      ],
      "metadata": {
        "colab": {
          "base_uri": "https://localhost:8080/",
          "height": 143
        },
        "id": "Xq5OLLey-bqM",
        "outputId": "2a1ef7a8-4e28-4bba-8cfd-c7e56e94f43f"
      },
      "execution_count": 76,
      "outputs": [
        {
          "output_type": "execute_result",
          "data": {
            "text/plain": [
              "                    Phone_text Phone Number\n",
              "0   Ajith number is 9999999999   9999999999\n",
              "1  Suriya number is 8956231245   8956231245\n",
              "2   Vijay number is 6532215487   6532215487"
            ],
            "text/html": [
              "\n",
              "  <div id=\"df-d829a9c0-e657-4536-a485-a6309dfbd133\" class=\"colab-df-container\">\n",
              "    <div>\n",
              "<style scoped>\n",
              "    .dataframe tbody tr th:only-of-type {\n",
              "        vertical-align: middle;\n",
              "    }\n",
              "\n",
              "    .dataframe tbody tr th {\n",
              "        vertical-align: top;\n",
              "    }\n",
              "\n",
              "    .dataframe thead th {\n",
              "        text-align: right;\n",
              "    }\n",
              "</style>\n",
              "<table border=\"1\" class=\"dataframe\">\n",
              "  <thead>\n",
              "    <tr style=\"text-align: right;\">\n",
              "      <th></th>\n",
              "      <th>Phone_text</th>\n",
              "      <th>Phone Number</th>\n",
              "    </tr>\n",
              "  </thead>\n",
              "  <tbody>\n",
              "    <tr>\n",
              "      <th>0</th>\n",
              "      <td>Ajith number is 9999999999</td>\n",
              "      <td>9999999999</td>\n",
              "    </tr>\n",
              "    <tr>\n",
              "      <th>1</th>\n",
              "      <td>Suriya number is 8956231245</td>\n",
              "      <td>8956231245</td>\n",
              "    </tr>\n",
              "    <tr>\n",
              "      <th>2</th>\n",
              "      <td>Vijay number is 6532215487</td>\n",
              "      <td>6532215487</td>\n",
              "    </tr>\n",
              "  </tbody>\n",
              "</table>\n",
              "</div>\n",
              "    <div class=\"colab-df-buttons\">\n",
              "\n",
              "  <div class=\"colab-df-container\">\n",
              "    <button class=\"colab-df-convert\" onclick=\"convertToInteractive('df-d829a9c0-e657-4536-a485-a6309dfbd133')\"\n",
              "            title=\"Convert this dataframe to an interactive table.\"\n",
              "            style=\"display:none;\">\n",
              "\n",
              "  <svg xmlns=\"http://www.w3.org/2000/svg\" height=\"24px\" viewBox=\"0 -960 960 960\">\n",
              "    <path d=\"M120-120v-720h720v720H120Zm60-500h600v-160H180v160Zm220 220h160v-160H400v160Zm0 220h160v-160H400v160ZM180-400h160v-160H180v160Zm440 0h160v-160H620v160ZM180-180h160v-160H180v160Zm440 0h160v-160H620v160Z\"/>\n",
              "  </svg>\n",
              "    </button>\n",
              "\n",
              "  <style>\n",
              "    .colab-df-container {\n",
              "      display:flex;\n",
              "      gap: 12px;\n",
              "    }\n",
              "\n",
              "    .colab-df-convert {\n",
              "      background-color: #E8F0FE;\n",
              "      border: none;\n",
              "      border-radius: 50%;\n",
              "      cursor: pointer;\n",
              "      display: none;\n",
              "      fill: #1967D2;\n",
              "      height: 32px;\n",
              "      padding: 0 0 0 0;\n",
              "      width: 32px;\n",
              "    }\n",
              "\n",
              "    .colab-df-convert:hover {\n",
              "      background-color: #E2EBFA;\n",
              "      box-shadow: 0px 1px 2px rgba(60, 64, 67, 0.3), 0px 1px 3px 1px rgba(60, 64, 67, 0.15);\n",
              "      fill: #174EA6;\n",
              "    }\n",
              "\n",
              "    .colab-df-buttons div {\n",
              "      margin-bottom: 4px;\n",
              "    }\n",
              "\n",
              "    [theme=dark] .colab-df-convert {\n",
              "      background-color: #3B4455;\n",
              "      fill: #D2E3FC;\n",
              "    }\n",
              "\n",
              "    [theme=dark] .colab-df-convert:hover {\n",
              "      background-color: #434B5C;\n",
              "      box-shadow: 0px 1px 3px 1px rgba(0, 0, 0, 0.15);\n",
              "      filter: drop-shadow(0px 1px 2px rgba(0, 0, 0, 0.3));\n",
              "      fill: #FFFFFF;\n",
              "    }\n",
              "  </style>\n",
              "\n",
              "    <script>\n",
              "      const buttonEl =\n",
              "        document.querySelector('#df-d829a9c0-e657-4536-a485-a6309dfbd133 button.colab-df-convert');\n",
              "      buttonEl.style.display =\n",
              "        google.colab.kernel.accessAllowed ? 'block' : 'none';\n",
              "\n",
              "      async function convertToInteractive(key) {\n",
              "        const element = document.querySelector('#df-d829a9c0-e657-4536-a485-a6309dfbd133');\n",
              "        const dataTable =\n",
              "          await google.colab.kernel.invokeFunction('convertToInteractive',\n",
              "                                                    [key], {});\n",
              "        if (!dataTable) return;\n",
              "\n",
              "        const docLinkHtml = 'Like what you see? Visit the ' +\n",
              "          '<a target=\"_blank\" href=https://colab.research.google.com/notebooks/data_table.ipynb>data table notebook</a>'\n",
              "          + ' to learn more about interactive tables.';\n",
              "        element.innerHTML = '';\n",
              "        dataTable['output_type'] = 'display_data';\n",
              "        await google.colab.output.renderOutput(dataTable, element);\n",
              "        const docLink = document.createElement('div');\n",
              "        docLink.innerHTML = docLinkHtml;\n",
              "        element.appendChild(docLink);\n",
              "      }\n",
              "    </script>\n",
              "  </div>\n",
              "\n",
              "\n",
              "    <div id=\"df-27fd0898-c581-4373-8bab-49288c41b454\">\n",
              "      <button class=\"colab-df-quickchart\" onclick=\"quickchart('df-27fd0898-c581-4373-8bab-49288c41b454')\"\n",
              "                title=\"Suggest charts\"\n",
              "                style=\"display:none;\">\n",
              "\n",
              "<svg xmlns=\"http://www.w3.org/2000/svg\" height=\"24px\"viewBox=\"0 0 24 24\"\n",
              "     width=\"24px\">\n",
              "    <g>\n",
              "        <path d=\"M19 3H5c-1.1 0-2 .9-2 2v14c0 1.1.9 2 2 2h14c1.1 0 2-.9 2-2V5c0-1.1-.9-2-2-2zM9 17H7v-7h2v7zm4 0h-2V7h2v10zm4 0h-2v-4h2v4z\"/>\n",
              "    </g>\n",
              "</svg>\n",
              "      </button>\n",
              "\n",
              "<style>\n",
              "  .colab-df-quickchart {\n",
              "      --bg-color: #E8F0FE;\n",
              "      --fill-color: #1967D2;\n",
              "      --hover-bg-color: #E2EBFA;\n",
              "      --hover-fill-color: #174EA6;\n",
              "      --disabled-fill-color: #AAA;\n",
              "      --disabled-bg-color: #DDD;\n",
              "  }\n",
              "\n",
              "  [theme=dark] .colab-df-quickchart {\n",
              "      --bg-color: #3B4455;\n",
              "      --fill-color: #D2E3FC;\n",
              "      --hover-bg-color: #434B5C;\n",
              "      --hover-fill-color: #FFFFFF;\n",
              "      --disabled-bg-color: #3B4455;\n",
              "      --disabled-fill-color: #666;\n",
              "  }\n",
              "\n",
              "  .colab-df-quickchart {\n",
              "    background-color: var(--bg-color);\n",
              "    border: none;\n",
              "    border-radius: 50%;\n",
              "    cursor: pointer;\n",
              "    display: none;\n",
              "    fill: var(--fill-color);\n",
              "    height: 32px;\n",
              "    padding: 0;\n",
              "    width: 32px;\n",
              "  }\n",
              "\n",
              "  .colab-df-quickchart:hover {\n",
              "    background-color: var(--hover-bg-color);\n",
              "    box-shadow: 0 1px 2px rgba(60, 64, 67, 0.3), 0 1px 3px 1px rgba(60, 64, 67, 0.15);\n",
              "    fill: var(--button-hover-fill-color);\n",
              "  }\n",
              "\n",
              "  .colab-df-quickchart-complete:disabled,\n",
              "  .colab-df-quickchart-complete:disabled:hover {\n",
              "    background-color: var(--disabled-bg-color);\n",
              "    fill: var(--disabled-fill-color);\n",
              "    box-shadow: none;\n",
              "  }\n",
              "\n",
              "  .colab-df-spinner {\n",
              "    border: 2px solid var(--fill-color);\n",
              "    border-color: transparent;\n",
              "    border-bottom-color: var(--fill-color);\n",
              "    animation:\n",
              "      spin 1s steps(1) infinite;\n",
              "  }\n",
              "\n",
              "  @keyframes spin {\n",
              "    0% {\n",
              "      border-color: transparent;\n",
              "      border-bottom-color: var(--fill-color);\n",
              "      border-left-color: var(--fill-color);\n",
              "    }\n",
              "    20% {\n",
              "      border-color: transparent;\n",
              "      border-left-color: var(--fill-color);\n",
              "      border-top-color: var(--fill-color);\n",
              "    }\n",
              "    30% {\n",
              "      border-color: transparent;\n",
              "      border-left-color: var(--fill-color);\n",
              "      border-top-color: var(--fill-color);\n",
              "      border-right-color: var(--fill-color);\n",
              "    }\n",
              "    40% {\n",
              "      border-color: transparent;\n",
              "      border-right-color: var(--fill-color);\n",
              "      border-top-color: var(--fill-color);\n",
              "    }\n",
              "    60% {\n",
              "      border-color: transparent;\n",
              "      border-right-color: var(--fill-color);\n",
              "    }\n",
              "    80% {\n",
              "      border-color: transparent;\n",
              "      border-right-color: var(--fill-color);\n",
              "      border-bottom-color: var(--fill-color);\n",
              "    }\n",
              "    90% {\n",
              "      border-color: transparent;\n",
              "      border-bottom-color: var(--fill-color);\n",
              "    }\n",
              "  }\n",
              "</style>\n",
              "\n",
              "      <script>\n",
              "        async function quickchart(key) {\n",
              "          const quickchartButtonEl =\n",
              "            document.querySelector('#' + key + ' button');\n",
              "          quickchartButtonEl.disabled = true;  // To prevent multiple clicks.\n",
              "          quickchartButtonEl.classList.add('colab-df-spinner');\n",
              "          try {\n",
              "            const charts = await google.colab.kernel.invokeFunction(\n",
              "                'suggestCharts', [key], {});\n",
              "          } catch (error) {\n",
              "            console.error('Error during call to suggestCharts:', error);\n",
              "          }\n",
              "          quickchartButtonEl.classList.remove('colab-df-spinner');\n",
              "          quickchartButtonEl.classList.add('colab-df-quickchart-complete');\n",
              "        }\n",
              "        (() => {\n",
              "          let quickchartButtonEl =\n",
              "            document.querySelector('#df-27fd0898-c581-4373-8bab-49288c41b454 button');\n",
              "          quickchartButtonEl.style.display =\n",
              "            google.colab.kernel.accessAllowed ? 'block' : 'none';\n",
              "        })();\n",
              "      </script>\n",
              "    </div>\n",
              "\n",
              "    </div>\n",
              "  </div>\n"
            ],
            "application/vnd.google.colaboratory.intrinsic+json": {
              "type": "dataframe",
              "variable_name": "data",
              "summary": "{\n  \"name\": \"data\",\n  \"rows\": 3,\n  \"fields\": [\n    {\n      \"column\": \"Phone_text\",\n      \"properties\": {\n        \"dtype\": \"string\",\n        \"num_unique_values\": 3,\n        \"samples\": [\n          \"Ajith number is 9999999999\",\n          \"Suriya number is 8956231245\",\n          \"Vijay number is 6532215487\"\n        ],\n        \"semantic_type\": \"\",\n        \"description\": \"\"\n      }\n    },\n    {\n      \"column\": \"Phone Number\",\n      \"properties\": {\n        \"dtype\": \"string\",\n        \"num_unique_values\": 3,\n        \"samples\": [\n          \"9999999999\",\n          \"8956231245\",\n          \"6532215487\"\n        ],\n        \"semantic_type\": \"\",\n        \"description\": \"\"\n      }\n    }\n  ]\n}"
            }
          },
          "metadata": {},
          "execution_count": 76
        }
      ]
    },
    {
      "cell_type": "markdown",
      "source": [
        "# Using apply function"
      ],
      "metadata": {
        "id": "_MmUUIW7Gr6m"
      }
    },
    {
      "cell_type": "code",
      "source": [
        "def extract_phone_number(text):\n",
        "    pattern = r'\\d{10}'\n",
        "    searfch_obj = re.search(pattern, text)\n",
        "    number= searfch_obj.group()\n",
        "    return number"
      ],
      "metadata": {
        "id": "Y14bEsuh-btB"
      },
      "execution_count": 77,
      "outputs": []
    },
    {
      "cell_type": "code",
      "source": [
        "data[\"Apply Phone Number\"]=data[\"Phone_text\"].apply(extract_phone_number)\n",
        "data.head()"
      ],
      "metadata": {
        "colab": {
          "base_uri": "https://localhost:8080/",
          "height": 143
        },
        "id": "FMJqncgs-bwA",
        "outputId": "0f9c6fbc-7f45-492e-d023-58737be61168"
      },
      "execution_count": 78,
      "outputs": [
        {
          "output_type": "execute_result",
          "data": {
            "text/plain": [
              "                    Phone_text Phone Number Apply Phone Number\n",
              "0   Ajith number is 9999999999   9999999999         9999999999\n",
              "1  Suriya number is 8956231245   8956231245         8956231245\n",
              "2   Vijay number is 6532215487   6532215487         6532215487"
            ],
            "text/html": [
              "\n",
              "  <div id=\"df-48949b81-4209-4761-bd9f-ca821398e83d\" class=\"colab-df-container\">\n",
              "    <div>\n",
              "<style scoped>\n",
              "    .dataframe tbody tr th:only-of-type {\n",
              "        vertical-align: middle;\n",
              "    }\n",
              "\n",
              "    .dataframe tbody tr th {\n",
              "        vertical-align: top;\n",
              "    }\n",
              "\n",
              "    .dataframe thead th {\n",
              "        text-align: right;\n",
              "    }\n",
              "</style>\n",
              "<table border=\"1\" class=\"dataframe\">\n",
              "  <thead>\n",
              "    <tr style=\"text-align: right;\">\n",
              "      <th></th>\n",
              "      <th>Phone_text</th>\n",
              "      <th>Phone Number</th>\n",
              "      <th>Apply Phone Number</th>\n",
              "    </tr>\n",
              "  </thead>\n",
              "  <tbody>\n",
              "    <tr>\n",
              "      <th>0</th>\n",
              "      <td>Ajith number is 9999999999</td>\n",
              "      <td>9999999999</td>\n",
              "      <td>9999999999</td>\n",
              "    </tr>\n",
              "    <tr>\n",
              "      <th>1</th>\n",
              "      <td>Suriya number is 8956231245</td>\n",
              "      <td>8956231245</td>\n",
              "      <td>8956231245</td>\n",
              "    </tr>\n",
              "    <tr>\n",
              "      <th>2</th>\n",
              "      <td>Vijay number is 6532215487</td>\n",
              "      <td>6532215487</td>\n",
              "      <td>6532215487</td>\n",
              "    </tr>\n",
              "  </tbody>\n",
              "</table>\n",
              "</div>\n",
              "    <div class=\"colab-df-buttons\">\n",
              "\n",
              "  <div class=\"colab-df-container\">\n",
              "    <button class=\"colab-df-convert\" onclick=\"convertToInteractive('df-48949b81-4209-4761-bd9f-ca821398e83d')\"\n",
              "            title=\"Convert this dataframe to an interactive table.\"\n",
              "            style=\"display:none;\">\n",
              "\n",
              "  <svg xmlns=\"http://www.w3.org/2000/svg\" height=\"24px\" viewBox=\"0 -960 960 960\">\n",
              "    <path d=\"M120-120v-720h720v720H120Zm60-500h600v-160H180v160Zm220 220h160v-160H400v160Zm0 220h160v-160H400v160ZM180-400h160v-160H180v160Zm440 0h160v-160H620v160ZM180-180h160v-160H180v160Zm440 0h160v-160H620v160Z\"/>\n",
              "  </svg>\n",
              "    </button>\n",
              "\n",
              "  <style>\n",
              "    .colab-df-container {\n",
              "      display:flex;\n",
              "      gap: 12px;\n",
              "    }\n",
              "\n",
              "    .colab-df-convert {\n",
              "      background-color: #E8F0FE;\n",
              "      border: none;\n",
              "      border-radius: 50%;\n",
              "      cursor: pointer;\n",
              "      display: none;\n",
              "      fill: #1967D2;\n",
              "      height: 32px;\n",
              "      padding: 0 0 0 0;\n",
              "      width: 32px;\n",
              "    }\n",
              "\n",
              "    .colab-df-convert:hover {\n",
              "      background-color: #E2EBFA;\n",
              "      box-shadow: 0px 1px 2px rgba(60, 64, 67, 0.3), 0px 1px 3px 1px rgba(60, 64, 67, 0.15);\n",
              "      fill: #174EA6;\n",
              "    }\n",
              "\n",
              "    .colab-df-buttons div {\n",
              "      margin-bottom: 4px;\n",
              "    }\n",
              "\n",
              "    [theme=dark] .colab-df-convert {\n",
              "      background-color: #3B4455;\n",
              "      fill: #D2E3FC;\n",
              "    }\n",
              "\n",
              "    [theme=dark] .colab-df-convert:hover {\n",
              "      background-color: #434B5C;\n",
              "      box-shadow: 0px 1px 3px 1px rgba(0, 0, 0, 0.15);\n",
              "      filter: drop-shadow(0px 1px 2px rgba(0, 0, 0, 0.3));\n",
              "      fill: #FFFFFF;\n",
              "    }\n",
              "  </style>\n",
              "\n",
              "    <script>\n",
              "      const buttonEl =\n",
              "        document.querySelector('#df-48949b81-4209-4761-bd9f-ca821398e83d button.colab-df-convert');\n",
              "      buttonEl.style.display =\n",
              "        google.colab.kernel.accessAllowed ? 'block' : 'none';\n",
              "\n",
              "      async function convertToInteractive(key) {\n",
              "        const element = document.querySelector('#df-48949b81-4209-4761-bd9f-ca821398e83d');\n",
              "        const dataTable =\n",
              "          await google.colab.kernel.invokeFunction('convertToInteractive',\n",
              "                                                    [key], {});\n",
              "        if (!dataTable) return;\n",
              "\n",
              "        const docLinkHtml = 'Like what you see? Visit the ' +\n",
              "          '<a target=\"_blank\" href=https://colab.research.google.com/notebooks/data_table.ipynb>data table notebook</a>'\n",
              "          + ' to learn more about interactive tables.';\n",
              "        element.innerHTML = '';\n",
              "        dataTable['output_type'] = 'display_data';\n",
              "        await google.colab.output.renderOutput(dataTable, element);\n",
              "        const docLink = document.createElement('div');\n",
              "        docLink.innerHTML = docLinkHtml;\n",
              "        element.appendChild(docLink);\n",
              "      }\n",
              "    </script>\n",
              "  </div>\n",
              "\n",
              "\n",
              "    <div id=\"df-35260ebf-b29c-422b-a1c7-9978eff6394d\">\n",
              "      <button class=\"colab-df-quickchart\" onclick=\"quickchart('df-35260ebf-b29c-422b-a1c7-9978eff6394d')\"\n",
              "                title=\"Suggest charts\"\n",
              "                style=\"display:none;\">\n",
              "\n",
              "<svg xmlns=\"http://www.w3.org/2000/svg\" height=\"24px\"viewBox=\"0 0 24 24\"\n",
              "     width=\"24px\">\n",
              "    <g>\n",
              "        <path d=\"M19 3H5c-1.1 0-2 .9-2 2v14c0 1.1.9 2 2 2h14c1.1 0 2-.9 2-2V5c0-1.1-.9-2-2-2zM9 17H7v-7h2v7zm4 0h-2V7h2v10zm4 0h-2v-4h2v4z\"/>\n",
              "    </g>\n",
              "</svg>\n",
              "      </button>\n",
              "\n",
              "<style>\n",
              "  .colab-df-quickchart {\n",
              "      --bg-color: #E8F0FE;\n",
              "      --fill-color: #1967D2;\n",
              "      --hover-bg-color: #E2EBFA;\n",
              "      --hover-fill-color: #174EA6;\n",
              "      --disabled-fill-color: #AAA;\n",
              "      --disabled-bg-color: #DDD;\n",
              "  }\n",
              "\n",
              "  [theme=dark] .colab-df-quickchart {\n",
              "      --bg-color: #3B4455;\n",
              "      --fill-color: #D2E3FC;\n",
              "      --hover-bg-color: #434B5C;\n",
              "      --hover-fill-color: #FFFFFF;\n",
              "      --disabled-bg-color: #3B4455;\n",
              "      --disabled-fill-color: #666;\n",
              "  }\n",
              "\n",
              "  .colab-df-quickchart {\n",
              "    background-color: var(--bg-color);\n",
              "    border: none;\n",
              "    border-radius: 50%;\n",
              "    cursor: pointer;\n",
              "    display: none;\n",
              "    fill: var(--fill-color);\n",
              "    height: 32px;\n",
              "    padding: 0;\n",
              "    width: 32px;\n",
              "  }\n",
              "\n",
              "  .colab-df-quickchart:hover {\n",
              "    background-color: var(--hover-bg-color);\n",
              "    box-shadow: 0 1px 2px rgba(60, 64, 67, 0.3), 0 1px 3px 1px rgba(60, 64, 67, 0.15);\n",
              "    fill: var(--button-hover-fill-color);\n",
              "  }\n",
              "\n",
              "  .colab-df-quickchart-complete:disabled,\n",
              "  .colab-df-quickchart-complete:disabled:hover {\n",
              "    background-color: var(--disabled-bg-color);\n",
              "    fill: var(--disabled-fill-color);\n",
              "    box-shadow: none;\n",
              "  }\n",
              "\n",
              "  .colab-df-spinner {\n",
              "    border: 2px solid var(--fill-color);\n",
              "    border-color: transparent;\n",
              "    border-bottom-color: var(--fill-color);\n",
              "    animation:\n",
              "      spin 1s steps(1) infinite;\n",
              "  }\n",
              "\n",
              "  @keyframes spin {\n",
              "    0% {\n",
              "      border-color: transparent;\n",
              "      border-bottom-color: var(--fill-color);\n",
              "      border-left-color: var(--fill-color);\n",
              "    }\n",
              "    20% {\n",
              "      border-color: transparent;\n",
              "      border-left-color: var(--fill-color);\n",
              "      border-top-color: var(--fill-color);\n",
              "    }\n",
              "    30% {\n",
              "      border-color: transparent;\n",
              "      border-left-color: var(--fill-color);\n",
              "      border-top-color: var(--fill-color);\n",
              "      border-right-color: var(--fill-color);\n",
              "    }\n",
              "    40% {\n",
              "      border-color: transparent;\n",
              "      border-right-color: var(--fill-color);\n",
              "      border-top-color: var(--fill-color);\n",
              "    }\n",
              "    60% {\n",
              "      border-color: transparent;\n",
              "      border-right-color: var(--fill-color);\n",
              "    }\n",
              "    80% {\n",
              "      border-color: transparent;\n",
              "      border-right-color: var(--fill-color);\n",
              "      border-bottom-color: var(--fill-color);\n",
              "    }\n",
              "    90% {\n",
              "      border-color: transparent;\n",
              "      border-bottom-color: var(--fill-color);\n",
              "    }\n",
              "  }\n",
              "</style>\n",
              "\n",
              "      <script>\n",
              "        async function quickchart(key) {\n",
              "          const quickchartButtonEl =\n",
              "            document.querySelector('#' + key + ' button');\n",
              "          quickchartButtonEl.disabled = true;  // To prevent multiple clicks.\n",
              "          quickchartButtonEl.classList.add('colab-df-spinner');\n",
              "          try {\n",
              "            const charts = await google.colab.kernel.invokeFunction(\n",
              "                'suggestCharts', [key], {});\n",
              "          } catch (error) {\n",
              "            console.error('Error during call to suggestCharts:', error);\n",
              "          }\n",
              "          quickchartButtonEl.classList.remove('colab-df-spinner');\n",
              "          quickchartButtonEl.classList.add('colab-df-quickchart-complete');\n",
              "        }\n",
              "        (() => {\n",
              "          let quickchartButtonEl =\n",
              "            document.querySelector('#df-35260ebf-b29c-422b-a1c7-9978eff6394d button');\n",
              "          quickchartButtonEl.style.display =\n",
              "            google.colab.kernel.accessAllowed ? 'block' : 'none';\n",
              "        })();\n",
              "      </script>\n",
              "    </div>\n",
              "\n",
              "    </div>\n",
              "  </div>\n"
            ],
            "application/vnd.google.colaboratory.intrinsic+json": {
              "type": "dataframe",
              "variable_name": "data",
              "summary": "{\n  \"name\": \"data\",\n  \"rows\": 3,\n  \"fields\": [\n    {\n      \"column\": \"Phone_text\",\n      \"properties\": {\n        \"dtype\": \"string\",\n        \"num_unique_values\": 3,\n        \"samples\": [\n          \"Ajith number is 9999999999\",\n          \"Suriya number is 8956231245\",\n          \"Vijay number is 6532215487\"\n        ],\n        \"semantic_type\": \"\",\n        \"description\": \"\"\n      }\n    },\n    {\n      \"column\": \"Phone Number\",\n      \"properties\": {\n        \"dtype\": \"string\",\n        \"num_unique_values\": 3,\n        \"samples\": [\n          \"9999999999\",\n          \"8956231245\",\n          \"6532215487\"\n        ],\n        \"semantic_type\": \"\",\n        \"description\": \"\"\n      }\n    },\n    {\n      \"column\": \"Apply Phone Number\",\n      \"properties\": {\n        \"dtype\": \"string\",\n        \"num_unique_values\": 3,\n        \"samples\": [\n          \"9999999999\",\n          \"8956231245\",\n          \"6532215487\"\n        ],\n        \"semantic_type\": \"\",\n        \"description\": \"\"\n      }\n    }\n  ]\n}"
            }
          },
          "metadata": {},
          "execution_count": 78
        }
      ]
    },
    {
      "cell_type": "code",
      "source": [],
      "metadata": {
        "id": "YMc-Crht-by2"
      },
      "execution_count": null,
      "outputs": []
    },
    {
      "cell_type": "code",
      "source": [],
      "metadata": {
        "id": "wD2Qwb_6-b2I"
      },
      "execution_count": null,
      "outputs": []
    },
    {
      "cell_type": "code",
      "source": [],
      "metadata": {
        "id": "4Wjo28ME-b5T"
      },
      "execution_count": null,
      "outputs": []
    }
  ]
}