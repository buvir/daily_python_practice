{
  "cells": [
    {
      "cell_type": "markdown",
      "metadata": {
        "id": "view-in-github",
        "colab_type": "text"
      },
      "source": [
        "<a href=\"https://colab.research.google.com/github/buvir/daily_python_practice/blob/main/Regex_Solutions.ipynb\" target=\"_parent\"><img src=\"https://colab.research.google.com/assets/colab-badge.svg\" alt=\"Open In Colab\"/></a>"
      ]
    },
    {
      "cell_type": "markdown",
      "metadata": {
        "id": "FSjo1RkHwHtF"
      },
      "source": [
        "## <center><u>Regular Expression</u></center>\n",
        "\n",
        "\n",
        "Regular Expression – better known as Regex – is pattern matching. As regular expressions are regular, it means they are used to match well-defined patterns. Regular expression or pattern matching tools identify words and phrases with common patterns.  A typical use case for Regex is find and replace, however as it is not able to understand syntax, grammar, or context, Regex solutions tend to operate on a very small well-defined problem set. Basically, Regex solutions are using pattern matching to merely identify similarities and differences in patterns of words and phrases. They are not able to identify words and phrases taking into consideration syntax, grammar and ultimately context.\n",
        "\n",
        "\n",
        "You will be facing some challenging questions on Regex in this assignment. Below **`following steps`** would help you to complete this assignment:\n",
        "\n",
        "- **`1. Read the question`**\n",
        "- **`2. Go to the link given under the question`**\n",
        "- **`3. You will land on Hakerrank page, if not then create your Hakerrank account.`**\n",
        "- **`4. Once you land on hankerank page mentioned under question, go through the given problem carefully.`**\n",
        "- **`5. Solve it in the editor given in the page. Select python3 as your language in the editor and click 'Run Code' Button`**\n",
        "- **`6. Once you have passed all the sample test cases, write your solution in this assignment against each question, save the file and then submit on portal.`**\n",
        "\n",
        "\n",
        "If you need any assistence on Regex, then please refer below links:\n",
        "\n",
        "## **`Watch Video 18: Regex Tutorial`**\n",
        "\n",
        "Regex doc: https://docs.python.org/3/howto/regex.html\n",
        "\n",
        "\n"
      ]
    },
    {
      "cell_type": "markdown",
      "metadata": {
        "id": "0kkaVALuwHtK"
      },
      "source": [
        "#### Q1. Matching string problem\n",
        "\n",
        "https://www.hackerrank.com/challenges/matching-specific-string/problem"
      ]
    },
    {
      "cell_type": "markdown",
      "source": [
        "Task\n",
        "\n",
        "You have a test string . Your task is to match the string hackerrank. This is case sensitive.\n",
        "\n",
        "Note\n",
        "\n",
        "This is a regex only challenge. You are not required to write code.\n",
        "You only have to fill in the regex pattern in the blank (_________)."
      ],
      "metadata": {
        "id": "7Pm1TmJnMnc2"
      }
    },
    {
      "cell_type": "code",
      "source": [
        "\n",
        "\n",
        "Regex_Pattern = r'hackerrank'\t# Do not delete 'r'.\n",
        "\n",
        "import re"
      ],
      "metadata": {
        "id": "jL2M3dqPwbv3"
      },
      "execution_count": null,
      "outputs": []
    },
    {
      "cell_type": "markdown",
      "metadata": {
        "id": "96u-5hSQwHtM"
      },
      "source": [
        "#### Q2 Matching anything\n",
        "\n",
        "link - https://www.hackerrank.com/challenges/matching-anything-but-new-line/problem\n"
      ]
    },
    {
      "cell_type": "markdown",
      "source": [
        "You have a test string .\n",
        "Your task is to write a regular expression that matches only and exactly strings of form: abc,def, where each variable a,b,c,d,e can be any single character except the newline.\n",
        "\n",
        "Note\n",
        "\n",
        "This is a regex only challenge. You are not required to write any code.\n",
        "You only have to fill in the regex pattern in the blank (_________).\n",
        "1/2 test cases failed"
      ],
      "metadata": {
        "id": "rZ-5kUm248yh"
      }
    },
    {
      "cell_type": "code",
      "source": [
        "\n",
        "regex_pattern = r\"^[^\\n]{3}\\.[^\\n]{3}\\.[^\\n]{3}\\.[^\\n]{3}$\"\n",
        "# Do not delete 'r'.\n",
        "\n",
        "import re"
      ],
      "metadata": {
        "id": "vLhIrsWgwd-w"
      },
      "execution_count": null,
      "outputs": []
    },
    {
      "cell_type": "markdown",
      "metadata": {
        "id": "2r69G5X6wHtN"
      },
      "source": [
        "#### Q3 Matching non digit character\n",
        "\n",
        "link - https://www.hackerrank.com/challenges/matching-digits-non-digit-character/problem"
      ]
    },
    {
      "cell_type": "markdown",
      "source": [
        "Task\n",
        "\n",
        "You have a test string . Your task is to match the pattern\n",
        "Here  denotes a digit character, and  denotes a non-digit character.\n",
        "\n",
        "Note\n",
        "\n",
        "This is a regex only challenge. You are not required to write any code.\n",
        "You only have to fill the regex pattern in the blank (_________)."
      ],
      "metadata": {
        "id": "vi0dKbQLZFPY"
      }
    },
    {
      "cell_type": "code",
      "source": [
        "Regex_Pattern = r\"(\\d{2}\\D\\d{2}\\D\\d{4})\"\t# Do not delete 'r'.\n",
        "\n",
        "import re"
      ],
      "metadata": {
        "id": "ewXFBXv-whb0"
      },
      "execution_count": null,
      "outputs": []
    },
    {
      "cell_type": "markdown",
      "metadata": {
        "id": "nAwYC2WWwHtO"
      },
      "source": [
        "#### Q4 matching whitespace - non whitespace\n",
        "\n",
        "\n",
        "link - https://www.hackerrank.com/challenges/matching-whitespace-non-whitespace-character/problem?h_r=next-challenge&h_v=zen\n"
      ]
    },
    {
      "cell_type": "markdown",
      "source": [
        "Task\n",
        "\n",
        "You have a test string . Your task is to match the pattern\n",
        "Here,  denotes whitespace characters, and  denotes non-white space characters.\n",
        "\n",
        "Note\n",
        "\n",
        "This is a regex only challenge. You are not required to write code.\n",
        "You have to fill the regex pattern in the blank (_________)."
      ],
      "metadata": {
        "id": "NUjMhtPSZwcA"
      }
    },
    {
      "cell_type": "code",
      "source": [
        "Regex_Pattern = r\"\\S\\S\\s\\S\\S\\s\\S\\S\"\t# Do not delete 'r'.\n",
        "\n",
        "import re"
      ],
      "metadata": {
        "id": "u-b0idauwk4k"
      },
      "execution_count": null,
      "outputs": []
    },
    {
      "cell_type": "markdown",
      "metadata": {
        "id": "BmfTWoPhwHtP"
      },
      "source": [
        "#### Q5 matching start end problem\n",
        "\n",
        "\n",
        "\n",
        "link - https://www.hackerrank.com/challenges/matching-start-end/problem?h_r=next-challenge&h_v=zen&h_r=next-challenge&h_v=zen&h_r=next-challenge&h_v=zen"
      ]
    },
    {
      "cell_type": "markdown",
      "source": [
        "Task\n",
        "\n",
        "You have a test string . Your task is to match the pattern\n",
        "Here,  denotes a word character, and  denotes a digit.\n",
        " must start with a digit  and end with . symbol.\n",
        " should be  characters long only.\n",
        "\n",
        "Note\n",
        "\n",
        "This is a regex only challenge. You are not required to write code.\n",
        "You have to fill the regex pattern in the blank (_________).\n",
        "\n"
      ],
      "metadata": {
        "id": "Tdp-0WI4a8o3"
      }
    },
    {
      "cell_type": "code",
      "source": [
        "\n",
        "Regex_Pattern = r\"^\\d\\w{4}\\.$\"\t# Do not delete 'r'.\n",
        "\n",
        "import re"
      ],
      "metadata": {
        "id": "2YrxQ2htwYYR"
      },
      "execution_count": null,
      "outputs": []
    },
    {
      "cell_type": "markdown",
      "metadata": {
        "id": "y0zG45zvwHtQ"
      },
      "source": [
        "#### Q6 negative lookbehind\n",
        "\n",
        "link - https://www.hackerrank.com/challenges/negative-lookbehind/problem"
      ]
    },
    {
      "cell_type": "markdown",
      "source": [
        "You have a test String .\n",
        "Write a regex which can match all the occurences of characters which are not immediately preceded by vowels (a, e, i, u, o, A, E, I, O, U).\n",
        "\n",
        "Note\n",
        "\n",
        "This is a regex only challenge. You are not required to write a code.\n",
        "You have to fill the regex pattern in the blank (_________)."
      ],
      "metadata": {
        "id": "_ClwDkCFgZHf"
      }
    },
    {
      "cell_type": "code",
      "source": [
        "Regex_Pattern = r\"(?<![aeiouAEIOU])(.)\"\t# Do not delete 'r'.\n",
        "\n",
        "import re"
      ],
      "metadata": {
        "id": "Nc8Eh8yHwVO9"
      },
      "execution_count": null,
      "outputs": []
    },
    {
      "cell_type": "markdown",
      "metadata": {
        "id": "GvFxBjskwHtR"
      },
      "source": [
        "#### Q7 Html attribute problem\n",
        "\n",
        "link - https://www.hackerrank.com/challenges/html-attributes/problem"
      ]
    },
    {
      "cell_type": "markdown",
      "source": [
        "Charlie's second assignment was given by the Professor as soon as he submitted the first one. Professor asked Charlie to create a list of all the attributes of every tag found in HTML pages.\n",
        "\n",
        "<p>This is a paragraph</p>  \n",
        "The above HTML string has p as its tag but no attributes.\n",
        "\n",
        "<a href=\"http://www.quackit.com/html/tutorial/html_links.cfm\">Example Link</a>\n",
        "This string has a as a tag and href as an attribute.\n",
        "\n",
        "Input Format\n",
        "\n",
        "The first line contains N, the number of lines in the HTML fragment. This is followed by lines from a valid HTML document or fragment.\n",
        "\n",
        "Constraints\n",
        "\n",
        "Number of characters in the test fragments <= 10000 characters. Characters will be restricted to ASCII. Fragments for the tests will be picked up from Wikipedia.\n",
        "Attributes are all lowercase alphabets.\n",
        "\n",
        "Output Format\n",
        "\n",
        "Each tag must be separated by a newline arranged in lexicographic order\n",
        "Each attribute noted for a given tag must be arranged next to a tag in lexicographic order.\n",
        "\n",
        "The output will be of the format\n",
        "\n",
        "tag-1:attribute-1,attribute-2,attribute-3....\n",
        "tag-2:attribute-1,attribute-2,attribute-3....\n",
        "tag-3:attribute-1,attribute-2,attribute-3....\n",
        "...\n",
        "tag-n:attribute-1,attribute-2,attribute-3....\n",
        "Where tag-1 is lexicographically smaller than tag-2 and attribute-1 is lexicographically smaller than attribute-2\n",
        "\n",
        "Sample Input:1\n",
        "\n",
        "2\n",
        "<p><a href=\"http://www.quackit.com/html/tutorial/html_links.cfm\">Example Link</a></p>\n",
        "<div class=\"more-info\"><a href=\"http://www.quackit.com/html/examples/html_links_examples.cfm\">More Link Examples...</a></div>\n",
        "Sample Output:1\n",
        "\n",
        "a:href\n",
        "div:class\n",
        "p:\n",
        "Sample Input:2\n",
        "\n",
        "9\n",
        "<li style=\"-moz-float-edge: content-box\">... that <a href=\"/wiki/Orval_Overall\" title=\"Orval Overall\">Orval Overall</a> <i>(pictured)</i> is the only <b><a href=\"/wiki/List_of_Major_League_Baseball_pitchers_who_have_struck_out_four_batters_in_one_inning\" title=\"List of Major League Baseball pitchers who have struck out four batters in one inning\">Major League Baseball player to strike out four batters in one inning</a></b> in the <a href=\"/wiki/World_Series\" title=\"World Series\">World Series</a>?</li>\n",
        "<li style=\"-moz-float-edge: content-box\">... that the three cities of the <b><a href=\"/wiki/West_Triangle_Economic_Zone\" title=\"West Triangle Economic Zone\">West Triangle Economic Zone</a></b> contribute 40% of Western China's GDP?</li>\n",
        "<li style=\"-moz-float-edge: content-box\">... that <i><a href=\"/wiki/Kismet_(1943_film)\" title=\"Kismet (1943 film)\">Kismet</a></i>, directed by <b><a href=\"/wiki/Gyan_Mukherjee\" title=\"Gyan Mukherjee\">Gyan Mukherjee</a></b>, ran at the <a href=\"/wiki/Roxy_Cinema_(Kolkata)\" title=\"Roxy Cinema (Kolkata)\">Roxy, Kolkata</a>, for 3 years and 8 months?</li>\n",
        "<li style=\"-moz-float-edge: content-box\">... that <a href=\"/wiki/Vauix_Carter\" title=\"Vauix Carter\">Vauix Carter</a> both coached and played for the <b><a href=\"/wiki/1882_Navy_Midshipmen_football_team\" title=\"1882 Navy Midshipmen football team\">1882 Navy Midshipmen football team</a></b>?</li>\n",
        "<li style=\"-moz-float-edge: content-box\">... that <a href=\"/wiki/Zhu_Chenhao\" title=\"Zhu Chenhao\">Zhu Chenhao</a> was sentenced to <a href=\"/wiki/Slow_slicing\" title=\"Slow slicing\">slow slicing</a> for leading the <b><a href=\"/wiki/Prince_of_Ning_rebellion\" title=\"Prince of Ning rebellion\">Prince of Ning rebellion</a></b> against the <a href=\"/wiki/Ming_Dynasty\" title=\"Ming Dynasty\">Ming Dynasty</a> <a href=\"/wiki/Zhengde_Emperor\" title=\"Zhengde Emperor\">emperor Zhengde</a>?</li>\n",
        "<li style=\"-moz-float-edge: content-box\">... that <b><a href=\"/wiki/Mirza_Adeeb\" title=\"Mirza Adeeb\">Mirza Adeeb</a></b> was a prominent modern Pakistani <a href=\"/wiki/Urdu\" title=\"Urdu\">Urdu</a> playwright whose later work focuses on social problems and daily life?</li>\n",
        "<li style=\"-moz-float-edge: content-box\">... that in <i><b><a href=\"/wiki/La%C3%9Ft_uns_sorgen,_la%C3%9Ft_uns_wachen,_BWV_213\" title=\"Lat uns sorgen, lat uns wachen, BWV 213\">Die Wahl des Herkules</a></b></i>, Hercules must choose between the good cop and the bad cop?<br style=\"clear:both;\" />\n",
        "<div style=\"text-align: right;\" class=\"noprint\"><b><a href=\"/wiki/Wikipedia:Recent_additions\" title=\"Wikipedia:Recent additions\">Archive</a></b>  <b><a href=\"/wiki/Wikipedia:Your_first_article\" title=\"Wikipedia:Your first article\">Start a new article</a></b>  <b><a href=\"/wiki/Template_talk:Did_you_know\" title=\"Template talk:Did you know\">Nominate an article</a></b></div>\n",
        "</li>\n",
        "Sample Output:2\n",
        "\n",
        "a:href,title\n",
        "b:\n",
        "br:style\n",
        "div:class,style\n",
        "i:\n",
        "li:style"
      ],
      "metadata": {
        "id": "NNSAmAbCighQ"
      }
    },
    {
      "cell_type": "code",
      "source": [
        "import re\n",
        "from collections import defaultdict\n",
        "\n",
        "def extract_html_attributes():\n",
        "    n = int(input())\n",
        "    html = ''\n",
        "    for _ in range(n):\n",
        "        html += input().strip() + '\\n'\n",
        "\n",
        "    tag_attrs = defaultdict(set)\n",
        "\n",
        "    # Match tags and their attributes\n",
        "    tag_pattern = re.compile(r'<\\s*([a-z][a-z0-9]*)([^>]*)>', re.IGNORECASE)\n",
        "    attr_pattern = re.compile(r'\\b([a-z]+)\\s*=\\s*[\\'\"][^\\'\"]*[\\'\"]', re.IGNORECASE)\n",
        "\n",
        "    for match in tag_pattern.finditer(html):\n",
        "        tag = match.group(1).lower()\n",
        "        attrs_str = match.group(2)\n",
        "\n",
        "        # Find all attributes in the tag\n",
        "        attrs = attr_pattern.findall(attrs_str)\n",
        "\n",
        "        # Add attributes to the tag's set\n",
        "        for attr in attrs:\n",
        "            tag_attrs[tag].add(attr.lower())\n",
        "\n",
        "        # Ensure tag is in the dictionary even if no attributes\n",
        "        if tag not in tag_attrs:\n",
        "            tag_attrs[tag] = set()\n",
        "\n",
        "    # Sort tags and attributes\n",
        "    sorted_tags = sorted(tag_attrs.keys())\n",
        "\n",
        "    # Prepare output\n",
        "    for tag in sorted_tags:\n",
        "        attrs = sorted(tag_attrs[tag])\n",
        "        print(f\"{tag}:{','.join(attrs)}\" if attrs else f\"{tag}:\")\n",
        "\n",
        "if __name__ == '__main__':\n",
        "    extract_html_attributes()\n"
      ],
      "metadata": {
        "id": "U-YXLhpGwSXR"
      },
      "execution_count": null,
      "outputs": []
    },
    {
      "cell_type": "markdown",
      "metadata": {
        "id": "AnyIRWVNwHtR"
      },
      "source": [
        "#### Q8 detect html tags\n",
        "\n",
        "link - https://www.hackerrank.com/challenges/detect-html-tags/problem\n"
      ]
    },
    {
      "cell_type": "code",
      "source": [],
      "metadata": {
        "id": "TVM2MPcZwowT"
      },
      "execution_count": null,
      "outputs": []
    },
    {
      "cell_type": "markdown",
      "metadata": {
        "id": "u7G_61dNwHtS"
      },
      "source": [
        "#### Q9 final substring problem\n",
        "\n",
        "link - https://www.hackerrank.com/challenges/find-substring/problem\n"
      ]
    },
    {
      "cell_type": "code",
      "source": [
        "\n"
      ],
      "metadata": {
        "id": "H7HfMdAmwrV0"
      },
      "execution_count": null,
      "outputs": []
    },
    {
      "cell_type": "markdown",
      "metadata": {
        "id": "o2t6Cf8wwHtT"
      },
      "source": [
        "#### Q 10 Alien username\n",
        "\n",
        "link - https://www.hackerrank.com/challenges/alien-username/problem"
      ]
    },
    {
      "cell_type": "code",
      "source": [],
      "metadata": {
        "id": "gXoOLapuwuDz"
      },
      "execution_count": null,
      "outputs": []
    },
    {
      "cell_type": "markdown",
      "metadata": {
        "id": "BnGmmBnwwHtT"
      },
      "source": [
        "#### Q11 ip address validation\n",
        "\n",
        "link - https://www.hackerrank.com/challenges/ip-address-validation/problem"
      ]
    },
    {
      "cell_type": "code",
      "source": [],
      "metadata": {
        "id": "gBwwV5nbwwxo"
      },
      "execution_count": null,
      "outputs": []
    },
    {
      "cell_type": "markdown",
      "metadata": {
        "id": "D8mN4d5_wHtU"
      },
      "source": [
        "\n",
        "#### Q 12 find a word problem\n",
        "\n",
        "link - https://www.hackerrank.com/challenges/find-a-word/problem\n"
      ]
    },
    {
      "cell_type": "code",
      "source": [],
      "metadata": {
        "id": "C8mbWsWdwz6O"
      },
      "execution_count": null,
      "outputs": []
    },
    {
      "cell_type": "markdown",
      "metadata": {
        "id": "tYt22wTJwHtU"
      },
      "source": [
        "#### Q13 detect the email address\n",
        "\n",
        "link - https://www.hackerrank.com/challenges/detect-the-email-addresses/problem"
      ]
    },
    {
      "cell_type": "code",
      "source": [],
      "metadata": {
        "id": "3H8Yy3YTw2P-"
      },
      "execution_count": null,
      "outputs": []
    },
    {
      "cell_type": "markdown",
      "metadata": {
        "id": "kqfXJBm6wHtU"
      },
      "source": [
        "Q14 detect the domain problem\n",
        "\n",
        "link - https://www.hackerrank.com/challenges/detect-the-domain-name/problem"
      ]
    },
    {
      "cell_type": "code",
      "source": [
        "\n",
        "\n"
      ],
      "metadata": {
        "id": "YB7UCwwsw4-Q"
      },
      "execution_count": null,
      "outputs": []
    },
    {
      "cell_type": "markdown",
      "metadata": {
        "id": "dUm16gwFwHtV"
      },
      "source": [
        "#### Q15 ide challenge\n",
        "\n",
        "link - https://www.hackerrank.com/challenges/ide-identifying-comments/problem"
      ]
    },
    {
      "cell_type": "code",
      "source": [
        "\n"
      ],
      "metadata": {
        "id": "IdrLo4VUw7dV"
      },
      "execution_count": null,
      "outputs": []
    },
    {
      "cell_type": "markdown",
      "metadata": {
        "id": "nODVXXxdwHtV"
      },
      "source": [
        "#### Q16 programming language detection problem\n",
        "\n",
        "link - https://www.hackerrank.com/challenges/programming-language-detection/problem"
      ]
    },
    {
      "cell_type": "code",
      "source": [],
      "metadata": {
        "id": "oQ2Zyx_0w9_a"
      },
      "execution_count": null,
      "outputs": []
    }
  ],
  "metadata": {
    "kernelspec": {
      "display_name": "Python 3",
      "language": "python",
      "name": "python3"
    },
    "language_info": {
      "codemirror_mode": {
        "name": "ipython",
        "version": 3
      },
      "file_extension": ".py",
      "mimetype": "text/x-python",
      "name": "python",
      "nbconvert_exporter": "python",
      "pygments_lexer": "ipython3",
      "version": "3.8.5"
    },
    "colab": {
      "provenance": [],
      "include_colab_link": true
    }
  },
  "nbformat": 4,
  "nbformat_minor": 0
}