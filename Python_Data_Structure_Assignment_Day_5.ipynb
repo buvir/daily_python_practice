{
  "cells": [
    {
      "cell_type": "markdown",
      "metadata": {
        "id": "view-in-github",
        "colab_type": "text"
      },
      "source": [
        "<a href=\"https://colab.research.google.com/github/buvir/daily_python_practice/blob/main/Python_Data_Structure_Assignment_Day_5.ipynb\" target=\"_parent\"><img src=\"https://colab.research.google.com/assets/colab-badge.svg\" alt=\"Open In Colab\"/></a>"
      ]
    },
    {
      "cell_type": "markdown",
      "metadata": {
        "id": "jGxqF4aIjNSq"
      },
      "source": [
        "<a id='1'></a><center> <h3 style=\"background-color:orange; color:white\" ><br>Python Data Structures<br></h3>"
      ],
      "id": "jGxqF4aIjNSq"
    },
    {
      "cell_type": "markdown",
      "metadata": {
        "id": "EHAIHrgRPPZX"
      },
      "source": [
        "# `Types of Data Structures:`\n",
        "* `List` | `Tuple`\n",
        "* `Set` | `Dictionary`"
      ],
      "id": "EHAIHrgRPPZX"
    },
    {
      "cell_type": "markdown",
      "metadata": {
        "id": "w-EXx5GsPPZY"
      },
      "source": [
        "|Data Structures type|Mutable|Comments|Indexing|Ordered|Duplicacy|\n",
        "|----|----|----|----|----|----|\n",
        "tuple ()|immutable|immutable version of list| possible|yes |allowed |\n",
        "list []|mutable|-|possible |yes | allowed |\n",
        "set {}|mutable| -|not |no |not |\n",
        "dict {key:value}|mutable|-|possible |no |not  |"
      ],
      "id": "w-EXx5GsPPZY"
    },
    {
      "cell_type": "markdown",
      "metadata": {
        "id": "p-D0zz0OPPZa"
      },
      "source": [
        "💫 `immutable` => `can't be changed` <br>\n",
        "💫 `mutable` => `can be changed`"
      ],
      "id": "p-D0zz0OPPZa"
    },
    {
      "cell_type": "code",
      "execution_count": null,
      "metadata": {
        "id": "ygF_SjDjPPZb"
      },
      "outputs": [],
      "source": [],
      "id": "ygF_SjDjPPZb"
    },
    {
      "cell_type": "markdown",
      "metadata": {
        "id": "Tyavi31ZjNSw"
      },
      "source": [
        "## Lists\n",
        "\n"
      ],
      "id": "Tyavi31ZjNSw"
    },
    {
      "cell_type": "markdown",
      "metadata": {
        "id": "tkDQdRdUjNSy"
      },
      "source": [
        "### Create an empty list with the name ‘a’, print the value of a and type(a).\n"
      ],
      "id": "tkDQdRdUjNSy"
    },
    {
      "cell_type": "code",
      "execution_count": 1,
      "metadata": {
        "id": "a6i4yNGvjNSz",
        "colab": {
          "base_uri": "https://localhost:8080/"
        },
        "outputId": "ef0973ef-6947-47b7-a69e-2eb2291ac16a"
      },
      "outputs": [
        {
          "output_type": "stream",
          "name": "stdout",
          "text": [
            "[]\n",
            "<class 'list'>\n"
          ]
        }
      ],
      "source": [
        "# create empty list, name it 'a'\n",
        "a = []\n",
        "print(a)\n",
        "print(type(a))"
      ],
      "id": "a6i4yNGvjNSz"
    },
    {
      "cell_type": "code",
      "execution_count": 2,
      "metadata": {
        "id": "M8FMNQEgjNS0",
        "outputId": "b3a4f1f4-9a96-4d79-868a-284d950718c1",
        "colab": {
          "base_uri": "https://localhost:8080/"
        }
      },
      "outputs": [
        {
          "output_type": "execute_result",
          "data": {
            "text/plain": [
              "[]"
            ]
          },
          "metadata": {},
          "execution_count": 2
        }
      ],
      "source": [
        "# print the value of a\n",
        "\n",
        "a"
      ],
      "id": "M8FMNQEgjNS0"
    },
    {
      "cell_type": "code",
      "execution_count": 3,
      "metadata": {
        "id": "Jfc9sg1vjNS1",
        "outputId": "7952005f-76a0-484c-de5f-d64a17170266",
        "colab": {
          "base_uri": "https://localhost:8080/"
        }
      },
      "outputs": [
        {
          "output_type": "stream",
          "name": "stdout",
          "text": [
            "<class 'list'>\n"
          ]
        }
      ],
      "source": [
        "# print the type of a\n",
        "print(type(a))"
      ],
      "id": "Jfc9sg1vjNS1"
    },
    {
      "cell_type": "markdown",
      "metadata": {
        "id": "UNpN9_w4jNS1"
      },
      "source": [
        "### Create a list , languages = ['R','Python', 'SAS', 'Scala', 42],"
      ],
      "id": "UNpN9_w4jNS1"
    },
    {
      "cell_type": "code",
      "execution_count": 4,
      "metadata": {
        "id": "x-TG-vc5jNS2"
      },
      "outputs": [],
      "source": [
        "languages = ['R','Python', 'SAS', 'Scala', 42]"
      ],
      "id": "x-TG-vc5jNS2"
    },
    {
      "cell_type": "markdown",
      "metadata": {
        "id": "JDSIK8TbjNS3"
      },
      "source": [
        "Print the number of elements in the list"
      ],
      "id": "JDSIK8TbjNS3"
    },
    {
      "cell_type": "code",
      "execution_count": 5,
      "metadata": {
        "id": "C4lBMaM8jNS3",
        "outputId": "8d2dcdfd-112d-4b3a-ec10-0cfd7e464b45",
        "colab": {
          "base_uri": "https://localhost:8080/"
        }
      },
      "outputs": [
        {
          "output_type": "execute_result",
          "data": {
            "text/plain": [
              "['R', 'Python', 'SAS', 'Scala', 42]"
            ]
          },
          "metadata": {},
          "execution_count": 5
        }
      ],
      "source": [
        "languages"
      ],
      "id": "C4lBMaM8jNS3"
    },
    {
      "cell_type": "markdown",
      "metadata": {
        "id": "EyzO_pcnjNS3"
      },
      "source": [
        "Using for loop iterate and print all the elements in the list"
      ],
      "id": "EyzO_pcnjNS3"
    },
    {
      "cell_type": "code",
      "execution_count": 6,
      "metadata": {
        "id": "TyM54ydsjNS4",
        "outputId": "25e9ebfe-2148-489b-c05b-b5a2b27bb4d6",
        "colab": {
          "base_uri": "https://localhost:8080/"
        }
      },
      "outputs": [
        {
          "output_type": "stream",
          "name": "stdout",
          "text": [
            "R\n",
            "Python\n",
            "SAS\n",
            "Scala\n",
            "42\n"
          ]
        }
      ],
      "source": [
        "\n",
        "for i in languages:\n",
        "    print(i)\n"
      ],
      "id": "TyM54ydsjNS4"
    },
    {
      "cell_type": "markdown",
      "metadata": {
        "id": "eC1fqz9LjNS4"
      },
      "source": [
        "Select the second item, 'Python' and store it in a new variable named 'temp'"
      ],
      "id": "eC1fqz9LjNS4"
    },
    {
      "cell_type": "code",
      "execution_count": 7,
      "metadata": {
        "id": "KY0KhRlOjNS4"
      },
      "outputs": [],
      "source": [
        "temp=languages[1]"
      ],
      "id": "KY0KhRlOjNS4"
    },
    {
      "cell_type": "markdown",
      "metadata": {
        "id": "breORMa_jNS4"
      },
      "source": [
        "Print the value of temp and type(temp)"
      ],
      "id": "breORMa_jNS4"
    },
    {
      "cell_type": "code",
      "execution_count": 8,
      "metadata": {
        "id": "MbvX2aIgjNS5",
        "outputId": "07710ec1-5756-4bba-e149-654f6761186a",
        "colab": {
          "base_uri": "https://localhost:8080/",
          "height": 35
        }
      },
      "outputs": [
        {
          "output_type": "execute_result",
          "data": {
            "text/plain": [
              "'Python'"
            ],
            "application/vnd.google.colaboratory.intrinsic+json": {
              "type": "string"
            }
          },
          "metadata": {},
          "execution_count": 8
        }
      ],
      "source": [
        "temp\n",
        "\n"
      ],
      "id": "MbvX2aIgjNS5"
    },
    {
      "cell_type": "markdown",
      "metadata": {
        "id": "I4MrKlAUjNS5"
      },
      "source": [
        "Append the element 'Java' in the list"
      ],
      "id": "I4MrKlAUjNS5"
    },
    {
      "cell_type": "code",
      "execution_count": 9,
      "metadata": {
        "id": "rOtqZY6PjNS6"
      },
      "outputs": [],
      "source": [
        "languages.append('Java')\n"
      ],
      "id": "rOtqZY6PjNS6"
    },
    {
      "cell_type": "markdown",
      "metadata": {
        "id": "ksEn8qvFjNS6"
      },
      "source": [
        "Remove the element 42 from the list and print the list"
      ],
      "id": "ksEn8qvFjNS6"
    },
    {
      "cell_type": "code",
      "execution_count": 10,
      "metadata": {
        "id": "Lxuzfc1bjNS6"
      },
      "outputs": [],
      "source": [
        "\n",
        "languages.remove(42)\n"
      ],
      "id": "Lxuzfc1bjNS6"
    },
    {
      "cell_type": "code",
      "source": [
        "languages"
      ],
      "metadata": {
        "colab": {
          "base_uri": "https://localhost:8080/"
        },
        "id": "pJ8xOc8ZQeyY",
        "outputId": "e612dbf2-1963-4ce5-ce82-d4653bcec42f"
      },
      "id": "pJ8xOc8ZQeyY",
      "execution_count": 11,
      "outputs": [
        {
          "output_type": "execute_result",
          "data": {
            "text/plain": [
              "['R', 'Python', 'SAS', 'Scala', 'Java']"
            ]
          },
          "metadata": {},
          "execution_count": 11
        }
      ]
    },
    {
      "cell_type": "code",
      "source": [],
      "metadata": {
        "id": "ibXsovB3QfjZ"
      },
      "id": "ibXsovB3QfjZ",
      "execution_count": null,
      "outputs": []
    },
    {
      "cell_type": "markdown",
      "metadata": {
        "id": "19MjI0w6jNS6"
      },
      "source": [
        "### Create a list, colors = [‘Red’, ‘Blue’, ‘White’]"
      ],
      "id": "19MjI0w6jNS6"
    },
    {
      "cell_type": "code",
      "execution_count": 13,
      "metadata": {
        "id": "Z1lMzdbWjNS7"
      },
      "outputs": [],
      "source": [
        "colors = ['Red', 'Blue', 'White']"
      ],
      "id": "Z1lMzdbWjNS7"
    },
    {
      "cell_type": "code",
      "source": [],
      "metadata": {
        "id": "2p3oZRPGRF0m"
      },
      "id": "2p3oZRPGRF0m",
      "execution_count": null,
      "outputs": []
    },
    {
      "cell_type": "markdown",
      "metadata": {
        "id": "VAqLj5R3jNS7"
      },
      "source": [
        "Append the element 'Black' to colors"
      ],
      "id": "VAqLj5R3jNS7"
    },
    {
      "cell_type": "code",
      "execution_count": 14,
      "metadata": {
        "id": "gvb5iC7ljNS7"
      },
      "outputs": [],
      "source": [
        "colors.append('Black')\n",
        "\n"
      ],
      "id": "gvb5iC7ljNS7"
    },
    {
      "cell_type": "markdown",
      "metadata": {
        "id": "MFWIzVcvjNS7"
      },
      "source": [
        "Append the color 'Orange' to second position (index=1) and print the list"
      ],
      "id": "MFWIzVcvjNS7"
    },
    {
      "cell_type": "code",
      "execution_count": 15,
      "metadata": {
        "id": "Fb6YZDSNjNS8"
      },
      "outputs": [],
      "source": [
        "colors.insert(1,'Orange')\n",
        "\n"
      ],
      "id": "Fb6YZDSNjNS8"
    },
    {
      "cell_type": "markdown",
      "metadata": {
        "id": "8DWB76AOjNS8"
      },
      "source": [
        "Print the list\n"
      ],
      "id": "8DWB76AOjNS8"
    },
    {
      "cell_type": "code",
      "execution_count": 16,
      "metadata": {
        "id": "0ldkGCozjNS8",
        "outputId": "fb04fe54-d9a7-4897-f8c0-8dfe5a4196b8",
        "colab": {
          "base_uri": "https://localhost:8080/"
        }
      },
      "outputs": [
        {
          "output_type": "execute_result",
          "data": {
            "text/plain": [
              "['Red', 'Orange', 'Blue', 'White', 'Black']"
            ]
          },
          "metadata": {},
          "execution_count": 16
        }
      ],
      "source": [
        "colors"
      ],
      "id": "0ldkGCozjNS8"
    },
    {
      "cell_type": "code",
      "source": [],
      "metadata": {
        "id": "wgAzzwPDRXMn"
      },
      "id": "wgAzzwPDRXMn",
      "execution_count": null,
      "outputs": []
    },
    {
      "cell_type": "markdown",
      "metadata": {
        "id": "WfFfxvLKjNS8"
      },
      "source": [
        "Create another list, colors2 = [‘Grey’, ‘Sky Blue’]"
      ],
      "id": "WfFfxvLKjNS8"
    },
    {
      "cell_type": "code",
      "execution_count": 18,
      "metadata": {
        "id": "onZEiwdUjNS8"
      },
      "outputs": [],
      "source": [
        "colors2 = ['Grey', 'Sky Blue']"
      ],
      "id": "onZEiwdUjNS8"
    },
    {
      "cell_type": "markdown",
      "metadata": {
        "id": "MrNQk6uKjNS8"
      },
      "source": [
        "Add the elements of colors2 to colors using extend function in the list"
      ],
      "id": "MrNQk6uKjNS8"
    },
    {
      "cell_type": "code",
      "execution_count": 19,
      "metadata": {
        "id": "Hr1Eu88OjNS9"
      },
      "outputs": [],
      "source": [
        "colors.extend(colors2)"
      ],
      "id": "Hr1Eu88OjNS9"
    },
    {
      "cell_type": "markdown",
      "metadata": {
        "id": "u0KDeU20jNS9"
      },
      "source": [
        "Print len of colors and its elements"
      ],
      "id": "u0KDeU20jNS9"
    },
    {
      "cell_type": "code",
      "execution_count": 21,
      "metadata": {
        "id": "bnBmsCg2jNS9",
        "outputId": "5b966db5-7c53-4a74-9054-2654394ba9a2",
        "colab": {
          "base_uri": "https://localhost:8080/"
        }
      },
      "outputs": [
        {
          "output_type": "stream",
          "name": "stdout",
          "text": [
            "7\n"
          ]
        }
      ],
      "source": [
        "print(len(colors) )\n"
      ],
      "id": "bnBmsCg2jNS9"
    },
    {
      "cell_type": "code",
      "source": [],
      "metadata": {
        "id": "DYpgqIQyRupZ"
      },
      "id": "DYpgqIQyRupZ",
      "execution_count": null,
      "outputs": []
    },
    {
      "cell_type": "markdown",
      "metadata": {
        "id": "vJ7YqokSjNS9"
      },
      "source": [
        "Sort the list and print it."
      ],
      "id": "vJ7YqokSjNS9"
    },
    {
      "cell_type": "code",
      "execution_count": 22,
      "metadata": {
        "id": "X14C-1PtjNS9",
        "outputId": "2b682ac6-60f5-4127-9135-2ecabb6ed205",
        "colab": {
          "base_uri": "https://localhost:8080/"
        }
      },
      "outputs": [
        {
          "output_type": "stream",
          "name": "stdout",
          "text": [
            "['Black', 'Blue', 'Grey', 'Orange', 'Red', 'Sky Blue', 'White']\n"
          ]
        }
      ],
      "source": [
        "\n",
        "print(sorted(colors))\n"
      ],
      "id": "X14C-1PtjNS9"
    },
    {
      "cell_type": "markdown",
      "metadata": {
        "id": "MdN5B9F9jNS-"
      },
      "source": [
        "### Create a string, sent = ‘Coronavirus Caused Lockdowns Around The World.”"
      ],
      "id": "MdN5B9F9jNS-"
    },
    {
      "cell_type": "code",
      "execution_count": 23,
      "metadata": {
        "id": "j4JUR085jNS-"
      },
      "outputs": [],
      "source": [
        "sent = 'Coronavirus Caused Lockdowns Around The World.'"
      ],
      "id": "j4JUR085jNS-"
    },
    {
      "cell_type": "markdown",
      "metadata": {
        "id": "rcn18drOjNS-"
      },
      "source": [
        "Use split function to convert the string into a list of words and save it in variable words and print the same"
      ],
      "id": "rcn18drOjNS-"
    },
    {
      "cell_type": "code",
      "execution_count": 24,
      "metadata": {
        "id": "fjiKSboajNS-",
        "outputId": "6a96d867-4270-4609-efc8-1757d9f55570",
        "colab": {
          "base_uri": "https://localhost:8080/"
        }
      },
      "outputs": [
        {
          "output_type": "stream",
          "name": "stdout",
          "text": [
            "['Coronavirus', 'Caused', 'Lockdowns', 'Around', 'The', 'World.']\n"
          ]
        }
      ],
      "source": [
        "words = sent.split()  # Splits the string into a list of words (default splits at whitespace)\n",
        "print(words)\n",
        "\n"
      ],
      "id": "fjiKSboajNS-"
    },
    {
      "cell_type": "markdown",
      "metadata": {
        "id": "rowxhN26jNS_"
      },
      "source": [
        "Convert each word in the list to lower case and store it in variable words_lower.\n",
        "Print words_lower"
      ],
      "id": "rowxhN26jNS_"
    },
    {
      "cell_type": "code",
      "execution_count": 25,
      "metadata": {
        "id": "LuzAECOVjNS_",
        "outputId": "a79da0c2-becb-4838-ac40-89c99f4d24bc",
        "colab": {
          "base_uri": "https://localhost:8080/"
        }
      },
      "outputs": [
        {
          "output_type": "stream",
          "name": "stdout",
          "text": [
            "['coronavirus', 'caused', 'lockdowns', 'around', 'the', 'world.']\n"
          ]
        }
      ],
      "source": [
        "\n",
        "words_lower = [word.lower() for word in words]\n",
        "\n",
        "print(words_lower)\n"
      ],
      "id": "LuzAECOVjNS_"
    },
    {
      "cell_type": "markdown",
      "metadata": {
        "id": "zznwP-l9jNS_"
      },
      "source": [
        "Check whether ‘country’ is in the list"
      ],
      "id": "zznwP-l9jNS_"
    },
    {
      "cell_type": "code",
      "execution_count": 26,
      "metadata": {
        "id": "y-U1felnjNS_",
        "outputId": "d11caaf9-0561-4b37-fd30-6208e513dd0c",
        "colab": {
          "base_uri": "https://localhost:8080/"
        }
      },
      "outputs": [
        {
          "output_type": "stream",
          "name": "stdout",
          "text": [
            "'country' is NOT present in the list.\n"
          ]
        }
      ],
      "source": [
        "# Check if 'country' is in the list\n",
        "if 'country' in words_lower:\n",
        "    print(\"'country' is present in the list.\")\n",
        "else:\n",
        "    print(\"'country' is NOT present in the list.\")"
      ],
      "id": "y-U1felnjNS_"
    },
    {
      "cell_type": "markdown",
      "metadata": {
        "id": "AZMvSVKWjNS_"
      },
      "source": [
        "Remove the element ‘the’ from the list and print the list."
      ],
      "id": "AZMvSVKWjNS_"
    },
    {
      "cell_type": "code",
      "execution_count": 27,
      "metadata": {
        "id": "bmDbpYd7jNS_",
        "outputId": "7d4d057d-f699-4ee1-de7f-316d5df4aa08",
        "colab": {
          "base_uri": "https://localhost:8080/"
        }
      },
      "outputs": [
        {
          "output_type": "stream",
          "name": "stdout",
          "text": [
            "['coronavirus', 'caused', 'lockdowns', 'around', 'world.']\n"
          ]
        }
      ],
      "source": [
        "\n",
        "# Remove 'the' from the list (if it exists)\n",
        "if 'the' in words_lower:\n",
        "    words_lower.remove('the')\n",
        "\n",
        "print(words_lower)\n"
      ],
      "id": "bmDbpYd7jNS_"
    },
    {
      "cell_type": "markdown",
      "metadata": {
        "id": "int3gJc0jNS_"
      },
      "source": [
        "Select the first 4 words from the list words_lower using slicing and store them in a new variable x4"
      ],
      "id": "int3gJc0jNS_"
    },
    {
      "cell_type": "code",
      "execution_count": 28,
      "metadata": {
        "id": "fXOJmYI1jNTA"
      },
      "outputs": [],
      "source": [
        "x4 = words_lower[:4]  # Select the first 4 words using slicing"
      ],
      "id": "fXOJmYI1jNTA"
    },
    {
      "cell_type": "code",
      "execution_count": 29,
      "metadata": {
        "id": "2Kb_1V9HjNTA",
        "outputId": "4a2473b5-5602-406e-99a1-69123de96c88",
        "colab": {
          "base_uri": "https://localhost:8080/"
        }
      },
      "outputs": [
        {
          "output_type": "stream",
          "name": "stdout",
          "text": [
            "['coronavirus', 'caused', 'lockdowns', 'around']\n"
          ]
        }
      ],
      "source": [
        "# print x4\n",
        "\n",
        "print( x4)"
      ],
      "id": "2Kb_1V9HjNTA"
    },
    {
      "cell_type": "code",
      "source": [],
      "metadata": {
        "id": "kA-RdGLrTqIW"
      },
      "id": "kA-RdGLrTqIW",
      "execution_count": null,
      "outputs": []
    },
    {
      "cell_type": "markdown",
      "metadata": {
        "id": "3HgP3nUmjNTA"
      },
      "source": [
        "Convert the list of elements to single string using join function and print it"
      ],
      "id": "3HgP3nUmjNTA"
    },
    {
      "cell_type": "code",
      "execution_count": 30,
      "metadata": {
        "id": "hiXO7ekhjNTA",
        "outputId": "a86b377c-2ca8-4cc3-bfa5-8785adf50f35",
        "colab": {
          "base_uri": "https://localhost:8080/"
        }
      },
      "outputs": [
        {
          "output_type": "stream",
          "name": "stdout",
          "text": [
            "coronavirus caused lockdowns around world.\n"
          ]
        }
      ],
      "source": [
        "# Convert the list back to a single string using join()\n",
        "joined_string = ' '.join(words_lower)\n",
        "\n",
        "print(joined_string)\n"
      ],
      "id": "hiXO7ekhjNTA"
    },
    {
      "cell_type": "markdown",
      "metadata": {
        "id": "tW6We_kvjNTA"
      },
      "source": [
        "## Sets"
      ],
      "id": "tW6We_kvjNTA"
    },
    {
      "cell_type": "markdown",
      "metadata": {
        "id": "02qkte5xjNTA"
      },
      "source": [
        "### Create stud_grades = ['A','A','B','C','C','F']"
      ],
      "id": "02qkte5xjNTA"
    },
    {
      "cell_type": "code",
      "execution_count": 31,
      "metadata": {
        "id": "M5P_qZaTjNTB"
      },
      "outputs": [],
      "source": [
        "stud_grades = ['A','A','B','C','C','F']"
      ],
      "id": "M5P_qZaTjNTB"
    },
    {
      "cell_type": "markdown",
      "metadata": {
        "id": "XazCnMcBjNTB"
      },
      "source": [
        "Print the len of stud_grades"
      ],
      "id": "XazCnMcBjNTB"
    },
    {
      "cell_type": "code",
      "execution_count": 33,
      "metadata": {
        "id": "gMMJN-V5jNTB",
        "outputId": "7b9bcf25-0d8c-4db2-c370-477e41ac58d6",
        "colab": {
          "base_uri": "https://localhost:8080/"
        }
      },
      "outputs": [
        {
          "output_type": "stream",
          "name": "stdout",
          "text": [
            "6\n"
          ]
        }
      ],
      "source": [
        "\n",
        "print(len(stud_grades))\n"
      ],
      "id": "gMMJN-V5jNTB"
    },
    {
      "cell_type": "code",
      "source": [],
      "metadata": {
        "id": "wGYIrMYeUHRR"
      },
      "id": "wGYIrMYeUHRR",
      "execution_count": null,
      "outputs": []
    },
    {
      "cell_type": "code",
      "source": [],
      "metadata": {
        "id": "v-7t2MA2UGYk"
      },
      "id": "v-7t2MA2UGYk",
      "execution_count": null,
      "outputs": []
    },
    {
      "cell_type": "markdown",
      "metadata": {
        "id": "ALm7hstGjNTB"
      },
      "source": [
        "Create a new variable, stud_grades_set = set(stud_grades)"
      ],
      "id": "ALm7hstGjNTB"
    },
    {
      "cell_type": "code",
      "execution_count": 34,
      "metadata": {
        "id": "MBCL-OxJPPZ4"
      },
      "outputs": [],
      "source": [
        "stud_grades_set = set(stud_grades)"
      ],
      "id": "MBCL-OxJPPZ4"
    },
    {
      "cell_type": "markdown",
      "metadata": {
        "id": "JJESkQiJjNTB"
      },
      "source": [
        "Print stud_grades_set."
      ],
      "id": "JJESkQiJjNTB"
    },
    {
      "cell_type": "code",
      "execution_count": 35,
      "metadata": {
        "id": "Q-daiiLPjNTB",
        "outputId": "e4a37728-861c-433c-cdde-e03ea32a1ef5",
        "colab": {
          "base_uri": "https://localhost:8080/"
        }
      },
      "outputs": [
        {
          "output_type": "stream",
          "name": "stdout",
          "text": [
            "{'C', 'F', 'B', 'A'}\n"
          ]
        }
      ],
      "source": [
        "print(stud_grades_set)\n",
        "\n"
      ],
      "id": "Q-daiiLPjNTB"
    },
    {
      "cell_type": "markdown",
      "metadata": {
        "id": "hNeCPwPOjNTC"
      },
      "source": [
        "print the type of stud_grades and stud_grades_set and print their corresponding elements. Try to understand the difference between them."
      ],
      "id": "hNeCPwPOjNTC"
    },
    {
      "cell_type": "code",
      "source": [
        "type(stud_grades)"
      ],
      "metadata": {
        "colab": {
          "base_uri": "https://localhost:8080/"
        },
        "id": "7LSVVtX2Ubw0",
        "outputId": "0a2c00e3-f0c8-42ac-8d36-34d8c080ba9f"
      },
      "id": "7LSVVtX2Ubw0",
      "execution_count": 37,
      "outputs": [
        {
          "output_type": "execute_result",
          "data": {
            "text/plain": [
              "list"
            ]
          },
          "metadata": {},
          "execution_count": 37
        }
      ]
    },
    {
      "cell_type": "code",
      "execution_count": 38,
      "metadata": {
        "id": "g7cntC0ojNTC",
        "outputId": "d2e5746a-85a9-484b-c94b-c78026959fd9",
        "colab": {
          "base_uri": "https://localhost:8080/"
        }
      },
      "outputs": [
        {
          "output_type": "execute_result",
          "data": {
            "text/plain": [
              "set"
            ]
          },
          "metadata": {},
          "execution_count": 38
        }
      ],
      "source": [
        "\n",
        "\n",
        "type(stud_grades_set)\n",
        "\n",
        "\n"
      ],
      "id": "g7cntC0ojNTC"
    },
    {
      "cell_type": "markdown",
      "metadata": {
        "id": "WjzzJX8yjNTC"
      },
      "source": [
        "Add a new element ‘G’ to stud_grades_set"
      ],
      "id": "WjzzJX8yjNTC"
    },
    {
      "cell_type": "code",
      "execution_count": 39,
      "metadata": {
        "id": "y80DVAlRjNTC"
      },
      "outputs": [],
      "source": [
        "stud_grades_set.add('G')\n"
      ],
      "id": "y80DVAlRjNTC"
    },
    {
      "cell_type": "markdown",
      "metadata": {
        "id": "4TO9zhSJjNTC"
      },
      "source": [
        "Add element 'F' to stud_grades_set. and print it."
      ],
      "id": "4TO9zhSJjNTC"
    },
    {
      "cell_type": "code",
      "execution_count": 40,
      "metadata": {
        "id": "Bh4tc1zCjNTC",
        "outputId": "57320799-9c7d-4954-d864-a2938d8a468d",
        "colab": {
          "base_uri": "https://localhost:8080/"
        }
      },
      "outputs": [
        {
          "output_type": "stream",
          "name": "stdout",
          "text": [
            "{'C', 'G', 'F', 'B', 'A'}\n"
          ]
        }
      ],
      "source": [
        "\n",
        "stud_grades_set.add('F')\n",
        "print(stud_grades_set)"
      ],
      "id": "Bh4tc1zCjNTC"
    },
    {
      "cell_type": "markdown",
      "metadata": {
        "id": "FSgM3DD5jNTD"
      },
      "source": [
        "!!Did you notice? set doesn't add an element if it's already present in it, unlike lists."
      ],
      "id": "FSgM3DD5jNTD"
    },
    {
      "cell_type": "markdown",
      "metadata": {
        "id": "tqz1GBM5jNTD"
      },
      "source": [
        "Remove ‘F’ from stud_grades_set"
      ],
      "id": "tqz1GBM5jNTD"
    },
    {
      "cell_type": "code",
      "execution_count": 41,
      "metadata": {
        "id": "zOLBDdk0jNTD"
      },
      "outputs": [],
      "source": [
        "stud_grades_set.remove('F')\n",
        "\n"
      ],
      "id": "zOLBDdk0jNTD"
    },
    {
      "cell_type": "markdown",
      "metadata": {
        "id": "wxMXywoRjNTD"
      },
      "source": [
        "Print the elements and the length of stud_grades_set"
      ],
      "id": "wxMXywoRjNTD"
    },
    {
      "cell_type": "code",
      "execution_count": 42,
      "metadata": {
        "id": "lS582g27jNTD",
        "outputId": "72ad24fc-4cc8-4e83-bc92-7667df673d68",
        "colab": {
          "base_uri": "https://localhost:8080/"
        }
      },
      "outputs": [
        {
          "output_type": "stream",
          "name": "stdout",
          "text": [
            "4\n"
          ]
        }
      ],
      "source": [
        "\n",
        "print(len(stud_grades_set))"
      ],
      "id": "lS582g27jNTD"
    },
    {
      "cell_type": "code",
      "source": [],
      "metadata": {
        "id": "1DwV5k8JU9vV"
      },
      "id": "1DwV5k8JU9vV",
      "execution_count": null,
      "outputs": []
    },
    {
      "cell_type": "markdown",
      "metadata": {
        "id": "FctCYkNBjNTD"
      },
      "source": [
        "### Create colors = [‘red’,’blue’,’orange’], and fruits = [‘orange’,’grapes’,’apples’]"
      ],
      "id": "FctCYkNBjNTD"
    },
    {
      "cell_type": "code",
      "execution_count": 43,
      "metadata": {
        "id": "vW_a7kucPPZ6"
      },
      "outputs": [],
      "source": [
        "\n",
        "colors = ['red','blue','orange']\n",
        "fruits = ['orange','grapes','apples']"
      ],
      "id": "vW_a7kucPPZ6"
    },
    {
      "cell_type": "markdown",
      "metadata": {
        "id": "kfIRtvphjNTE"
      },
      "source": [
        "Print color and fruits"
      ],
      "id": "kfIRtvphjNTE"
    },
    {
      "cell_type": "code",
      "execution_count": 44,
      "metadata": {
        "id": "q-gavK0-jNTE",
        "outputId": "9896cf59-4a07-412f-a4ef-1bfdfbb76ced",
        "colab": {
          "base_uri": "https://localhost:8080/"
        }
      },
      "outputs": [
        {
          "output_type": "stream",
          "name": "stdout",
          "text": [
            "['red', 'blue', 'orange']\n",
            "['orange', 'grapes', 'apples']\n"
          ]
        }
      ],
      "source": [
        "\n",
        "print(colors)\n",
        "print(fruits)"
      ],
      "id": "q-gavK0-jNTE"
    },
    {
      "cell_type": "markdown",
      "metadata": {
        "id": "uMOTrWwSjNTE"
      },
      "source": [
        "Create colors_set, and fruits_set. (using set() ) and print them"
      ],
      "id": "uMOTrWwSjNTE"
    },
    {
      "cell_type": "code",
      "execution_count": 45,
      "metadata": {
        "colab": {
          "base_uri": "https://localhost:8080/"
        },
        "id": "DeG9hWNbPPZ7",
        "outputId": "78d1265b-6b7e-49d8-ac39-c0d0184b209d"
      },
      "outputs": [
        {
          "output_type": "stream",
          "name": "stdout",
          "text": [
            "colors_set: {'blue', 'orange', 'red'}\n",
            "fruits_set: {'grapes', 'apples', 'orange'}\n"
          ]
        }
      ],
      "source": [
        "# Create sets from the lists\n",
        "colors_set = set(colors)\n",
        "fruits_set = set(fruits)\n",
        "\n",
        "# Print the sets\n",
        "print(\"colors_set:\", colors_set)\n",
        "print(\"fruits_set:\", fruits_set)"
      ],
      "id": "DeG9hWNbPPZ7"
    },
    {
      "cell_type": "markdown",
      "metadata": {
        "id": "tW9fj0R1jNTE"
      },
      "source": [
        "Find the union of both the sets."
      ],
      "id": "tW9fj0R1jNTE"
    },
    {
      "cell_type": "code",
      "execution_count": 48,
      "metadata": {
        "id": "oyskI_CTjNTE",
        "outputId": "20478362-97af-4e83-f3e1-ee965029990f",
        "colab": {
          "base_uri": "https://localhost:8080/"
        }
      },
      "outputs": [
        {
          "output_type": "stream",
          "name": "stdout",
          "text": [
            "Union of sets: {'grapes', 'apples', 'red', 'blue', 'orange'}\n"
          ]
        }
      ],
      "source": [
        "\n",
        "union_set = colors_set.union(fruits_set)\n",
        "print(\"Union of sets:\", union_set)\n"
      ],
      "id": "oyskI_CTjNTE"
    },
    {
      "cell_type": "markdown",
      "metadata": {
        "id": "3yXYgYBLjNTF"
      },
      "source": [
        "Find the intersection of both the sets"
      ],
      "id": "3yXYgYBLjNTF"
    },
    {
      "cell_type": "code",
      "execution_count": 49,
      "metadata": {
        "id": "3AzYqu5sjNTF",
        "outputId": "2636eb5d-537f-4bdf-b83b-9e9f5bf0757a",
        "colab": {
          "base_uri": "https://localhost:8080/"
        }
      },
      "outputs": [
        {
          "output_type": "stream",
          "name": "stdout",
          "text": [
            "Intersection of sets: {'orange'}\n"
          ]
        }
      ],
      "source": [
        "intersection_set = colors_set.intersection(fruits_set)\n",
        "\n",
        "\n",
        "print(\"Intersection of sets:\", intersection_set)\n",
        "\n"
      ],
      "id": "3AzYqu5sjNTF"
    },
    {
      "cell_type": "code",
      "source": [],
      "metadata": {
        "id": "DUuUqXb4VyJe"
      },
      "id": "DUuUqXb4VyJe",
      "execution_count": null,
      "outputs": []
    },
    {
      "cell_type": "markdown",
      "metadata": {
        "id": "PuhlSjH_jNTF"
      },
      "source": [
        "Find the elements which are Fruits but not colors (using set.difference() )"
      ],
      "id": "PuhlSjH_jNTF"
    },
    {
      "cell_type": "code",
      "execution_count": 50,
      "metadata": {
        "id": "gBaxHXrfjNTF",
        "outputId": "74eb4ee2-d101-497c-966d-35572008bbeb",
        "colab": {
          "base_uri": "https://localhost:8080/"
        }
      },
      "outputs": [
        {
          "output_type": "stream",
          "name": "stdout",
          "text": [
            "Fruits that are not colors: {'grapes', 'apples'}\n"
          ]
        }
      ],
      "source": [
        "fruits_not_colors = fruits_set.difference(colors_set)\n",
        "\n",
        "print(\"Fruits that are not colors:\", fruits_not_colors)"
      ],
      "id": "gBaxHXrfjNTF"
    },
    {
      "cell_type": "code",
      "execution_count": null,
      "metadata": {
        "id": "rB2YvWrWPPZ8"
      },
      "outputs": [],
      "source": [],
      "id": "rB2YvWrWPPZ8"
    },
    {
      "cell_type": "markdown",
      "metadata": {
        "id": "hLZeBta3jNTF"
      },
      "source": [
        "## TUPLES"
      ],
      "id": "hLZeBta3jNTF"
    },
    {
      "cell_type": "markdown",
      "metadata": {
        "id": "Nerhdg66jNTF"
      },
      "source": [
        "### Create temp = [17, ’Virat’, 50.0]"
      ],
      "id": "Nerhdg66jNTF"
    },
    {
      "cell_type": "code",
      "execution_count": 51,
      "metadata": {
        "id": "71zGhmvsPPZ9"
      },
      "outputs": [],
      "source": [
        "temp = [17, 'Virat', 50.0]"
      ],
      "id": "71zGhmvsPPZ9"
    },
    {
      "cell_type": "markdown",
      "metadata": {
        "id": "C0IuMJFijNTG"
      },
      "source": [
        "Iterate through temp and print all the items in temp"
      ],
      "id": "C0IuMJFijNTG"
    },
    {
      "cell_type": "code",
      "execution_count": 52,
      "metadata": {
        "id": "CSKY_cgHjNTG",
        "outputId": "0a3d9287-8403-46be-8da1-ecd5eebe4dd1",
        "colab": {
          "base_uri": "https://localhost:8080/"
        }
      },
      "outputs": [
        {
          "output_type": "stream",
          "name": "stdout",
          "text": [
            "17\n",
            "Virat\n",
            "50.0\n"
          ]
        }
      ],
      "source": [
        "for i in temp:\n",
        "  print(i)\n"
      ],
      "id": "CSKY_cgHjNTG"
    },
    {
      "cell_type": "markdown",
      "metadata": {
        "id": "gI0kBGQ1jNTG"
      },
      "source": [
        "replace first element with 11 in temp"
      ],
      "id": "gI0kBGQ1jNTG"
    },
    {
      "cell_type": "code",
      "execution_count": 53,
      "metadata": {
        "id": "p6JCtyOBjNTG"
      },
      "outputs": [],
      "source": [
        "temp[0] = 11"
      ],
      "id": "p6JCtyOBjNTG"
    },
    {
      "cell_type": "markdown",
      "metadata": {
        "id": "JV3b34AdjNTG"
      },
      "source": [
        "Set temp1 = tuple(temp)"
      ],
      "id": "JV3b34AdjNTG"
    },
    {
      "cell_type": "code",
      "execution_count": 54,
      "metadata": {
        "id": "ud7qIo9JPPZ-"
      },
      "outputs": [],
      "source": [
        "temp1 = tuple(temp)"
      ],
      "id": "ud7qIo9JPPZ-"
    },
    {
      "cell_type": "markdown",
      "metadata": {
        "id": "Z9LJWgBkjNTG"
      },
      "source": [
        "Iterate through temp1 and print all the items in temp1."
      ],
      "id": "Z9LJWgBkjNTG"
    },
    {
      "cell_type": "code",
      "execution_count": 55,
      "metadata": {
        "id": "t0v-FZsNjNTH",
        "outputId": "d4793b64-92d8-478b-e397-1a2b6f8bc228",
        "colab": {
          "base_uri": "https://localhost:8080/"
        }
      },
      "outputs": [
        {
          "output_type": "stream",
          "name": "stdout",
          "text": [
            "11\n",
            "Virat\n",
            "50.0\n"
          ]
        }
      ],
      "source": [
        "for i in temp1:\n",
        "  print(i)\n",
        "\n"
      ],
      "id": "t0v-FZsNjNTH"
    },
    {
      "cell_type": "markdown",
      "metadata": {
        "id": "A4FXMQDfjNTH"
      },
      "source": [
        "replace first element with 17 in temp1"
      ],
      "id": "A4FXMQDfjNTH"
    },
    {
      "cell_type": "code",
      "execution_count": 58,
      "metadata": {
        "id": "eioDSdW8jNTH"
      },
      "outputs": [],
      "source": [
        "temp1_list = list(temp1)  # Convert to list\n",
        "temp1_list[0] = 17        # Modify\n",
        "temp1 = tuple(temp1_list) # Convert back (optional)\n"
      ],
      "id": "eioDSdW8jNTH"
    },
    {
      "cell_type": "code",
      "source": [
        "temp1"
      ],
      "metadata": {
        "colab": {
          "base_uri": "https://localhost:8080/"
        },
        "id": "djDUEGGnXVrA",
        "outputId": "6304b72b-211b-4186-c79f-8073008a9a92"
      },
      "id": "djDUEGGnXVrA",
      "execution_count": 59,
      "outputs": [
        {
          "output_type": "execute_result",
          "data": {
            "text/plain": [
              "(17, 'Virat', 50.0)"
            ]
          },
          "metadata": {},
          "execution_count": 59
        }
      ]
    },
    {
      "cell_type": "markdown",
      "metadata": {
        "id": "IuGIObFZjNTH"
      },
      "source": [
        "<b>Oops!! You got an error. Hey Don't worry! Its because Once a tuple is created, you cannot change its values unlike list.</b>"
      ],
      "id": "IuGIObFZjNTH"
    },
    {
      "cell_type": "markdown",
      "metadata": {
        "id": "ExB_cM1ZjNTH"
      },
      "source": [
        "### Create city = (\"Bangalore\", 28.9949521, 72)"
      ],
      "id": "ExB_cM1ZjNTH"
    },
    {
      "cell_type": "code",
      "execution_count": 60,
      "metadata": {
        "id": "fWz52DjjjNTH"
      },
      "outputs": [],
      "source": [
        "city = (\"Bangalore\", 28.9949521, 72)"
      ],
      "id": "fWz52DjjjNTH"
    },
    {
      "cell_type": "markdown",
      "metadata": {
        "id": "v4ipyqXsjNTH"
      },
      "source": [
        "Print first element of city"
      ],
      "id": "v4ipyqXsjNTH"
    },
    {
      "cell_type": "code",
      "execution_count": 61,
      "metadata": {
        "id": "KJHMuFk1jNTI",
        "outputId": "ef7245c2-6ce4-48e7-f0e8-b09fc3e4a921",
        "colab": {
          "base_uri": "https://localhost:8080/"
        }
      },
      "outputs": [
        {
          "output_type": "stream",
          "name": "stdout",
          "text": [
            "Bangalore\n"
          ]
        }
      ],
      "source": [
        "print(city[0])"
      ],
      "id": "KJHMuFk1jNTI"
    },
    {
      "cell_type": "markdown",
      "metadata": {
        "id": "N5FoHg4ujNTI"
      },
      "source": [
        "Create city2 = (‘Chennai’, 30.01, 74)"
      ],
      "id": "N5FoHg4ujNTI"
    },
    {
      "cell_type": "code",
      "execution_count": 63,
      "metadata": {
        "id": "fYuGqbDEjNTI"
      },
      "outputs": [],
      "source": [
        "city2 = ('Chennai', 30.01, 74)"
      ],
      "id": "fYuGqbDEjNTI"
    },
    {
      "cell_type": "markdown",
      "metadata": {
        "id": "0gz-HACUjNTI"
      },
      "source": [
        "Create cities which consist of city and city2"
      ],
      "id": "0gz-HACUjNTI"
    },
    {
      "cell_type": "code",
      "execution_count": 64,
      "metadata": {
        "id": "5dTN1LQPjNTI"
      },
      "outputs": [],
      "source": [
        "cities = (city, city2)"
      ],
      "id": "5dTN1LQPjNTI"
    },
    {
      "cell_type": "markdown",
      "metadata": {
        "id": "He-teRi2jNTI"
      },
      "source": [
        "Print cities"
      ],
      "id": "He-teRi2jNTI"
    },
    {
      "cell_type": "code",
      "execution_count": 65,
      "metadata": {
        "id": "ISySNfxGjNTI",
        "outputId": "5017020e-5ea6-46d6-e38e-e9083e353f15",
        "colab": {
          "base_uri": "https://localhost:8080/"
        }
      },
      "outputs": [
        {
          "output_type": "stream",
          "name": "stdout",
          "text": [
            "(('Bangalore', 28.9949521, 72), ('Chennai', 30.01, 74))\n"
          ]
        }
      ],
      "source": [
        "print(cities)"
      ],
      "id": "ISySNfxGjNTI"
    },
    {
      "cell_type": "markdown",
      "metadata": {
        "id": "brFx6-rtjNTJ"
      },
      "source": [
        "Print type of first element in cities"
      ],
      "id": "brFx6-rtjNTJ"
    },
    {
      "cell_type": "code",
      "execution_count": 66,
      "metadata": {
        "id": "CmIifGybjNTJ",
        "outputId": "1e61825e-572b-4f2f-d74f-09fa991b80bd",
        "colab": {
          "base_uri": "https://localhost:8080/"
        }
      },
      "outputs": [
        {
          "output_type": "stream",
          "name": "stdout",
          "text": [
            "('Bangalore', 28.9949521, 72)\n"
          ]
        }
      ],
      "source": [
        "print(cities[0])"
      ],
      "id": "CmIifGybjNTJ"
    },
    {
      "cell_type": "markdown",
      "metadata": {
        "id": "jtk8J_yHjNTJ"
      },
      "source": [
        "print the type of cities\n"
      ],
      "id": "jtk8J_yHjNTJ"
    },
    {
      "cell_type": "code",
      "execution_count": 67,
      "metadata": {
        "id": "y9rdG29XjNTJ",
        "outputId": "344b37e8-ea7b-447e-c592-a7ca0969218b",
        "colab": {
          "base_uri": "https://localhost:8080/"
        }
      },
      "outputs": [
        {
          "output_type": "execute_result",
          "data": {
            "text/plain": [
              "tuple"
            ]
          },
          "metadata": {},
          "execution_count": 67
        }
      ],
      "source": [
        "type(cities)"
      ],
      "id": "y9rdG29XjNTJ"
    },
    {
      "cell_type": "markdown",
      "metadata": {
        "id": "uXHSadWqjNTJ"
      },
      "source": [
        "Hey that implies you made a nested tuples!!"
      ],
      "id": "uXHSadWqjNTJ"
    },
    {
      "cell_type": "markdown",
      "metadata": {
        "id": "zViY-S_djNTJ"
      },
      "source": [
        "## DICTIONARY"
      ],
      "id": "zViY-S_djNTJ"
    },
    {
      "cell_type": "markdown",
      "metadata": {
        "id": "4NjUxRaZjNTK"
      },
      "source": [
        "### Create a dictionary d = {\"actor\":\"amir\",\"animal\":\"cat\",\"earth\":2,\"list\":[23,32,12]}"
      ],
      "id": "4NjUxRaZjNTK"
    },
    {
      "cell_type": "code",
      "execution_count": 68,
      "metadata": {
        "id": "UCtEFPI4jNTK"
      },
      "outputs": [],
      "source": [
        "d = {\"actor\":\"amir\",\"animal\":\"cat\",\"earth\":2,\"list\":[23,32,12]}"
      ],
      "id": "UCtEFPI4jNTK"
    },
    {
      "cell_type": "markdown",
      "metadata": {
        "id": "OamenDk8jNTK"
      },
      "source": [
        "Print the value of d[0]"
      ],
      "id": "OamenDk8jNTK"
    },
    {
      "cell_type": "code",
      "execution_count": 69,
      "metadata": {
        "id": "gion3awcjNTK",
        "outputId": "bec96258-94b6-4d27-8989-0fa9ec81b599",
        "colab": {
          "base_uri": "https://localhost:8080/",
          "height": 141
        }
      },
      "outputs": [
        {
          "output_type": "error",
          "ename": "KeyError",
          "evalue": "0",
          "traceback": [
            "\u001b[0;31m---------------------------------------------------------------------------\u001b[0m",
            "\u001b[0;31mKeyError\u001b[0m                                  Traceback (most recent call last)",
            "\u001b[0;32m/tmp/ipython-input-69-3182514651.py\u001b[0m in \u001b[0;36m<cell line: 0>\u001b[0;34m()\u001b[0m\n\u001b[0;32m----> 1\u001b[0;31m \u001b[0mprint\u001b[0m\u001b[0;34m(\u001b[0m \u001b[0md\u001b[0m\u001b[0;34m[\u001b[0m\u001b[0;36m0\u001b[0m\u001b[0;34m]\u001b[0m\u001b[0;34m)\u001b[0m\u001b[0;34m\u001b[0m\u001b[0;34m\u001b[0m\u001b[0m\n\u001b[0m",
            "\u001b[0;31mKeyError\u001b[0m: 0"
          ]
        }
      ],
      "source": [
        "print( d[0])"
      ],
      "id": "gion3awcjNTK"
    },
    {
      "cell_type": "markdown",
      "metadata": {
        "id": "XYtrrUigjNTK"
      },
      "source": [
        "<b>Oops!! again an error. again a fun fact. Dictionary return the value for key if key is in the dictionary, else throws KeyError\n",
        "and we don't have key 0 here :( </b>"
      ],
      "id": "XYtrrUigjNTK"
    },
    {
      "cell_type": "markdown",
      "metadata": {
        "id": "62VXYnw1jNTK"
      },
      "source": [
        "Store the value of d[‘actor’] to a new variable actor."
      ],
      "id": "62VXYnw1jNTK"
    },
    {
      "cell_type": "code",
      "execution_count": 70,
      "metadata": {
        "id": "kkBfNz81jNTK",
        "colab": {
          "base_uri": "https://localhost:8080/"
        },
        "outputId": "7d50681e-e9be-4c09-daf2-db25f3c7fb6d"
      },
      "outputs": [
        {
          "output_type": "stream",
          "name": "stdout",
          "text": [
            "new value\n"
          ]
        }
      ],
      "source": [
        "\n",
        "# Add a new key-value pair\n",
        "d[0] = \"new value\"  # Now d has key `0`\n",
        "print(d[0])         # Output: \"new value\""
      ],
      "id": "kkBfNz81jNTK"
    },
    {
      "cell_type": "code",
      "source": [
        "actor = d['actor']  # Store the value of key 'actor' into variable 'actor'\n",
        "print(actor)       # Print the value"
      ],
      "metadata": {
        "colab": {
          "base_uri": "https://localhost:8080/"
        },
        "id": "JdAg4JZBZCPt",
        "outputId": "6de96644-2b3c-4439-f57b-482390babfe1"
      },
      "id": "JdAg4JZBZCPt",
      "execution_count": 72,
      "outputs": [
        {
          "output_type": "stream",
          "name": "stdout",
          "text": [
            "amir\n"
          ]
        }
      ]
    },
    {
      "cell_type": "markdown",
      "metadata": {
        "id": "uFfuF569jNTL"
      },
      "source": [
        "Print the type of actor"
      ],
      "id": "uFfuF569jNTL"
    },
    {
      "cell_type": "code",
      "execution_count": 73,
      "metadata": {
        "id": "bKbFXBxyjNTL",
        "outputId": "67aad249-6d50-40fd-f306-2ac3473a6ee8",
        "colab": {
          "base_uri": "https://localhost:8080/"
        }
      },
      "outputs": [
        {
          "output_type": "stream",
          "name": "stdout",
          "text": [
            "<class 'str'>\n"
          ]
        }
      ],
      "source": [
        "print(type(d['actor']))"
      ],
      "id": "bKbFXBxyjNTL"
    },
    {
      "cell_type": "markdown",
      "metadata": {
        "id": "y549qN04jNTL"
      },
      "source": [
        "Store the value of d[‘list’] in new variable List."
      ],
      "id": "y549qN04jNTL"
    },
    {
      "cell_type": "code",
      "execution_count": 74,
      "metadata": {
        "id": "I7GyOK8DjNTL",
        "colab": {
          "base_uri": "https://localhost:8080/"
        },
        "outputId": "c7530d54-419c-4a28-a9d9-5bc5102bb78f"
      },
      "outputs": [
        {
          "output_type": "stream",
          "name": "stdout",
          "text": [
            "[23, 32, 12]\n"
          ]
        }
      ],
      "source": [
        "List = d['list']  # Store the value of key 'list' in variable List\n",
        "print(List)      # Print the value"
      ],
      "id": "I7GyOK8DjNTL"
    },
    {
      "cell_type": "markdown",
      "metadata": {
        "id": "Ul1YMiuNjNTL"
      },
      "source": [
        "Print the type of List."
      ],
      "id": "Ul1YMiuNjNTL"
    },
    {
      "cell_type": "code",
      "execution_count": 75,
      "metadata": {
        "id": "V0VdG9y_jNTL",
        "outputId": "caa77c52-34c1-4418-85e8-2338c2608eac",
        "colab": {
          "base_uri": "https://localhost:8080/"
        }
      },
      "outputs": [
        {
          "output_type": "stream",
          "name": "stdout",
          "text": [
            "<class 'list'>\n"
          ]
        }
      ],
      "source": [
        "print(type(List))"
      ],
      "id": "V0VdG9y_jNTL"
    },
    {
      "cell_type": "markdown",
      "metadata": {
        "id": "A0CEMABhjNTL"
      },
      "source": [
        "Create d1 = { ‘singer’ : ‘Kr$na’ , ‘album’: ‘Still here’, ‘genre’ : ‘hip-hop’}"
      ],
      "id": "A0CEMABhjNTL"
    },
    {
      "cell_type": "code",
      "execution_count": 77,
      "metadata": {
        "id": "FCGCw5FEjNTL",
        "colab": {
          "base_uri": "https://localhost:8080/"
        },
        "outputId": "fb632eeb-2212-4ac8-cab0-f68f7edd5502"
      },
      "outputs": [
        {
          "output_type": "stream",
          "name": "stdout",
          "text": [
            "{'singer': 'Kr$na', 'album': 'Still here', 'genre': 'hip-hop'}\n",
            "Kr$na\n",
            "Still here\n"
          ]
        }
      ],
      "source": [
        "d1 = { 'singer' : 'Kr$na' , 'album': 'Still here', 'genre' : 'hip-hop'}\n",
        "print(d1)\n",
        "print(d1['singer'])  # Output: 'Kr$na'\n",
        "print(d1.get('album'))  # Output: 'Still here'"
      ],
      "id": "FCGCw5FEjNTL"
    },
    {
      "cell_type": "markdown",
      "metadata": {
        "id": "ybGIILrLjNTM"
      },
      "source": [
        "Merge d1 into d."
      ],
      "id": "ybGIILrLjNTM"
    },
    {
      "cell_type": "code",
      "execution_count": 78,
      "metadata": {
        "id": "UmDbbQJPjNTM",
        "colab": {
          "base_uri": "https://localhost:8080/"
        },
        "outputId": "35749946-a31b-4162-820e-020fe0c3783a"
      },
      "outputs": [
        {
          "output_type": "stream",
          "name": "stdout",
          "text": [
            "{'actor': 'amir', 'animal': 'cat', 'earth': 2, 'list': [23, 32, 12], 0: 'new value', 'singer': 'Kr$na', 'album': 'Still here', 'genre': 'hip-hop'}\n"
          ]
        }
      ],
      "source": [
        "d.update(d1)  # Merges d1 into d\n",
        "print(d)"
      ],
      "id": "UmDbbQJPjNTM"
    },
    {
      "cell_type": "markdown",
      "metadata": {
        "id": "jhAPX45ZjNTM"
      },
      "source": [
        "print d"
      ],
      "id": "jhAPX45ZjNTM"
    },
    {
      "cell_type": "code",
      "execution_count": 79,
      "metadata": {
        "id": "785S26ryjNTM",
        "outputId": "23875498-0923-4249-913a-c81aa0578b17",
        "colab": {
          "base_uri": "https://localhost:8080/"
        }
      },
      "outputs": [
        {
          "output_type": "stream",
          "name": "stdout",
          "text": [
            "{'actor': 'amir', 'animal': 'cat', 'earth': 2, 'list': [23, 32, 12], 0: 'new value', 'singer': 'Kr$na', 'album': 'Still here', 'genre': 'hip-hop'}\n"
          ]
        }
      ],
      "source": [
        "print(d)"
      ],
      "id": "785S26ryjNTM"
    },
    {
      "cell_type": "markdown",
      "metadata": {
        "id": "9E852mY2jNTM"
      },
      "source": [
        "Print all the keys in d"
      ],
      "id": "9E852mY2jNTM"
    },
    {
      "cell_type": "code",
      "execution_count": 80,
      "metadata": {
        "id": "7K843OrLjNTM",
        "outputId": "0c980288-f110-4b52-9381-441165fb9c28",
        "colab": {
          "base_uri": "https://localhost:8080/"
        }
      },
      "outputs": [
        {
          "output_type": "stream",
          "name": "stdout",
          "text": [
            "['actor', 'animal', 'earth', 'list', 0, 'singer', 'album', 'genre']\n"
          ]
        }
      ],
      "source": [
        "print(list(d.keys()))"
      ],
      "id": "7K843OrLjNTM"
    },
    {
      "cell_type": "markdown",
      "metadata": {
        "id": "fiuzxbGkjNTN"
      },
      "source": [
        "Print all the values in d"
      ],
      "id": "fiuzxbGkjNTN"
    },
    {
      "cell_type": "code",
      "execution_count": 81,
      "metadata": {
        "id": "Pyhh6r0pjNTN",
        "outputId": "6247ac82-165f-41cd-eaa6-a83c0c8181e9",
        "colab": {
          "base_uri": "https://localhost:8080/"
        }
      },
      "outputs": [
        {
          "output_type": "stream",
          "name": "stdout",
          "text": [
            "['amir', 'cat', 2, [23, 32, 12], 'new value', 'Kr$na', 'Still here', 'hip-hop']\n"
          ]
        }
      ],
      "source": [
        "print(list(d.values()))"
      ],
      "id": "Pyhh6r0pjNTN"
    },
    {
      "cell_type": "markdown",
      "metadata": {
        "id": "XSoe8GWmjNTN"
      },
      "source": [
        "Iterate over d, and print each key, value pair as this - (actor ----> amir)"
      ],
      "id": "XSoe8GWmjNTN"
    },
    {
      "cell_type": "code",
      "execution_count": 82,
      "metadata": {
        "id": "O0iW9kiqjNTO",
        "outputId": "3ec2c9ba-b833-4eb3-ac5c-7d880878d039",
        "colab": {
          "base_uri": "https://localhost:8080/"
        }
      },
      "outputs": [
        {
          "output_type": "stream",
          "name": "stdout",
          "text": [
            "(actor ----> amir)\n",
            "(animal ----> cat)\n",
            "(earth ----> 2)\n",
            "(list ----> [23, 32, 12])\n",
            "(0 ----> new value)\n",
            "(singer ----> Kr$na)\n",
            "(album ----> Still here)\n",
            "(genre ----> hip-hop)\n"
          ]
        }
      ],
      "source": [
        "for key, value in d.items():\n",
        "    print(f\"({key} ----> {value})\")"
      ],
      "id": "O0iW9kiqjNTO"
    },
    {
      "cell_type": "markdown",
      "metadata": {
        "id": "Hhzm-EIsjNTO"
      },
      "source": [
        "count the number of occurences of charachters in string named \"sent\" using dictionary and print the same.\n"
      ],
      "id": "Hhzm-EIsjNTO"
    },
    {
      "cell_type": "code",
      "execution_count": 83,
      "metadata": {
        "id": "IvRlvUAljNTP",
        "outputId": "c35483c2-89ca-4a6b-f7f7-f986c89f261b",
        "colab": {
          "base_uri": "https://localhost:8080/"
        }
      },
      "outputs": [
        {
          "output_type": "stream",
          "name": "stdout",
          "text": [
            "{'C': 2, 'o': 6, 'r': 4, 'n': 3, 'a': 2, 'v': 1, 'i': 1, 'u': 3, 's': 3, ' ': 5, 'e': 2, 'd': 4, 'L': 1, 'c': 1, 'k': 1, 'w': 1, 'A': 1, 'T': 1, 'h': 1, 'W': 1, 'l': 1, '.': 1}\n"
          ]
        }
      ],
      "source": [
        "# Initialize an empty dictionary\n",
        "char_count = {}\n",
        "\n",
        "# Iterate through each character in the string\n",
        "for char in sent:\n",
        "    # If character already exists in dictionary, increment its count\n",
        "    if char in char_count:\n",
        "        char_count[char] += 1\n",
        "    # Otherwise, add it to dictionary with count 1\n",
        "    else:\n",
        "        char_count[char] = 1\n",
        "\n",
        "# Print the character count dictionary\n",
        "print(char_count)\n",
        "\n"
      ],
      "id": "IvRlvUAljNTP"
    },
    {
      "cell_type": "code",
      "execution_count": 84,
      "metadata": {
        "id": "ebNwyxUujNTP",
        "colab": {
          "base_uri": "https://localhost:8080/"
        },
        "outputId": "e47d0636-bda7-4f4d-f171-e83383248749"
      },
      "outputs": [
        {
          "output_type": "stream",
          "name": "stdout",
          "text": [
            "{'C': 2, 'o': 6, 'r': 4, 'n': 3, 'a': 2, 'v': 1, 'i': 1, 'u': 3, 's': 3, ' ': 5, 'e': 2, 'd': 4, 'L': 1, 'c': 1, 'k': 1, 'w': 1, 'A': 1, 'T': 1, 'h': 1, 'W': 1, 'l': 1, '.': 1}\n"
          ]
        }
      ],
      "source": [
        "from collections import Counter\n",
        "char_count = Counter(sent)\n",
        "print(dict(char_count))"
      ],
      "id": "ebNwyxUujNTP"
    }
  ],
  "metadata": {
    "colab": {
      "provenance": [],
      "include_colab_link": true
    },
    "kernelspec": {
      "display_name": "Python 3",
      "language": "python",
      "name": "python3"
    },
    "language_info": {
      "codemirror_mode": {
        "name": "ipython",
        "version": 3
      },
      "file_extension": ".py",
      "mimetype": "text/x-python",
      "name": "python",
      "nbconvert_exporter": "python",
      "pygments_lexer": "ipython3",
      "version": "3.7.4"
    }
  },
  "nbformat": 4,
  "nbformat_minor": 5
}