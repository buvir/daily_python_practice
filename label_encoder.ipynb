{
 "cells": [
  {
   "cell_type": "code",
   "execution_count": 1,
   "id": "52d8c55e",
   "metadata": {},
   "outputs": [],
   "source": [
    "import pandas as pd \n",
    "from sklearn.preprocessing import LabelEncoder"
   ]
  },
  {
   "cell_type": "code",
   "execution_count": 2,
   "id": "6ca70fa0",
   "metadata": {},
   "outputs": [
    {
     "name": "stdout",
     "output_type": "stream",
     "text": [
      "      item   color    size\n",
      "0    Shirt    blue  medium\n",
      "1    jeans   black   large\n",
      "2    Dress     red   small\n",
      "3  t-shirt   white  medium\n",
      "4    skirt  yellow   large\n"
     ]
    }
   ],
   "source": [
    "# Example DataFrame creation\n",
    "data = {\n",
    "    'item': ['Shirt', 'jeans', 'Dress', 't-shirt', 'skirt'],\n",
    "    'color': ['blue', 'black', 'red', 'white', 'yellow'],\n",
    "    'size': ['medium', 'large', 'small', 'medium', 'large']\n",
    "}\n",
    "\n",
    "df = pd.DataFrame(data)\n",
    "print(df)\n",
    "  "
   ]
  },
  {
   "cell_type": "code",
   "execution_count": 3,
   "id": "3abb5cd5",
   "metadata": {},
   "outputs": [],
   "source": [
    "encoder = LabelEncoder()"
   ]
  },
  {
   "cell_type": "code",
   "execution_count": 4,
   "id": "3473b444",
   "metadata": {},
   "outputs": [
    {
     "name": "stdout",
     "output_type": "stream",
     "text": [
      "      item   color    size  Encoded_Size\n",
      "0    Shirt    blue  medium             1\n",
      "1    jeans   black   large             0\n",
      "2    Dress     red   small             2\n",
      "3  t-shirt   white  medium             1\n",
      "4    skirt  yellow   large             0\n"
     ]
    }
   ],
   "source": [
    "df['Encoded_Size'] =encoder.fit_transform(df['size'])\n",
    "# df['Encoded_Color'] = encoder.fit_transform(df['color'])    \n",
    "\n",
    "print(df)"
   ]
  },
  {
   "cell_type": "markdown",
   "id": "a37ac419",
   "metadata": {},
   "source": []
  },
  {
   "cell_type": "markdown",
   "id": "c9e2efef",
   "metadata": {},
   "source": [
    "# One_hot_encodding"
   ]
  },
  {
   "cell_type": "markdown",
   "id": "93a4a219",
   "metadata": {},
   "source": [
    "One_hot encoding is a technique used in machine learning to convert categorical variables into a format that can be provided to ML algorithms to do a better job in prediction. It creates binary columns for each category and assigns a 1 or 0 to indicate the presence of that category. "
   ]
  }
 ],
 "metadata": {
  "kernelspec": {
   "display_name": ".venv",
   "language": "python",
   "name": "python3"
  },
  "language_info": {
   "codemirror_mode": {
    "name": "ipython",
    "version": 3
   },
   "file_extension": ".py",
   "mimetype": "text/x-python",
   "name": "python",
   "nbconvert_exporter": "python",
   "pygments_lexer": "ipython3",
   "version": "3.12.1"
  }
 },
 "nbformat": 4,
 "nbformat_minor": 5
}
